{
 "cells": [
  {
   "cell_type": "code",
   "execution_count": null,
   "metadata": {},
   "outputs": [],
   "source": [
    "if True:\n",
    "    %matplotlib notebook\n",
    "elif False:\n",
    "    %matplotlib inline\n",
    "else:\n",
    "    %matplotlib qt"
   ]
  },
  {
   "cell_type": "code",
   "execution_count": null,
   "metadata": {},
   "outputs": [],
   "source": [
    "import getpass\n",
    "\n",
    "import pyelegant as pe\n",
    "from pyelegant import nonlin"
   ]
  },
  {
   "cell_type": "code",
   "execution_count": null,
   "metadata": {},
   "outputs": [],
   "source": [
    "pe.std_print_enabled['out'] = False\n",
    "pe.std_print_enabled['err'] = True"
   ]
  },
  {
   "cell_type": "code",
   "execution_count": null,
   "metadata": {},
   "outputs": [],
   "source": [
    "LTE_filepath = 'nsls2cb65pm.lte'\n",
    "E_MeV = 3e3"
   ]
  },
  {
   "cell_type": "code",
   "execution_count": null,
   "metadata": {
    "scrolled": true
   },
   "outputs": [],
   "source": [
    "# %%timeit -n 1 -r 1\n",
    "# 2min 10s ± 0 ns per loop (mean ± std. dev. of 1 run, 1 loop each)\n",
    "if False:\n",
    "\n",
    "    n_turns = 128\n",
    "    n_lines = 21\n",
    "    xmax = 8e-3\n",
    "    ymax = 2e-3\n",
    "    ini_ndiv = 41\n",
    "    neg_y_search = False\n",
    "    \n",
    "    ntasks = n_lines\n",
    "\n",
    "    username = getpass.getuser()\n",
    "    remote_opts = dict(\n",
    "        use_sbatch=True, exit_right_after_sbatch=False, pelegant=True,\n",
    "        job_name='findaper', partition='short', ntasks=ntasks, #nodelist=['apcpu-004'],\n",
    "        #time='7:00',\n",
    "        #mail_type_end=True, mail_user=f'{username}@bnl.gov',\n",
    "    )\n",
    "\n",
    "    output_filepath = f'test_findAper_n{n_turns}.hdf5'\n",
    "    nonlin.calc_find_aper_nlines(\n",
    "        output_filepath, LTE_filepath, E_MeV, xmax=xmax, ymax=ymax, ini_ndiv=ini_ndiv,\n",
    "        n_lines=n_lines, neg_y_search=neg_y_search, n_turns=n_turns, \n",
    "        run_local=False, remote_opts=remote_opts)\n"
   ]
  },
  {
   "cell_type": "code",
   "execution_count": null,
   "metadata": {},
   "outputs": [],
   "source": [
    "output_filepath = 'test_findAper_n128.hdf5'\n",
    "\n",
    "title = f'$\\mathrm{{{LTE_filepath}}}$'\n",
    "\n",
    "nonlin.plot_find_aper_nlines(output_filepath, title=title)"
   ]
  },
  {
   "cell_type": "code",
   "execution_count": null,
   "metadata": {},
   "outputs": [],
   "source": []
  }
 ],
 "metadata": {
  "kernelspec": {
   "display_name": "Python 3",
   "language": "python",
   "name": "python3"
  },
  "varInspector": {
   "cols": {
    "lenName": 16,
    "lenType": 16,
    "lenVar": 40
   },
   "kernels_config": {
    "python": {
     "delete_cmd_postfix": "",
     "delete_cmd_prefix": "del ",
     "library": "var_list.py",
     "varRefreshCmd": "print(var_dic_list())"
    },
    "r": {
     "delete_cmd_postfix": ") ",
     "delete_cmd_prefix": "rm(",
     "library": "var_list.r",
     "varRefreshCmd": "cat(var_dic_list()) "
    }
   },
   "types_to_exclude": [
    "module",
    "function",
    "builtin_function_or_method",
    "instance",
    "_Feature"
   ],
   "window_display": false
  }
 },
 "nbformat": 4,
 "nbformat_minor": 2
}
