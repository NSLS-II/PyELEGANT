{
 "cells": [
  {
   "cell_type": "code",
   "execution_count": null,
   "metadata": {},
   "outputs": [],
   "source": [
    "if True:\n",
    "    %matplotlib notebook\n",
    "elif False:\n",
    "    %matplotlib inline\n",
    "else:\n",
    "    %matplotlib qt"
   ]
  },
  {
   "cell_type": "code",
   "execution_count": null,
   "metadata": {},
   "outputs": [],
   "source": [
    "import getpass\n",
    "\n",
    "import pyelegant as pe\n",
    "from pyelegant import nonlin"
   ]
  },
  {
   "cell_type": "code",
   "execution_count": null,
   "metadata": {},
   "outputs": [],
   "source": [
    "pe.disable_stdout()\n",
    "\n",
    "if True:\n",
    "    remote_mail_notifications = {}\n",
    "else:\n",
    "    username = getpass.getuser()\n",
    "    remote_mail_notifications = dict(\n",
    "        mail_type='END',\n",
    "        mail_user=f'{username}@bnl.gov',\n",
    "    )"
   ]
  },
  {
   "cell_type": "code",
   "execution_count": null,
   "metadata": {},
   "outputs": [],
   "source": [
    "LTE_filepath = 'nsls2cb65pm.lte'\n",
    "E_MeV = 3e3"
   ]
  },
  {
   "cell_type": "code",
   "execution_count": null,
   "metadata": {
    "scrolled": true
   },
   "outputs": [],
   "source": [
    "%%timeit -n 1 -r 1\n",
    "# 2min 10s ± 0 ns per loop (mean ± std. dev. of 1 run, 1 loop each) on nsls2apcluster\n",
    "# 1min 55s ± 0 ns per loop (mean ± std. dev. of 1 run, 1 loop each) on nsls2pluto\n",
    "\n",
    "if False:\n",
    "\n",
    "    n_turns = 128\n",
    "    n_lines = 21\n",
    "    xmax = 8e-3\n",
    "    ymax = 2e-3\n",
    "    ini_ndiv = 41\n",
    "    neg_y_search = False\n",
    "    \n",
    "    ntasks = n_lines\n",
    "\n",
    "    remote_opts = dict(\n",
    "        pelegant=True, job_name='findaper', ntasks=ntasks,\n",
    "        sbatch={'use': True, 'wait': True},\n",
    "    )\n",
    "    remote_opts.update(remote_mail_notifications)\n",
    "    if pe.facility_name == 'nsls2apcluster':\n",
    "        remote_opts['partition'] = 'short'\n",
    "        remote_opts['time'] = '5:00'\n",
    "        #remote_opts['nodelist'] = ['apcpu-004']\n",
    "    elif pe.facility_name == 'nsls2pluto':\n",
    "        remote_opts['partition'] = 'normal'\n",
    "        remote_opts['qos'] = 'debug'\n",
    "        remote_opts['time'] = '5:00'\n",
    "        #remote_opts['nodelist'] = ['hpc005']\n",
    "\n",
    "    output_filepath = f'test_findAper_n{n_turns}.hdf5'\n",
    "    nonlin.calc_find_aper_nlines(\n",
    "        output_filepath, LTE_filepath, E_MeV, xmax=xmax, ymax=ymax, ini_ndiv=ini_ndiv,\n",
    "        n_lines=n_lines, neg_y_search=neg_y_search, n_turns=n_turns, \n",
    "        run_local=False, remote_opts=remote_opts)\n"
   ]
  },
  {
   "cell_type": "code",
   "execution_count": null,
   "metadata": {},
   "outputs": [],
   "source": [
    "output_filepath = 'test_findAper_n128.hdf5'\n",
    "\n",
    "title = f'$\\mathrm{{{LTE_filepath}}}$'\n",
    "\n",
    "nonlin.plot_find_aper_nlines(output_filepath, title=title)"
   ]
  },
  {
   "cell_type": "code",
   "execution_count": null,
   "metadata": {},
   "outputs": [],
   "source": []
  }
 ],
 "metadata": {
  "kernelspec": {
   "display_name": "Python 3",
   "language": "python",
   "name": "python3"
  },
  "language_info": {
   "codemirror_mode": {
    "name": "ipython",
    "version": 3
   },
   "file_extension": ".py",
   "mimetype": "text/x-python",
   "name": "python",
   "nbconvert_exporter": "python",
   "pygments_lexer": "ipython3",
   "version": "3.8.8"
  },
  "varInspector": {
   "cols": {
    "lenName": 16,
    "lenType": 16,
    "lenVar": 40
   },
   "kernels_config": {
    "python": {
     "delete_cmd_postfix": "",
     "delete_cmd_prefix": "del ",
     "library": "var_list.py",
     "varRefreshCmd": "print(var_dic_list())"
    },
    "r": {
     "delete_cmd_postfix": ") ",
     "delete_cmd_prefix": "rm(",
     "library": "var_list.r",
     "varRefreshCmd": "cat(var_dic_list()) "
    }
   },
   "types_to_exclude": [
    "module",
    "function",
    "builtin_function_or_method",
    "instance",
    "_Feature"
   ],
   "window_display": false
  }
 },
 "nbformat": 4,
 "nbformat_minor": 2
}
