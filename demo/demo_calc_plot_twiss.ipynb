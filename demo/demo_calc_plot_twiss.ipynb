{
 "cells": [
  {
   "cell_type": "code",
   "execution_count": null,
   "metadata": {},
   "outputs": [],
   "source": [
    "if True:\n",
    "    %matplotlib notebook\n",
    "elif False:\n",
    "    %matplotlib inline\n",
    "else:\n",
    "    %matplotlib qt    "
   ]
  },
  {
   "cell_type": "code",
   "execution_count": null,
   "metadata": {},
   "outputs": [],
   "source": []
  },
  {
   "cell_type": "code",
   "execution_count": null,
   "metadata": {},
   "outputs": [],
   "source": [
    "import pyelegant as pe"
   ]
  },
  {
   "cell_type": "code",
   "execution_count": null,
   "metadata": {},
   "outputs": [],
   "source": [
    "help(pe.calc_ring_twiss)"
   ]
  },
  {
   "cell_type": "code",
   "execution_count": null,
   "metadata": {},
   "outputs": [],
   "source": [
    "LTE_filepath = 'lattice3Sext_19pm3p2m_5cell.lte'\n",
    "E_MeV = 3e3\n",
    "output_filepath = 'simple_ring_twiss.hdf5'\n",
    "\n",
    "pe.calc_ring_twiss(output_filepath, LTE_filepath, E_MeV)"
   ]
  },
  {
   "cell_type": "code",
   "execution_count": null,
   "metadata": {
    "scrolled": true
   },
   "outputs": [],
   "source": [
    "# Takes some time to show the plot\n",
    "pe.plot_twiss(output_filepath)"
   ]
  },
  {
   "cell_type": "code",
   "execution_count": null,
   "metadata": {},
   "outputs": [],
   "source": [
    "pe.plot_twiss(output_filepath, slim=[25.0, 50.0], s0_m=0.0, \n",
    "              print_scalars=['ex0', 'Jx', 'nux', 'dnuy/dp'])"
   ]
  },
  {
   "cell_type": "code",
   "execution_count": null,
   "metadata": {},
   "outputs": [],
   "source": [
    "pe.calc_ring_twiss(output_filepath, LTE_filepath, E_MeV, use_beamline='RING', radiation_integrals=True)"
   ]
  },
  {
   "cell_type": "code",
   "execution_count": null,
   "metadata": {},
   "outputs": [],
   "source": [
    "pe.plot_twiss(output_filepath, slim=[25.0, 50.0], s0_m=25.0, \n",
    "              print_scalars=['ex0', 'Jx', 'nux', 'dnuy/dp'])"
   ]
  },
  {
   "cell_type": "code",
   "execution_count": null,
   "metadata": {},
   "outputs": [],
   "source": [
    "pe.plot_twiss(output_filepath, slim=[25.0, 50.0], s0_m=25.0, s_margin_m=3.0, \n",
    "              print_scalars=['ex0', 'Jx', 'nux', 'dnuy/dp'])"
   ]
  },
  {
   "cell_type": "code",
   "execution_count": null,
   "metadata": {},
   "outputs": [],
   "source": [
    "output_filepath = 'simple_ring_twiss.pgz'\n",
    "\n",
    "tmp_filepaths = pe.calc_ring_twiss(output_filepath, LTE_filepath, E_MeV, radiation_integrals=True,\n",
    "                                  del_tmp_files=False)"
   ]
  },
  {
   "cell_type": "code",
   "execution_count": null,
   "metadata": {},
   "outputs": [],
   "source": [
    "tmp_filepaths"
   ]
  },
  {
   "cell_type": "code",
   "execution_count": null,
   "metadata": {},
   "outputs": [],
   "source": [
    "from pyelegant import util"
   ]
  },
  {
   "cell_type": "code",
   "execution_count": null,
   "metadata": {},
   "outputs": [],
   "source": [
    "d = util.load_pgz_file(output_filepath)\n",
    "d"
   ]
  },
  {
   "cell_type": "code",
   "execution_count": null,
   "metadata": {},
   "outputs": [],
   "source": [
    "betax0 = 3.0\n",
    "betay0 = 3.0\n",
    "alphax0=0.0\n",
    "alphay0=0.0\n",
    "etax0=0.0\n",
    "etay0=0.0\n",
    "etaxp0=0.0\n",
    "etayp0=0.0\n",
    "\n",
    "output_filepath = 'simple_line_twiss.hdf5'"
   ]
  },
  {
   "cell_type": "code",
   "execution_count": null,
   "metadata": {},
   "outputs": [],
   "source": [
    "pe.calc_line_twiss(\n",
    "    output_filepath, LTE_filepath, E_MeV, betax0, betay0, alphax0=alphax0, alphay0=alphay0,\n",
    "    etax0=etax0, etay0=etay0, etaxp0=etaxp0, etayp0=etayp0, radiation_integrals=True, \n",
    "    calc_correct_transport_line_linear_chrom=False)"
   ]
  },
  {
   "cell_type": "code",
   "execution_count": null,
   "metadata": {},
   "outputs": [],
   "source": [
    "# Takes some time to show the plot\n",
    "pe.plot_twiss(output_filepath)"
   ]
  },
  {
   "cell_type": "code",
   "execution_count": null,
   "metadata": {},
   "outputs": [],
   "source": []
  },
  {
   "cell_type": "code",
   "execution_count": null,
   "metadata": {},
   "outputs": [],
   "source": [
    "output_filepath = 'simple_ring_twiss.hdf5'"
   ]
  },
  {
   "cell_type": "code",
   "execution_count": null,
   "metadata": {},
   "outputs": [],
   "source": [
    "pe.calc_ring_twiss(output_filepath, LTE_filepath, E_MeV, run_local=False)"
   ]
  },
  {
   "cell_type": "code",
   "execution_count": null,
   "metadata": {
    "scrolled": true
   },
   "outputs": [],
   "source": [
    "pe.plot_twiss(output_filepath, slim=[25.0, 50.0], print_scalars=['ex0', 'Jx', 'nux', 'dnuy/dp'])"
   ]
  },
  {
   "cell_type": "code",
   "execution_count": null,
   "metadata": {},
   "outputs": [],
   "source": [
    "remote_opts = dict(\n",
    "    job_name='test', output='test.%J.out', error='test.%J.err',\n",
    "    partition='normal', time='10:00',\n",
    "    nodelist=['apcpu-001',], exclude=None\n",
    ")\n",
    "\n",
    "pe.calc_ring_twiss(output_filepath, LTE_filepath, E_MeV, run_local=False, remote_opts=remote_opts)"
   ]
  },
  {
   "cell_type": "code",
   "execution_count": null,
   "metadata": {},
   "outputs": [],
   "source": [
    "remote_opts = dict(\n",
    "    use_sbatch=True,\n",
    "    job_name='test', output='test.%J.out', error='test.%J.err',\n",
    "    partition='normal', time='10:00',\n",
    "    nodelist=['apcpu-001',], exclude=None\n",
    ")\n",
    "\n",
    "pe.calc_ring_twiss(output_filepath, LTE_filepath, E_MeV, run_local=False, remote_opts=remote_opts)"
   ]
  },
  {
   "cell_type": "code",
   "execution_count": null,
   "metadata": {},
   "outputs": [],
   "source": []
  }
 ],
 "metadata": {
  "kernelspec": {
   "display_name": "Python 3",
   "language": "python",
   "name": "python3"
  },
  "language_info": {
   "codemirror_mode": {
    "name": "ipython",
    "version": 3
   },
   "file_extension": ".py",
   "mimetype": "text/x-python",
   "name": "python",
   "nbconvert_exporter": "python",
   "pygments_lexer": "ipython3",
   "version": "3.7.3"
  }
 },
 "nbformat": 4,
 "nbformat_minor": 2
}
