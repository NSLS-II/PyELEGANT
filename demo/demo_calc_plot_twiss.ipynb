{
 "cells": [
  {
   "cell_type": "code",
   "execution_count": null,
   "metadata": {},
   "outputs": [],
   "source": [
    "if True:\n",
    "    %matplotlib notebook\n",
    "elif False:\n",
    "    %matplotlib inline\n",
    "else:\n",
    "    %matplotlib qt"
   ]
  },
  {
   "cell_type": "code",
   "execution_count": null,
   "metadata": {},
   "outputs": [],
   "source": [
    "import pyelegant as pe"
   ]
  },
  {
   "cell_type": "code",
   "execution_count": null,
   "metadata": {},
   "outputs": [],
   "source": [
    "help(pe.calc_ring_twiss)"
   ]
  },
  {
   "cell_type": "code",
   "execution_count": null,
   "metadata": {},
   "outputs": [],
   "source": [
    "LTE_filepath = 'lattice3Sext_19pm3p2m_5cell.lte'\n",
    "E_MeV = 3e3\n",
    "output_filepath = 'simple_ring_twiss.hdf5'\n",
    "\n",
    "pe.calc_ring_twiss(output_filepath, LTE_filepath, E_MeV)"
   ]
  },
  {
   "cell_type": "code",
   "execution_count": null,
   "metadata": {
    "scrolled": true
   },
   "outputs": [],
   "source": [
    "# Takes some time to show the plot\n",
    "pe.plot_twiss(output_filepath)"
   ]
  },
  {
   "cell_type": "code",
   "execution_count": null,
   "metadata": {},
   "outputs": [],
   "source": [
    "pe.plot_twiss(output_filepath, slim=[25.0, 50.0], s0_m=0.0, \n",
    "              print_scalars=['ex0', 'Jx', 'nux', 'dnuy/dp'])"
   ]
  },
  {
   "cell_type": "code",
   "execution_count": null,
   "metadata": {},
   "outputs": [],
   "source": [
    "pe.calc_ring_twiss(output_filepath, LTE_filepath, E_MeV, use_beamline='RING',\n",
    "                   radiation_integrals=True)"
   ]
  },
  {
   "cell_type": "code",
   "execution_count": null,
   "metadata": {},
   "outputs": [],
   "source": [
    "pe.plot_twiss(output_filepath, slim=[25.0, 50.0], s0_m=25.0, \n",
    "              print_scalars=['ex0', 'Jx', 'nux', 'dnuy/dp'])"
   ]
  },
  {
   "cell_type": "code",
   "execution_count": null,
   "metadata": {},
   "outputs": [],
   "source": [
    "pe.plot_twiss(output_filepath, slim=[25.0, 50.0], s0_m=25.0, s_margin_m=3.0, \n",
    "              print_scalars=['ex0', 'Jx', 'nux', 'dnuy/dp'])"
   ]
  },
  {
   "cell_type": "code",
   "execution_count": null,
   "metadata": {},
   "outputs": [],
   "source": [
    "pe.calc_ring_twiss(output_filepath, LTE_filepath, E_MeV, use_beamline='RING', \n",
    "                   radiation_integrals=True, element_divisions=10)"
   ]
  },
  {
   "cell_type": "code",
   "execution_count": null,
   "metadata": {},
   "outputs": [],
   "source": [
    "pe.plot_twiss(output_filepath, slim=[25.0, 50.0], s0_m=25.0, \n",
    "              print_scalars=['ex0', 'Jx', 'nux', 'dnuy/dp'])"
   ]
  },
  {
   "cell_type": "markdown",
   "metadata": {},
   "source": [
    "# Can keep original SDDS files"
   ]
  },
  {
   "cell_type": "code",
   "execution_count": null,
   "metadata": {},
   "outputs": [],
   "source": [
    "output_filepath = 'simple_ring_twiss.pgz'\n",
    "\n",
    "tmp_filepaths = pe.calc_ring_twiss(\n",
    "    output_filepath, LTE_filepath, E_MeV, radiation_integrals=True, del_tmp_files=False)"
   ]
  },
  {
   "cell_type": "code",
   "execution_count": null,
   "metadata": {},
   "outputs": [],
   "source": [
    "tmp_filepaths"
   ]
  },
  {
   "cell_type": "markdown",
   "metadata": {},
   "source": [
    "# Can Inspect Data and Customize Visualization"
   ]
  },
  {
   "cell_type": "code",
   "execution_count": null,
   "metadata": {},
   "outputs": [],
   "source": [
    "d = pe.util.load_pgz_file(output_filepath)\n",
    "d"
   ]
  },
  {
   "cell_type": "markdown",
   "metadata": {},
   "source": [
    "# Twiss Calcuation in Transport Line Mode"
   ]
  },
  {
   "cell_type": "code",
   "execution_count": null,
   "metadata": {},
   "outputs": [],
   "source": [
    "betax0 = 3.0\n",
    "betay0 = 3.0\n",
    "alphax0 = 0.0\n",
    "alphay0 = 0.0\n",
    "etax0 = 0.0\n",
    "etay0 = 0.0\n",
    "etaxp0 = 0.0\n",
    "etayp0 = 0.0\n",
    "\n",
    "output_filepath = 'simple_line_twiss.hdf5'"
   ]
  },
  {
   "cell_type": "code",
   "execution_count": null,
   "metadata": {},
   "outputs": [],
   "source": [
    "help(pe.calc_line_twiss)"
   ]
  },
  {
   "cell_type": "code",
   "execution_count": null,
   "metadata": {},
   "outputs": [],
   "source": [
    "pe.calc_line_twiss(\n",
    "    output_filepath, LTE_filepath, E_MeV, betax0, betay0, alphax0=alphax0, alphay0=alphay0,\n",
    "    etax0=etax0, etay0=etay0, etaxp0=etaxp0, etayp0=etayp0, radiation_integrals=True)"
   ]
  },
  {
   "cell_type": "code",
   "execution_count": null,
   "metadata": {},
   "outputs": [],
   "source": [
    "pe.plot_twiss(output_filepath)"
   ]
  },
  {
   "cell_type": "markdown",
   "metadata": {},
   "source": [
    "# Caveat for Linear Chromaticiy Calculation by ELEGANT for Transport Line Mode"
   ]
  },
  {
   "cell_type": "markdown",
   "metadata": {},
   "source": [
    "On p.131 of Manual for ELEGANT Version 2019.4.0\n",
    "\n",
    "matched — A flag indicating, if set, that the periodic or matched Twiss parameters should\n",
    "be found. If zero, calculations are performed in transport line mode starting from the given\n",
    "initial values of betax, alphax, etc. N.B.: This may give different values for the chromaticity\n",
    "even if the initial values are identical to those for a periodic solution. The reason has to do\n",
    "with different assumptions about the initial conditions for particles in a transport line vs a\n",
    "ring."
   ]
  },
  {
   "cell_type": "code",
   "execution_count": null,
   "metadata": {
    "scrolled": true
   },
   "outputs": [],
   "source": [
    "zero_sexts_LTE_filepath = 'temp.lte'\n",
    "alter_elements = dict(name='*', type='KSEXT', item='K2', value = 0.0)\n",
    "pe.eleutil.save_lattice_after_alter_elements(LTE_filepath, zero_sexts_LTE_filepath, alter_elements)"
   ]
  },
  {
   "cell_type": "code",
   "execution_count": null,
   "metadata": {},
   "outputs": [],
   "source": [
    "pe.disable_stdout()"
   ]
  },
  {
   "cell_type": "code",
   "execution_count": null,
   "metadata": {},
   "outputs": [],
   "source": [
    "# Compute linear chromaticity based on Twiss and transport matrices, \n",
    "# using the formula shown in the cell right below\n",
    "pe.calc_ring_twiss(output_filepath, zero_sexts_LTE_filepath, E_MeV, calc_matrix_lin_chrom=True)"
   ]
  },
  {
   "cell_type": "markdown",
   "metadata": {},
   "source": [
    "Definition of natural linear chromaticity for an $i^{\\mathrm{th}}$ quad or combined-function bend element of length $L$, assuming constant gradient $K_1$:\n",
    "\n",
    "\\begin{align}\n",
    "&\\xi_{x,i}^{\\mathrm{nat}} = \\frac{K_1 \\int_0^L {\\beta_x (s) ds} }{-4 \\pi} = \n",
    "\\begin{cases}\n",
    "  -\\frac{K_1}{16 \\pi \\beta_{x0} k_x^3 } \\left\\{2 k_x L \\left( \\alpha_{x0}^2 + \\beta_{x0}^2 k_x^2 + 1 \\right)\n",
    "  - \\left( \\alpha_{x0}^2 - \\beta_{x0}^2 k_x^2 + 1 \\right) \\cdot \\sin(2 k_x L) \\\\ \\qquad\n",
    "  - 4 \\alpha_{x0} \\beta_{x0} k_x \\cdot \\sin^2(k_x L) \\right\\} \n",
    "  \\left[\\mbox{if $K_1 > -\\frac{1}{\\rho_0^2}$ and $k_x \\equiv \\sqrt{K_1 + \\frac{1}{\\rho_0^2}}$ } \\right]\n",
    "  \\\\\n",
    "  -\\frac{K_1}{16 \\pi \\beta_{x0} k_x^3 } \\left\\{2 k_x L \\left( -\\alpha_{x0}^2 + \\beta_{x0}^2 k_x^2 - 1 \\right)\n",
    "  + \\left( \\alpha_{x0}^2 + \\beta_{x0}^2 k_x^2 + 1 \\right) \\cdot \\sinh(2 k_x L) \\\\ \\qquad\n",
    "  - 4 \\alpha_{x0} \\beta_{x0} k_x \\cdot \\sinh^2(k_x L) \\right\\}\n",
    "  \\left[\\mbox{if $K_1 < -\\frac{1}{\\rho_0^2}$ and $k_x \\equiv \\sqrt{- K_1 - \\frac{1}{\\rho_0^2}}$ } \\right]\n",
    "\\end{cases}\n",
    "\\\\\n",
    "\\\\\n",
    "&\\xi_{y,i}^{\\mathrm{nat}} = \\frac{K_1 \\int_0^L {\\beta_y (s) ds} }{+4 \\pi} =\n",
    "\\begin{cases}\n",
    "  +\\frac{K_1}{16 \\pi \\beta_{y0} k_y^3 } \\left\\{2 k_y L \\left( \\alpha_{y0}^2 + \\beta_{y0}^2 k_y^2 + 1 \\right)\n",
    "  - \\left( \\alpha_{y0}^2 - \\beta_{y0}^2 k_y^2 + 1 \\right) \\cdot \\sin(2 k_y L) \\\\ \\qquad\n",
    "  - 4 \\alpha_{y0} \\beta_{y0} k_y \\cdot \\sin^2(k_y L) \\right\\} \n",
    "  \\left[\\mbox{if $K_1 < 0$ and $k_y \\equiv \\sqrt{-K_1}$ } \\right]\n",
    "  \\\\\n",
    "  +\\frac{K_1}{16 \\pi \\beta_{y0} k_y^3 } \\left\\{2 k_y L \\left( -\\alpha_{y0}^2 + \\beta_{y0}^2 k_y^2 - 1 \\right)\n",
    "  + \\left( \\alpha_{y0}^2 + \\beta_{y0}^2 k_y^2 + 1 \\right) \\cdot \\sinh(2 k_y L) \\\\ \\qquad\n",
    "  - 4 \\alpha_{y0} \\beta_{y0} k_y \\cdot \\sinh^2(k_y L) \\right\\}\n",
    "  \\left[\\mbox{if $K_1 > 0$ and $k_y \\equiv \\sqrt{K_1}$ } \\right]\n",
    "\\end{cases}\n",
    "\\end{align}\n",
    "\n",
    "The Twiss functions $\\alpha_{x0,y0}$ and $\\beta_{x0,y0}$ are those at the entrace of the element. The bending radius is denoted by $\\rho_0$. Note that these formula are valid only for sector bends, i.e., the entrance and exit angles are zero.\n",
    "\n",
    "The total natural chromaticities $\\xi_x^{\\mathrm{nat}}$ and $\\xi_y^{\\mathrm{nat}}$ of a ring with $N$ such elements is then the sum of these:\n",
    "$$\n",
    "\\xi_x^{\\mathrm{nat}} = \\sum_{i=1}^{N} {\\xi_{x,i}^{\\mathrm{nat}}}, \\qquad\n",
    "\\xi_y^{\\mathrm{nat}} = \\sum_{i=1}^{N} {\\xi_{y,i}^{\\mathrm{nat}}}\n",
    "$$"
   ]
  },
  {
   "cell_type": "code",
   "execution_count": null,
   "metadata": {},
   "outputs": [],
   "source": [
    "import matplotlib.pylab as plt\n",
    "import numpy as np"
   ]
  },
  {
   "cell_type": "code",
   "execution_count": null,
   "metadata": {},
   "outputs": [],
   "source": [
    "data, meta, _ver = pe.util.load_sdds_hdf5_file(output_filepath)\n",
    "\n",
    "ring_nat_ksi_x, ring_nat_ksi_y = {}, {}\n",
    "ring_nat_ksi_x['elegant'] = data['twi']['scalars']['dnux/dp']\n",
    "ring_nat_ksi_y['elegant'] = data['twi']['scalars']['dnuy/dp']\n",
    "ring_nat_ksi_x['matrix'] = np.sum(data['lin_chrom_nat']['arrays']['nat_ksi_x'])\n",
    "ring_nat_ksi_y['matrix'] = np.sum(data['lin_chrom_nat']['arrays']['nat_ksi_y'])"
   ]
  },
  {
   "cell_type": "code",
   "execution_count": null,
   "metadata": {},
   "outputs": [],
   "source": [
    "s = np.append(data['lin_chrom_nat']['arrays']['sb'], data['lin_chrom_nat']['arrays']['se'])\n",
    "nat_ksi_xs = np.append(data['lin_chrom_nat']['arrays']['nat_ksi_x'],\n",
    "                       data['lin_chrom_nat']['arrays']['nat_ksi_x'])\n",
    "nat_ksi_ys = np.append(data['lin_chrom_nat']['arrays']['nat_ksi_y'],\n",
    "                       data['lin_chrom_nat']['arrays']['nat_ksi_y'])\n",
    "sort_inds = np.argsort(s)\n",
    "s = s[sort_inds]\n",
    "nat_ksi_xs = nat_ksi_xs[sort_inds]\n",
    "nat_ksi_ys = nat_ksi_ys[sort_inds]\n",
    "\n",
    "plt.figure()\n",
    "plt.plot(s, nat_ksi_xs, 'b.-', label=r'$\\xi_x^{\\mathrm{nat}}$')\n",
    "plt.plot(s, nat_ksi_ys, 'r.-', label=r'$\\xi_y^{\\mathrm{nat}}$')\n",
    "plt.legend(loc='best')"
   ]
  },
  {
   "cell_type": "code",
   "execution_count": null,
   "metadata": {},
   "outputs": [],
   "source": [
    "betax0 = data['twi']['arrays']['betax'][0]\n",
    "betay0 = data['twi']['arrays']['betay'][0]\n",
    "alphax0 = data['twi']['arrays']['alphax'][0]\n",
    "alphay0 = data['twi']['arrays']['alphay'][0]\n",
    "etax0 = data['twi']['arrays']['etax'][0]\n",
    "etay0 = data['twi']['arrays']['etay'][0]\n",
    "etaxp0 = data['twi']['arrays']['etaxp'][0]\n",
    "etayp0 = data['twi']['arrays']['etayp'][0]"
   ]
  },
  {
   "cell_type": "code",
   "execution_count": null,
   "metadata": {},
   "outputs": [],
   "source": [
    "pe.calc_line_twiss(\n",
    "    output_filepath, zero_sexts_LTE_filepath, E_MeV, \n",
    "    betax0, betay0, alphax0=alphax0, alphay0=alphay0,\n",
    "    etax0=etax0, etay0=etay0, etaxp0=etaxp0, etayp0=etayp0, \n",
    "    radiation_integrals=True, calc_matrix_lin_chrom=True)\n",
    "\n",
    "data, meta, _ver = pe.util.load_sdds_hdf5_file(output_filepath)\n",
    "\n",
    "line_nat_ksi_x, line_nat_ksi_y = {}, {}\n",
    "line_nat_ksi_x['elegant'] = data['twi']['scalars']['dnux/dp']\n",
    "line_nat_ksi_y['elegant'] = data['twi']['scalars']['dnuy/dp']\n",
    "line_nat_ksi_x['matrix'] = np.sum(data['lin_chrom_nat']['arrays']['nat_ksi_x'])\n",
    "line_nat_ksi_y['matrix'] = np.sum(data['lin_chrom_nat']['arrays']['nat_ksi_y'])"
   ]
  },
  {
   "cell_type": "code",
   "execution_count": null,
   "metadata": {},
   "outputs": [],
   "source": [
    "print('## Horizontal/Vertical Natural Chromaticity (ring) ##')\n",
    "print(f'ELEGANT       : {ring_nat_ksi_x[\"elegant\"]:.3f} / {ring_nat_ksi_y[\"elegant\"]:.3f}')\n",
    "print(f'Matrix & Twiss: {ring_nat_ksi_x[\"matrix\"]:.3f} / {ring_nat_ksi_y[\"matrix\"]:.3f}')\n",
    "print(' ')\n",
    "print('## Horizontal/Vertical Natural Chromaticity (line) ##')\n",
    "print(f'ELEGANT       : {line_nat_ksi_x[\"elegant\"]:.3f} / {line_nat_ksi_y[\"elegant\"]:.3f}')\n",
    "print(f'Matrix & Twiss: {line_nat_ksi_x[\"matrix\"]:.3f} / {line_nat_ksi_y[\"matrix\"]:.3f}')"
   ]
  },
  {
   "cell_type": "markdown",
   "metadata": {},
   "source": [
    "# Run remotely"
   ]
  },
  {
   "cell_type": "code",
   "execution_count": null,
   "metadata": {},
   "outputs": [],
   "source": [
    "pe.calc_ring_twiss(output_filepath, LTE_filepath, E_MeV, run_local=False)"
   ]
  },
  {
   "cell_type": "code",
   "execution_count": null,
   "metadata": {
    "scrolled": true
   },
   "outputs": [],
   "source": [
    "pe.plot_twiss(output_filepath, slim=[25.0, 50.0], print_scalars=['ex0', 'Jx', 'nux', 'dnuy/dp'])"
   ]
  },
  {
   "cell_type": "code",
   "execution_count": null,
   "metadata": {},
   "outputs": [],
   "source": [
    "remote_opts = dict(\n",
    "    job_name='test', output='test.%J.out', error='test.%J.err',\n",
    "    partition='normal', time='10:00',\n",
    "    nodelist=['apcpu-005',], exclude=None\n",
    ")\n",
    "\n",
    "pe.calc_ring_twiss(output_filepath, LTE_filepath, E_MeV, run_local=False, remote_opts=remote_opts)"
   ]
  },
  {
   "cell_type": "code",
   "execution_count": null,
   "metadata": {},
   "outputs": [],
   "source": [
    "remote_opts = dict(\n",
    "    use_sbatch=True,\n",
    "    job_name='test', output='test.%J.out', error='test.%J.err',\n",
    "    partition='normal', time='10:00',\n",
    "    nodelist=['apcpu-005',], exclude=None\n",
    ")\n",
    "\n",
    "pe.calc_ring_twiss(output_filepath, LTE_filepath, E_MeV, run_local=False, remote_opts=remote_opts)"
   ]
  }
 ],
 "metadata": {
  "kernelspec": {
   "display_name": "pyelegant-0.3",
   "language": "python",
   "name": "pyelegant-0.3"
  },
  "language_info": {
   "codemirror_mode": {
    "name": "ipython",
    "version": 3
   },
   "file_extension": ".py",
   "mimetype": "text/x-python",
   "name": "python",
   "nbconvert_exporter": "python",
   "pygments_lexer": "ipython3",
   "version": "3.7.6"
  },
  "varInspector": {
   "cols": {
    "lenName": 16,
    "lenType": 16,
    "lenVar": 40
   },
   "kernels_config": {
    "python": {
     "delete_cmd_postfix": "",
     "delete_cmd_prefix": "del ",
     "library": "var_list.py",
     "varRefreshCmd": "print(var_dic_list())"
    },
    "r": {
     "delete_cmd_postfix": ") ",
     "delete_cmd_prefix": "rm(",
     "library": "var_list.r",
     "varRefreshCmd": "cat(var_dic_list()) "
    }
   },
   "types_to_exclude": [
    "module",
    "function",
    "builtin_function_or_method",
    "instance",
    "_Feature"
   ],
   "window_display": false
  }
 },
 "nbformat": 4,
 "nbformat_minor": 2
}
