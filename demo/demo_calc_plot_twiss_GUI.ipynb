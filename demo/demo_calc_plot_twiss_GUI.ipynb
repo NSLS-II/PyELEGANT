{
 "cells": [
  {
   "cell_type": "code",
   "execution_count": null,
   "metadata": {
    "hide_input": true
   },
   "outputs": [],
   "source": [
    "if True:\n",
    "    %matplotlib notebook\n",
    "elif False:\n",
    "    %matplotlib inline\n",
    "else:\n",
    "    %matplotlib qt"
   ]
  },
  {
   "cell_type": "code",
   "execution_count": null,
   "metadata": {
    "hide_input": true
   },
   "outputs": [],
   "source": [
    "from IPython.display import display, clear_output\n",
    "import ipywidgets as widgets\n",
    "from ipywidgets import interact, fixed"
   ]
  },
  {
   "cell_type": "code",
   "execution_count": null,
   "metadata": {
    "hide_input": true
   },
   "outputs": [],
   "source": [
    "import pyelegant as pe"
   ]
  },
  {
   "cell_type": "code",
   "execution_count": null,
   "metadata": {
    "hide_input": true,
    "scrolled": true
   },
   "outputs": [],
   "source": [
    "E_MeV_text = widgets.FloatText(value=3e3, description='E [MeV]', style=dict(width='initial'))\n",
    "LTE_filepath_text = widgets.Text(\n",
    "    value='lattice3Sext_19pm3p2m_5cell.lte', description='LTE File Path', style=dict(width='initial'))\n",
    "output_filepath_text = widgets.Text(\n",
    "    value='simple_ring_twiss.hdf5', description='Output File Path (.hdf5 or .pgz)', style=dict(width='initial'))\n",
    "box_req = widgets.VBox([E_MeV_text, LTE_filepath_text, output_filepath_text])\n",
    "\n",
    "box_opt = widgets.VBox()\n",
    "\n",
    "tab = widgets.Tab()\n",
    "tab.children = [box_req, box_opt]\n",
    "tab.set_title(0, 'Required')\n",
    "tab.set_title(1, 'Optional')\n",
    "\n",
    "button = widgets.Button(description='Calculate Twiss')\n",
    "out = widgets.Output()\n",
    "\n",
    "def on_button_clicked(_):\n",
    "    \"\"\"Linking function with output\"\"\"\n",
    "    with out:\n",
    "        # Things that happen when the button is pressed go here\n",
    "        clear_output()\n",
    "        pe.calc_ring_twiss(output_filepath_text.value, LTE_filepath_text.value, E_MeV_text.value)        \n",
    "\n",
    "# Now linke the button and the function\n",
    "button.on_click(on_button_clicked)\n",
    "\n",
    "box = widgets.VBox([tab, button, out])\n",
    "display(box)"
   ]
  },
  {
   "cell_type": "code",
   "execution_count": null,
   "metadata": {
    "hide_input": true
   },
   "outputs": [],
   "source": [
    "output_filepath_text = widgets.Text(\n",
    "    value='simple_ring_twiss.hdf5', description='Output File Path (.hdf5 or .pgz)', style=dict(width='initial'))\n",
    "box_req = widgets.VBox([output_filepath_text])\n",
    "\n",
    "s0_m_text = widgets.FloatText(value=0.0, description='s0 [m]', style=dict(width='initial'))\n",
    "slim_range_slider = widgets.FloatRangeSlider(\n",
    "    min=0.0, max=100.0, value=[25.0, 50.0], description='slim [m]', style=dict(width='initial'))\n",
    "print_scalars_text = widgets.Text(\n",
    "    value='ex0, Jx, nux, dnuy/dp', description='Scalar Values to be printed', style=dict(width='initial'))\n",
    "\n",
    "box_opt = widgets.VBox([s0_m_text, slim_range_slider, print_scalars_text])\n",
    "\n",
    "tab = widgets.Tab()\n",
    "tab.children = [box_req, box_opt]\n",
    "tab.set_title(0, 'Required')\n",
    "tab.set_title(1, 'Optional')\n",
    "\n",
    "button = widgets.Button(description='Plot')\n",
    "out = widgets.Output()\n",
    "\n",
    "def on_button_clicked(_):\n",
    "    \"\"\"Linking function with output\"\"\"\n",
    "    with out:\n",
    "        # Things that happen when the button is pressed go here\n",
    "        clear_output()\n",
    "        pe.plot_twiss(output_filepath_text.value, slim=slim_range_slider.value, s0_m=s0_m_text.value, \n",
    "                      print_scalars=[_s.strip() for _s in print_scalars_text.value.split(',')])\n",
    "\n",
    "# Now linke the button and the function\n",
    "button.on_click(on_button_clicked)\n",
    "\n",
    "box = widgets.VBox([tab, button, out])\n",
    "display(box)"
   ]
  }
 ],
 "metadata": {
  "kernelspec": {
   "display_name": "Python 3",
   "language": "python",
   "name": "python3"
  },
  "language_info": {
   "codemirror_mode": {
    "name": "ipython",
    "version": 3
   },
   "file_extension": ".py",
   "mimetype": "text/x-python",
   "name": "python",
   "nbconvert_exporter": "python",
   "pygments_lexer": "ipython3",
   "version": "3.7.3"
  },
  "varInspector": {
   "cols": {
    "lenName": 16,
    "lenType": 16,
    "lenVar": 40
   },
   "kernels_config": {
    "python": {
     "delete_cmd_postfix": "",
     "delete_cmd_prefix": "del ",
     "library": "var_list.py",
     "varRefreshCmd": "print(var_dic_list())"
    },
    "r": {
     "delete_cmd_postfix": ") ",
     "delete_cmd_prefix": "rm(",
     "library": "var_list.r",
     "varRefreshCmd": "cat(var_dic_list()) "
    }
   },
   "types_to_exclude": [
    "module",
    "function",
    "builtin_function_or_method",
    "instance",
    "_Feature"
   ],
   "window_display": false
  }
 },
 "nbformat": 4,
 "nbformat_minor": 2
}
