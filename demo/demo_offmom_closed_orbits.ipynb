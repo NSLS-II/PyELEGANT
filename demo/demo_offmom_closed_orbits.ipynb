{
 "cells": [
  {
   "cell_type": "code",
   "execution_count": null,
   "metadata": {},
   "outputs": [],
   "source": [
    "if True:\n",
    "    %matplotlib notebook\n",
    "elif False:\n",
    "    %matplotlib inline\n",
    "else:\n",
    "    %matplotlib qt"
   ]
  },
  {
   "cell_type": "code",
   "execution_count": null,
   "metadata": {},
   "outputs": [],
   "source": [
    "import getpass\n",
    "import matplotlib.pylab as plt\n",
    "import numpy as np\n",
    "\n",
    "import pyelegant as pe\n",
    "from pyelegant import nonlin\n",
    "from pyelegant import util"
   ]
  },
  {
   "cell_type": "code",
   "execution_count": null,
   "metadata": {},
   "outputs": [],
   "source": [
    "pe.disable_stdout()"
   ]
  },
  {
   "cell_type": "code",
   "execution_count": null,
   "metadata": {},
   "outputs": [],
   "source": [
    "LTE_filepath = 'nsls2cb65pm.lte'\n",
    "E_MeV = 3e3\n",
    "use_beamline = 'SECTOR1'\n",
    "\n",
    "delta_min = -0.1\n",
    "delta_max = +0.1\n",
    "ndelta = 101"
   ]
  },
  {
   "cell_type": "code",
   "execution_count": null,
   "metadata": {},
   "outputs": [],
   "source": [
    "output_filepath = 'test_offmom_clo.pgz'"
   ]
  },
  {
   "cell_type": "code",
   "execution_count": null,
   "metadata": {
    "scrolled": true
   },
   "outputs": [],
   "source": [
    "delta_array = np.linspace(delta_min, delta_max, ndelta)\n",
    "output_filepath = nonlin.calc_offmom_closed_orbits(\n",
    "    output_filepath, LTE_filepath, E_MeV, delta_array,\n",
    "    use_beamline=use_beamline,\n",
    "    iteration_fraction=0.1, closed_orbit_iterations=500)\n",
    "print(output_filepath)"
   ]
  },
  {
   "cell_type": "code",
   "execution_count": null,
   "metadata": {},
   "outputs": [],
   "source": [
    "d = util.load_pgz_file(output_filepath)"
   ]
  },
  {
   "cell_type": "code",
   "execution_count": null,
   "metadata": {},
   "outputs": [],
   "source": [
    "list(d)"
   ]
  },
  {
   "cell_type": "code",
   "execution_count": null,
   "metadata": {
    "scrolled": true
   },
   "outputs": [],
   "source": [
    "print(np.array(list(zip(d['input']['delta_array'], d['survived'], d['converged'], d['clos']['xerr']))))"
   ]
  },
  {
   "cell_type": "code",
   "execution_count": null,
   "metadata": {},
   "outputs": [],
   "source": [
    "plt.figure()\n",
    "valid = (np.abs(d['clos']['xerr']) < 1e-12)\n",
    "plt.plot(d['clos']['s'], d['clos']['x'][:, valid] * 1e3)\n",
    "plt.xlabel(r'$s\\, [\\mathrm{m}]$', size='large')\n",
    "plt.ylabel(r'$x\\, [\\mathrm{mm}]$', size='large')\n",
    "plt.tight_layout()"
   ]
  },
  {
   "cell_type": "code",
   "execution_count": null,
   "metadata": {},
   "outputs": [],
   "source": [
    "plt.figure()\n",
    "elem_index = 0\n",
    "valid = (np.abs(d['clos']['xerr']) < 1e-12)\n",
    "plt.plot(d['input']['delta_array'][valid] * 1e2, d['clos']['x'][elem_index, valid] * 1e3, '.-')\n",
    "plt.xlabel(r'$\\delta\\, [\\%]$', size='large')\n",
    "plt.ylabel(r'$x\\, [\\mathrm{mm}]$', size='large')\n",
    "plt.tight_layout()"
   ]
  },
  {
   "cell_type": "code",
   "execution_count": null,
   "metadata": {},
   "outputs": [],
   "source": []
  }
 ],
 "metadata": {
  "kernelspec": {
   "display_name": "Python 3",
   "language": "python",
   "name": "python3"
  },
  "language_info": {
   "codemirror_mode": {
    "name": "ipython",
    "version": 3
   },
   "file_extension": ".py",
   "mimetype": "text/x-python",
   "name": "python",
   "nbconvert_exporter": "python",
   "pygments_lexer": "ipython3",
   "version": "3.8.8"
  },
  "varInspector": {
   "cols": {
    "lenName": 16,
    "lenType": 16,
    "lenVar": 40
   },
   "kernels_config": {
    "python": {
     "delete_cmd_postfix": "",
     "delete_cmd_prefix": "del ",
     "library": "var_list.py",
     "varRefreshCmd": "print(var_dic_list())"
    },
    "r": {
     "delete_cmd_postfix": ") ",
     "delete_cmd_prefix": "rm(",
     "library": "var_list.r",
     "varRefreshCmd": "cat(var_dic_list()) "
    }
   },
   "types_to_exclude": [
    "module",
    "function",
    "builtin_function_or_method",
    "instance",
    "_Feature"
   ],
   "window_display": false
  }
 },
 "nbformat": 4,
 "nbformat_minor": 2
}
