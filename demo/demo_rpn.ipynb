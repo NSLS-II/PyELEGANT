{
 "cells": [
  {
   "cell_type": "code",
   "execution_count": null,
   "metadata": {},
   "outputs": [],
   "source": [
    "from pyelegant import elebuilder\n",
    "from pyelegant import notation\n",
    "from pyelegant import sdds"
   ]
  },
  {
   "cell_type": "code",
   "execution_count": null,
   "metadata": {},
   "outputs": [],
   "source": [
    "ed = elebuilder.EleDesigner(double_format='.12g')\n",
    "rf = ed.rpnfuncs\n",
    "rd = ed.rpnvars.dict\n",
    "rv = ed.rpnvars.namespace\n",
    "\n",
    "ed.add_block('run_setup', lattice = 'lattice3.lte', p_central_mev = 3e3, use_beamline='ring')"
   ]
  },
  {
   "cell_type": "code",
   "execution_count": null,
   "metadata": {},
   "outputs": [],
   "source": [
    "test = (10 / rf.maxn(25, 3, 4, 13) + 13.1 ) ** 4 * rf.cos(.5)\n",
    "\n",
    "notation.convert_infix_to_rpn( test.equation_repr )"
   ]
  },
  {
   "cell_type": "code",
   "execution_count": null,
   "metadata": {},
   "outputs": [],
   "source": [
    "rv.pi + rf.sin(.3)"
   ]
  },
  {
   "cell_type": "code",
   "execution_count": null,
   "metadata": {},
   "outputs": [],
   "source": [
    "sdds.sdds2dicts('nsls2.flr')\n",
    "\n",
    "ed.add_block('rpn_load',\n",
    "    filename = 'nsls2.flr',\n",
    "    tag = 'flr1',\n",
    "    match_column = 'ElementName',\n",
    "    match_column_value = 'MID',\n",
    "    matching_row_number = 0\n",
    ")\n",
    "ed.add_comment('! - Second ID')\n",
    "ed.add_block('rpn_load',\n",
    "    filename = 'nsls2.flr',\n",
    "    tag = 'flr2',\n",
    "    match_column = 'ElementName',\n",
    "    match_column_value = 'MID',\n",
    "    matching_row_number = 1\n",
    ")"
   ]
  },
  {
   "cell_type": "code",
   "execution_count": null,
   "metadata": {},
   "outputs": [],
   "source": [
    "rv.flr1__DOT__X.torpn(), rd['flr1.X'].torpn()"
   ]
  },
  {
   "cell_type": "code",
   "execution_count": null,
   "metadata": {},
   "outputs": [],
   "source": [
    "rf.sqrt(rv.flr1__DOT__X**2 + rv.flr2__DOT__X**2)"
   ]
  },
  {
   "cell_type": "code",
   "execution_count": null,
   "metadata": {},
   "outputs": [],
   "source": [
    "rf.sqrt(rv.flr1__DOT__X**2 + rv.flr2__DOT__X**2).torpn()"
   ]
  },
  {
   "cell_type": "code",
   "execution_count": null,
   "metadata": {
    "scrolled": true
   },
   "outputs": [],
   "source": [
    "ed.add_block('twiss_output',\n",
    "    output_at_each_step = True,\n",
    "    matched = True,\n",
    "    radiation_integrals = True,\n",
    "    concat_order = 2,\n",
    "    compute_driving_terms = True,\n",
    ")"
   ]
  },
  {
   "cell_type": "code",
   "execution_count": null,
   "metadata": {},
   "outputs": [],
   "source": [
    "( rf.abs(rv.dnux__SLASH__dp * 15) / 10.00 ).torpn()"
   ]
  },
  {
   "cell_type": "code",
   "execution_count": null,
   "metadata": {},
   "outputs": [],
   "source": []
  },
  {
   "cell_type": "code",
   "execution_count": null,
   "metadata": {},
   "outputs": [],
   "source": [
    "from pyelegant.elebuilder import InfixEquation"
   ]
  },
  {
   "cell_type": "code",
   "execution_count": null,
   "metadata": {},
   "outputs": [],
   "source": [
    "some_algeb_eq = InfixEquation(\n",
    "    'betax0 - alphax0 * (s2 + s1) + (1 + alphax0**2) / (3 * betax0) * (s1**2 + s1*s2 + s2**2)')\n",
    "some_algeb_eq"
   ]
  },
  {
   "cell_type": "code",
   "execution_count": null,
   "metadata": {},
   "outputs": [],
   "source": [
    "some_algeb_eq.torpn()"
   ]
  }
 ],
 "metadata": {
  "kernelspec": {
   "display_name": "Python 3",
   "language": "python",
   "name": "python3"
  },
  "language_info": {
   "codemirror_mode": {
    "name": "ipython",
    "version": 3
   },
   "file_extension": ".py",
   "mimetype": "text/x-python",
   "name": "python",
   "nbconvert_exporter": "python",
   "pygments_lexer": "ipython3",
   "version": "3.7.3"
  }
 },
 "nbformat": 4,
 "nbformat_minor": 2
}
