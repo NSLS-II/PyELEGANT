{
 "cells": [
  {
   "cell_type": "code",
   "execution_count": null,
   "metadata": {},
   "outputs": [],
   "source": [
    "import numpy as np"
   ]
  },
  {
   "cell_type": "code",
   "execution_count": null,
   "metadata": {},
   "outputs": [],
   "source": [
    "import pyelegant as pe\n",
    "from pyelegant import correct\n",
    "from pyelegant import util"
   ]
  },
  {
   "cell_type": "markdown",
   "metadata": {},
   "source": [
    "# Correct Tunes"
   ]
  },
  {
   "cell_type": "code",
   "execution_count": null,
   "metadata": {},
   "outputs": [],
   "source": [
    "init_LTE_filepath = 'lattice3Sext_19pm3p2m_5cell.lte'\n",
    "E_MeV = 3e3\n",
    "output_filepath = 'temp.pgz'\n",
    "\n",
    "pe.calc_ring_twiss(output_filepath, init_LTE_filepath, E_MeV)\n",
    "d = util.load_pgz_file(output_filepath)"
   ]
  },
  {
   "cell_type": "code",
   "execution_count": null,
   "metadata": {},
   "outputs": [],
   "source": [
    "d"
   ]
  },
  {
   "cell_type": "code",
   "execution_count": null,
   "metadata": {
    "scrolled": true
   },
   "outputs": [],
   "source": [
    "corrected_LTE_filepath = 'corr_tunes.lte'\n",
    "target_nux = np.floor(d['data']['twi']['scalars']['nux']) + 0.8\n",
    "target_nuy = np.floor(d['data']['twi']['scalars']['nuy']) + 0.6\n",
    "\n",
    "correct.tunes(\n",
    "    corrected_LTE_filepath, init_LTE_filepath, E_MeV,\n",
    "    quadrupoles=['QL1*', 'QL2*', 'QL3*'], tune_x=target_nux, tune_y=target_nuy, \n",
    "    n_iterations=5, correction_fraction=0.9, tolerance=1e-3)"
   ]
  },
  {
   "cell_type": "code",
   "execution_count": null,
   "metadata": {
    "scrolled": true
   },
   "outputs": [],
   "source": [
    "pe.std_print_enabled['out'] = False\n",
    "pe.calc_ring_twiss(output_filepath, corrected_LTE_filepath, E_MeV)\n",
    "d = util.load_pgz_file(output_filepath)\n",
    "\n",
    "print(f\"{target_nux:.6f}, {d['data']['twi']['scalars']['nux']:.6f}\")\n",
    "print(f\"{target_nuy:.6f}, {d['data']['twi']['scalars']['nuy']:.6f}\")"
   ]
  },
  {
   "cell_type": "markdown",
   "metadata": {},
   "source": [
    "# Correct Chromaticities"
   ]
  },
  {
   "cell_type": "code",
   "execution_count": null,
   "metadata": {},
   "outputs": [],
   "source": [
    "init_LTE_filepath = 'lattice3Sext_19pm3p2m_5cell.lte'\n",
    "E_MeV = 3e3\n",
    "output_filepath = 'temp.pgz'\n",
    "\n",
    "pe.std_print_enabled['out'] = True\n",
    "pe.calc_ring_twiss(output_filepath, init_LTE_filepath, E_MeV)\n",
    "d = util.load_pgz_file(output_filepath)"
   ]
  },
  {
   "cell_type": "code",
   "execution_count": null,
   "metadata": {},
   "outputs": [],
   "source": [
    "d['data']['twi']['scalars']['dnux/dp'], d['data']['twi']['scalars']['dnuy/dp']"
   ]
  },
  {
   "cell_type": "code",
   "execution_count": null,
   "metadata": {},
   "outputs": [],
   "source": [
    "corrected_LTE_filepath = 'corr_tunes.lte'\n",
    "target_dnux_dp = 2.5\n",
    "target_dnuy_dp = 2.5\n",
    "\n",
    "correct.chroms(\n",
    "    corrected_LTE_filepath, init_LTE_filepath, E_MeV,\n",
    "    sextupoles=['DM2*[AB]2', 'DM4*',], dnux_dp=target_dnux_dp, dnuy_dp=target_dnuy_dp,\n",
    "    n_iterations=5, correction_fraction=0.9, tolerance=1e-3)"
   ]
  },
  {
   "cell_type": "code",
   "execution_count": null,
   "metadata": {},
   "outputs": [],
   "source": [
    "pe.std_print_enabled['out'] = False\n",
    "pe.calc_ring_twiss(output_filepath, corrected_LTE_filepath, E_MeV)\n",
    "d = util.load_pgz_file(output_filepath)\n",
    "\n",
    "print(f\"{target_dnux_dp:.6f}, {d['data']['twi']['scalars']['dnux/dp']:.6f}\")\n",
    "print(f\"{target_dnuy_dp:.6f}, {d['data']['twi']['scalars']['dnuy/dp']:.6f}\")"
   ]
  },
  {
   "cell_type": "code",
   "execution_count": null,
   "metadata": {},
   "outputs": [],
   "source": []
  }
 ],
 "metadata": {
  "kernelspec": {
   "display_name": "Python 3",
   "language": "python",
   "name": "python3"
  },
  "language_info": {
   "codemirror_mode": {
    "name": "ipython",
    "version": 3
   },
   "file_extension": ".py",
   "mimetype": "text/x-python",
   "name": "python",
   "nbconvert_exporter": "python",
   "pygments_lexer": "ipython3",
   "version": "3.7.5"
  },
  "varInspector": {
   "cols": {
    "lenName": 16,
    "lenType": 16,
    "lenVar": 40
   },
   "kernels_config": {
    "python": {
     "delete_cmd_postfix": "",
     "delete_cmd_prefix": "del ",
     "library": "var_list.py",
     "varRefreshCmd": "print(var_dic_list())"
    },
    "r": {
     "delete_cmd_postfix": ") ",
     "delete_cmd_prefix": "rm(",
     "library": "var_list.r",
     "varRefreshCmd": "cat(var_dic_list()) "
    }
   },
   "types_to_exclude": [
    "module",
    "function",
    "builtin_function_or_method",
    "instance",
    "_Feature"
   ],
   "window_display": false
  }
 },
 "nbformat": 4,
 "nbformat_minor": 2
}
