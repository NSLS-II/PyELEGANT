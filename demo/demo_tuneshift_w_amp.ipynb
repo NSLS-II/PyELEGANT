{
 "cells": [
  {
   "cell_type": "code",
   "execution_count": null,
   "metadata": {},
   "outputs": [],
   "source": [
    "if True:\n",
    "    %matplotlib notebook\n",
    "elif False:\n",
    "    %matplotlib inline\n",
    "else:\n",
    "    %matplotlib qt"
   ]
  },
  {
   "cell_type": "code",
   "execution_count": null,
   "metadata": {},
   "outputs": [],
   "source": [
    "import getpass\n",
    "import matplotlib.pylab as plt\n",
    "\n",
    "import pyelegant as pe\n",
    "from pyelegant import nonlin\n",
    "from pyelegant import util"
   ]
  },
  {
   "cell_type": "code",
   "execution_count": null,
   "metadata": {},
   "outputs": [],
   "source": [
    "pe.std_print_enabled['out'] = False\n",
    "pe.std_print_enabled['err'] = True"
   ]
  },
  {
   "cell_type": "code",
   "execution_count": null,
   "metadata": {},
   "outputs": [],
   "source": [
    "LTE_filepath = 'nsls2cb65pm.lte'\n",
    "E_MeV = 3e3\n",
    "\n",
    "nx = ny = 50"
   ]
  },
  {
   "cell_type": "code",
   "execution_count": null,
   "metadata": {},
   "outputs": [],
   "source": [
    "# %%timeit -n 1 -r 1\n",
    "# 4min 12s ± 0 ns per loop (mean ± std. dev. of 1 run, 1 loop each)\n",
    "\n",
    "abs_xmax = 1e-3\n",
    "sign = '+'\n",
    "n_turns = 128\n",
    "\n",
    "run_local = True\n",
    "\n",
    "output_filepath = 'test_tswa_x{}.pgz'.format('plus' if sign == '+' else 'minus')\n",
    "if not run_local:\n",
    "    name, suffix = output_filepath.split('.')\n",
    "    output_filepath = '.'.join([f'{name}_parallel', suffix])\n",
    "\n",
    "output_filepath = nonlin.calc_tswa_x(\n",
    "    output_filepath, LTE_filepath, E_MeV, abs_xmax, nx, sign,\n",
    "    n_turns=n_turns, run_local=run_local)\n",
    "print(output_filepath)"
   ]
  },
  {
   "cell_type": "code",
   "execution_count": null,
   "metadata": {
    "scrolled": true
   },
   "outputs": [],
   "source": [
    "# %%timeit -n 1 -r 1\n",
    "# 22.2 s ± 0 ns per loop (mean ± std. dev. of 1 run, 1 loop each)\n",
    "\n",
    "abs_xmax = 1e-3\n",
    "sign = '+'\n",
    "n_turns = 128\n",
    "\n",
    "run_local = False\n",
    "\n",
    "output_filepath = 'test_tswa_x{}.pgz'.format('plus' if sign == '+' else 'minus')\n",
    "if not run_local:\n",
    "    name, suffix = output_filepath.split('.')\n",
    "    output_filepath = '.'.join([f'{name}_parallel', suffix])\n",
    "\n",
    "output_filepath = nonlin.calc_tswa_x(\n",
    "    output_filepath, LTE_filepath, E_MeV, abs_xmax, nx, sign,\n",
    "    n_turns=n_turns, run_local=run_local)\n",
    "print(output_filepath)"
   ]
  },
  {
   "cell_type": "code",
   "execution_count": null,
   "metadata": {},
   "outputs": [],
   "source": [
    "# %%timeit -n 1 -r 1\n",
    "# 22 s ± 0 ns per loop (mean ± std. dev. of 1 run, 1 loop each)\n",
    "\n",
    "abs_xmax = 1e-3\n",
    "sign = '-'\n",
    "n_turns = 128\n",
    "\n",
    "run_local = False\n",
    "\n",
    "output_filepath = 'test_tswa_x{}.pgz'.format('plus' if sign == '+' else 'minus')\n",
    "if not run_local:\n",
    "    name, suffix = output_filepath.split('.')\n",
    "    output_filepath = '.'.join([f'{name}_parallel', suffix])\n",
    "\n",
    "output_filepath = nonlin.calc_tswa_x(\n",
    "    output_filepath, LTE_filepath, E_MeV, abs_xmax, nx, sign,\n",
    "    n_turns=n_turns, run_local=run_local)\n",
    "print(output_filepath)"
   ]
  },
  {
   "cell_type": "code",
   "execution_count": null,
   "metadata": {},
   "outputs": [],
   "source": [
    "# %%timeit -n 1 -r 1\n",
    "# 24.9 s ± 0 ns per loop (mean ± std. dev. of 1 run, 1 loop each)\n",
    "\n",
    "abs_ymax = 0.5e-3\n",
    "sign = '+'\n",
    "n_turns = 128\n",
    "\n",
    "run_local = False\n",
    "\n",
    "output_filepath = 'test_tswa_y{}.pgz'.format('plus' if sign == '+' else 'minus')\n",
    "if not run_local:\n",
    "    name, suffix = output_filepath.split('.')\n",
    "    output_filepath = '.'.join([f'{name}_parallel', suffix])\n",
    "\n",
    "output_filepath = nonlin.calc_tswa_y(\n",
    "    output_filepath, LTE_filepath, E_MeV, abs_ymax, ny, sign,\n",
    "    n_turns=n_turns, run_local=run_local)\n",
    "print(output_filepath)"
   ]
  },
  {
   "cell_type": "code",
   "execution_count": null,
   "metadata": {},
   "outputs": [],
   "source": [
    "# %%timeit -n 1 -r 1\n",
    "# 25.2 s ± 0 ns per loop (mean ± std. dev. of 1 run, 1 loop each)\n",
    "\n",
    "abs_ymax = 0.5e-3\n",
    "sign = '-'\n",
    "n_turns = 128\n",
    "\n",
    "run_local = False\n",
    "\n",
    "output_filepath = 'test_tswa_y{}.pgz'.format('plus' if sign == '+' else 'minus')\n",
    "if not run_local:\n",
    "    name, suffix = output_filepath.split('.')\n",
    "    output_filepath = '.'.join([f'{name}_parallel', suffix])\n",
    "\n",
    "output_filepath = nonlin.calc_tswa_y(\n",
    "    output_filepath, LTE_filepath, E_MeV, abs_ymax, ny, sign,\n",
    "    n_turns=n_turns, run_local=run_local)\n",
    "print(output_filepath)"
   ]
  },
  {
   "cell_type": "code",
   "execution_count": null,
   "metadata": {
    "scrolled": false
   },
   "outputs": [],
   "source": [
    "title = f'$\\mathrm{{{LTE_filepath}}}$'\n",
    "nonlin.plot_tswa('test_tswa_xplus_parallel.pgz', title=title, fit_abs_xmax=0.5e-3)\n",
    "nonlin.plot_tswa('test_tswa_xminus_parallel.pgz', title=title, fit_abs_xmax=0.5e-3)"
   ]
  },
  {
   "cell_type": "code",
   "execution_count": null,
   "metadata": {},
   "outputs": [],
   "source": [
    "title = f'$\\mathrm{{{LTE_filepath}}}$'\n",
    "nonlin.plot_tswa('test_tswa_yplus_parallel.pgz', title=title, fit_abs_ymax=0.25e-3)\n",
    "nonlin.plot_tswa('test_tswa_yminus_parallel.pgz', title=title, fit_abs_ymax=0.25e-3)"
   ]
  },
  {
   "cell_type": "code",
   "execution_count": null,
   "metadata": {},
   "outputs": [],
   "source": [
    "# %%timeit -n 1 -r 1\n",
    "# 1min 47s ± 0 ns per loop (mean ± std. dev. of 1 run, 1 loop each)\n",
    "\n",
    "abs_ymax = 0.5e-3\n",
    "sign = '+'\n",
    "n_turns = 1024\n",
    "\n",
    "run_local = False # Default: using 20 cores\n",
    "\n",
    "output_filepath = 'test_tswa_y{}_n{:d}.pgz'.format('plus' if sign == '+' else 'minus', n_turns)\n",
    "if not run_local:\n",
    "    name, suffix = output_filepath.split('.')\n",
    "    output_filepath = '.'.join([f'{name}_parallel', suffix])\n",
    "\n",
    "output_filepath = nonlin.calc_tswa_y(\n",
    "    output_filepath, LTE_filepath, E_MeV, abs_ymax, ny, sign,\n",
    "    n_turns=n_turns, run_local=run_local)\n",
    "print(output_filepath)"
   ]
  },
  {
   "cell_type": "code",
   "execution_count": null,
   "metadata": {},
   "outputs": [],
   "source": [
    "# %%timeit -n 1 -r 1\n",
    "# 50 s ± 0 ns per loop (mean ± std. dev. of 1 run, 1 loop each)\n",
    "\n",
    "abs_ymax = 0.5e-3\n",
    "sign = '+'\n",
    "n_turns = 1024\n",
    "\n",
    "run_local = False\n",
    "remote_opts = dict(ntasks=50)\n",
    "\n",
    "output_filepath = 'test_tswa_y{}_n{:d}.pgz'.format('plus' if sign == '+' else 'minus', n_turns)\n",
    "if not run_local:\n",
    "    name, suffix = output_filepath.split('.')\n",
    "    output_filepath = '.'.join([f'{name}_parallel', suffix])\n",
    "\n",
    "output_filepath = nonlin.calc_tswa_y(\n",
    "    output_filepath, LTE_filepath, E_MeV, abs_ymax, ny, sign,\n",
    "    n_turns=n_turns, run_local=run_local, remote_opts=remote_opts)\n",
    "print(output_filepath)"
   ]
  },
  {
   "cell_type": "code",
   "execution_count": null,
   "metadata": {},
   "outputs": [],
   "source": [
    "title = f'$\\mathrm{{{LTE_filepath}}}$'\n",
    "nonlin.plot_tswa('test_tswa_yplus_n1024_parallel.pgz', title=title, fit_abs_ymax=0.25e-3)"
   ]
  },
  {
   "cell_type": "code",
   "execution_count": null,
   "metadata": {},
   "outputs": [],
   "source": []
  }
 ],
 "metadata": {
  "kernelspec": {
   "display_name": "Python 3",
   "language": "python",
   "name": "python3"
  },
  "language_info": {
   "codemirror_mode": {
    "name": "ipython",
    "version": 3
   },
   "file_extension": ".py",
   "mimetype": "text/x-python",
   "name": "python",
   "nbconvert_exporter": "python",
   "pygments_lexer": "ipython3",
   "version": "3.7.3"
  }
 },
 "nbformat": 4,
 "nbformat_minor": 2
}
