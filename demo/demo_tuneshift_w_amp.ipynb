{
 "cells": [
  {
   "cell_type": "code",
   "execution_count": null,
   "metadata": {},
   "outputs": [],
   "source": [
    "if True:\n",
    "    %matplotlib notebook\n",
    "elif False:\n",
    "    %matplotlib inline\n",
    "else:\n",
    "    %matplotlib qt"
   ]
  },
  {
   "cell_type": "code",
   "execution_count": null,
   "metadata": {},
   "outputs": [],
   "source": [
    "import getpass\n",
    "import matplotlib.pylab as plt\n",
    "\n",
    "import pyelegant as pe\n",
    "from pyelegant import nonlin\n",
    "from pyelegant import util"
   ]
  },
  {
   "cell_type": "code",
   "execution_count": null,
   "metadata": {},
   "outputs": [],
   "source": [
    "pe.disable_stdout()\n",
    "\n",
    "if True:\n",
    "    remote_mail_notifications = {}\n",
    "else:\n",
    "    username = getpass.getuser()\n",
    "    remote_mail_notifications = dict(\n",
    "        mail_type='END',\n",
    "        mail_user=f'{username}@bnl.gov',\n",
    "    )"
   ]
  },
  {
   "cell_type": "code",
   "execution_count": null,
   "metadata": {},
   "outputs": [],
   "source": [
    "LTE_filepath = 'nsls2cb65pm.lte'\n",
    "E_MeV = 3e3\n",
    "\n",
    "nx = ny = 50"
   ]
  },
  {
   "cell_type": "code",
   "execution_count": null,
   "metadata": {},
   "outputs": [],
   "source": [
    "%%timeit -n 1 -r 1\n",
    "# 4min 12s ± 0 ns per loop (mean ± std. dev. of 1 run, 1 loop each) on nsls2apcluster\n",
    "# 3min 6s ± 0 ns per loop (mean ± std. dev. of 1 run, 1 loop each) on nsls2pluto\n",
    "\n",
    "abs_xmax = 1e-3\n",
    "sign = '+'\n",
    "n_turns = 128\n",
    "\n",
    "run_local = True\n",
    "\n",
    "output_filepath = 'test_tswa_x{}.pgz'.format('plus' if sign == '+' else 'minus')\n",
    "if not run_local:\n",
    "    name, suffix = output_filepath.split('.')\n",
    "    output_filepath = '.'.join([f'{name}_parallel', suffix])\n",
    "\n",
    "output_filepath = nonlin.calc_tswa_x(\n",
    "    output_filepath, LTE_filepath, E_MeV, abs_xmax, nx, sign,\n",
    "    n_turns=n_turns, run_local=run_local)\n",
    "print(output_filepath)"
   ]
  },
  {
   "cell_type": "code",
   "execution_count": null,
   "metadata": {
    "scrolled": true
   },
   "outputs": [],
   "source": [
    "%%timeit -n 1 -r 1\n",
    "# 22.2 s ± 0 ns per loop (mean ± std. dev. of 1 run, 1 loop each) on nsls2apcluster\n",
    "# 24.8 s ± 0 ns per loop (mean ± std. dev. of 1 run, 1 loop each) on nsls2pluto\n",
    "\n",
    "abs_xmax = 1e-3\n",
    "sign = '+'\n",
    "n_turns = 128\n",
    "\n",
    "run_local = False\n",
    "\n",
    "remote_opts = dict(job_name='tswa', ntasks=20)\n",
    "remote_opts.update(remote_mail_notifications)\n",
    "if pe.facility_name == 'nsls2apcluster':\n",
    "    remote_opts['partition'] = 'short'\n",
    "    remote_opts['time'] = '1:00'\n",
    "    #remote_opts['nodelist'] = ['apcpu-004']\n",
    "elif pe.facility_name == 'nsls2pluto':\n",
    "    remote_opts['partition'] = 'normal'\n",
    "    remote_opts['qos'] = 'debug'\n",
    "    remote_opts['time'] = '1:00'\n",
    "    #remote_opts['nodelist'] = ['hpc005']\n",
    "\n",
    "output_filepath = 'test_tswa_x{}.pgz'.format('plus' if sign == '+' else 'minus')\n",
    "if not run_local:\n",
    "    name, suffix = output_filepath.split('.')\n",
    "    output_filepath = '.'.join([f'{name}_parallel', suffix])\n",
    "\n",
    "output_filepath = nonlin.calc_tswa_x(\n",
    "    output_filepath, LTE_filepath, E_MeV, abs_xmax, nx, sign,\n",
    "    n_turns=n_turns, run_local=run_local, remote_opts=remote_opts)\n",
    "print(output_filepath)"
   ]
  },
  {
   "cell_type": "code",
   "execution_count": null,
   "metadata": {},
   "outputs": [],
   "source": [
    "%%timeit -n 1 -r 1\n",
    "# 22 s ± 0 ns per loop (mean ± std. dev. of 1 run, 1 loop each) on nsls2apcluster\n",
    "# 29.7 s ± 0 ns per loop (mean ± std. dev. of 1 run, 1 loop each) on nsls2pluto\n",
    "\n",
    "abs_xmax = 1e-3\n",
    "sign = '-'\n",
    "n_turns = 128\n",
    "\n",
    "run_local = False\n",
    "\n",
    "remote_opts = dict(job_name='tswa', ntasks=20)\n",
    "remote_opts.update(remote_mail_notifications)\n",
    "if pe.facility_name == 'nsls2apcluster':\n",
    "    remote_opts['partition'] = 'short'\n",
    "    remote_opts['time'] = '1:00'\n",
    "    #remote_opts['nodelist'] = ['apcpu-004']\n",
    "elif pe.facility_name == 'nsls2pluto':\n",
    "    remote_opts['partition'] = 'normal'\n",
    "    remote_opts['qos'] = 'debug'\n",
    "    remote_opts['time'] = '1:00'\n",
    "    #remote_opts['nodelist'] = ['hpc005']\n",
    "\n",
    "output_filepath = 'test_tswa_x{}.pgz'.format('plus' if sign == '+' else 'minus')\n",
    "if not run_local:\n",
    "    name, suffix = output_filepath.split('.')\n",
    "    output_filepath = '.'.join([f'{name}_parallel', suffix])\n",
    "\n",
    "output_filepath = nonlin.calc_tswa_x(\n",
    "    output_filepath, LTE_filepath, E_MeV, abs_xmax, nx, sign,\n",
    "    n_turns=n_turns, run_local=run_local, remote_opts=remote_opts)\n",
    "print(output_filepath)"
   ]
  },
  {
   "cell_type": "code",
   "execution_count": null,
   "metadata": {},
   "outputs": [],
   "source": [
    "%%timeit -n 1 -r 1\n",
    "# 24.9 s ± 0 ns per loop (mean ± std. dev. of 1 run, 1 loop each) on nsls2apcluster\n",
    "# 24.3 s ± 0 ns per loop (mean ± std. dev. of 1 run, 1 loop each) on nsls2pluto\n",
    "\n",
    "abs_ymax = 0.5e-3\n",
    "sign = '+'\n",
    "n_turns = 128\n",
    "\n",
    "run_local = False\n",
    "\n",
    "remote_opts = dict(job_name='tswa', ntasks=20)\n",
    "remote_opts.update(remote_mail_notifications)\n",
    "if pe.facility_name == 'nsls2apcluster':\n",
    "    remote_opts['partition'] = 'short'\n",
    "    remote_opts['time'] = '1:00'\n",
    "    #remote_opts['nodelist'] = ['apcpu-004']\n",
    "elif pe.facility_name == 'nsls2pluto':\n",
    "    remote_opts['partition'] = 'normal'\n",
    "    remote_opts['qos'] = 'debug'\n",
    "    remote_opts['time'] = '1:00'\n",
    "    #remote_opts['nodelist'] = ['hpc005']\n",
    "\n",
    "output_filepath = 'test_tswa_y{}.pgz'.format('plus' if sign == '+' else 'minus')\n",
    "if not run_local:\n",
    "    name, suffix = output_filepath.split('.')\n",
    "    output_filepath = '.'.join([f'{name}_parallel', suffix])\n",
    "\n",
    "output_filepath = nonlin.calc_tswa_y(\n",
    "    output_filepath, LTE_filepath, E_MeV, abs_ymax, ny, sign,\n",
    "    n_turns=n_turns, run_local=run_local, remote_opts=remote_opts)\n",
    "print(output_filepath)"
   ]
  },
  {
   "cell_type": "code",
   "execution_count": null,
   "metadata": {},
   "outputs": [],
   "source": [
    "%%timeit -n 1 -r 1\n",
    "# 25.2 s ± 0 ns per loop (mean ± std. dev. of 1 run, 1 loop each) on nsls2apcluster\n",
    "# 25 s ± 0 ns per loop (mean ± std. dev. of 1 run, 1 loop each) on nsls2pluto\n",
    "\n",
    "abs_ymax = 0.5e-3\n",
    "sign = '-'\n",
    "n_turns = 128\n",
    "\n",
    "run_local = False\n",
    "\n",
    "remote_opts = dict(job_name='tswa', ntasks=20)\n",
    "remote_opts.update(remote_mail_notifications)\n",
    "if pe.facility_name == 'nsls2apcluster':\n",
    "    remote_opts['partition'] = 'short'\n",
    "    remote_opts['time'] = '1:00'\n",
    "    #remote_opts['nodelist'] = ['apcpu-004']\n",
    "elif pe.facility_name == 'nsls2pluto':\n",
    "    remote_opts['partition'] = 'normal'\n",
    "    remote_opts['qos'] = 'debug'\n",
    "    remote_opts['time'] = '1:00'\n",
    "    #remote_opts['nodelist'] = ['hpc005']\n",
    "\n",
    "output_filepath = 'test_tswa_y{}.pgz'.format('plus' if sign == '+' else 'minus')\n",
    "if not run_local:\n",
    "    name, suffix = output_filepath.split('.')\n",
    "    output_filepath = '.'.join([f'{name}_parallel', suffix])\n",
    "\n",
    "output_filepath = nonlin.calc_tswa_y(\n",
    "    output_filepath, LTE_filepath, E_MeV, abs_ymax, ny, sign,\n",
    "    n_turns=n_turns, run_local=run_local, remote_opts=remote_opts)\n",
    "print(output_filepath)"
   ]
  },
  {
   "cell_type": "code",
   "execution_count": null,
   "metadata": {
    "scrolled": true
   },
   "outputs": [],
   "source": [
    "title = f'$\\mathrm{{{LTE_filepath}}}$'\n",
    "nonlin.plot_tswa('test_tswa_xplus_parallel.pgz', title=title, fit_abs_xmax=0.5e-3)\n",
    "nonlin.plot_tswa('test_tswa_xminus_parallel.pgz', title=title, fit_abs_xmax=0.5e-3)"
   ]
  },
  {
   "cell_type": "code",
   "execution_count": null,
   "metadata": {},
   "outputs": [],
   "source": [
    "title = f'$\\mathrm{{{LTE_filepath}}}$'\n",
    "nonlin.plot_tswa('test_tswa_yplus_parallel.pgz', title=title, fit_abs_ymax=0.25e-3)\n",
    "nonlin.plot_tswa('test_tswa_yminus_parallel.pgz', title=title, fit_abs_ymax=0.25e-3)"
   ]
  },
  {
   "cell_type": "code",
   "execution_count": null,
   "metadata": {},
   "outputs": [],
   "source": [
    "title = f'$\\mathrm{{{LTE_filepath}}}$'\n",
    "nonlin.plot_tswa_both_sides(\n",
    "    'test_tswa_xplus_parallel.pgz', 'test_tswa_xminus_parallel.pgz', title=title,\n",
    "    fit_xmax=0.5e-3, fit_xmin=-0.5e-3\n",
    ")"
   ]
  },
  {
   "cell_type": "code",
   "execution_count": null,
   "metadata": {},
   "outputs": [],
   "source": [
    "title = f'$\\mathrm{{{LTE_filepath}}}$'\n",
    "nonlin.plot_tswa_both_sides(\n",
    "    'test_tswa_yplus_parallel.pgz', 'test_tswa_yminus_parallel.pgz', title=title,\n",
    "    fit_ymax=0.25e-3, fit_ymin=-0.25e-3)"
   ]
  },
  {
   "cell_type": "code",
   "execution_count": null,
   "metadata": {},
   "outputs": [],
   "source": [
    "%%timeit -n 1 -r 1\n",
    "# 1min 47s ± 0 ns per loop (mean ± std. dev. of 1 run, 1 loop each) on nsls2apcluster\n",
    "# 2min 2s ± 0 ns per loop (mean ± std. dev. of 1 run, 1 loop each) on nsls2pluto\n",
    "\n",
    "abs_ymax = 0.5e-3\n",
    "sign = '+'\n",
    "n_turns = 1024\n",
    "\n",
    "run_local = False\n",
    "\n",
    "remote_opts = dict(job_name='tswa', ntasks=20)\n",
    "remote_opts.update(remote_mail_notifications)\n",
    "if pe.facility_name == 'nsls2apcluster':\n",
    "    remote_opts['partition'] = 'short'\n",
    "    remote_opts['time'] = '5:00'\n",
    "    #remote_opts['nodelist'] = ['apcpu-004']\n",
    "elif pe.facility_name == 'nsls2pluto':\n",
    "    remote_opts['partition'] = 'normal'\n",
    "    remote_opts['qos'] = 'debug'\n",
    "    remote_opts['time'] = '5:00'\n",
    "    #remote_opts['nodelist'] = ['hpc005']\n",
    "\n",
    "output_filepath = 'test_tswa_y{}_n{:d}.pgz'.format('plus' if sign == '+' else 'minus', n_turns)\n",
    "if not run_local:\n",
    "    name, suffix = output_filepath.split('.')\n",
    "    output_filepath = '.'.join([f'{name}_parallel', suffix])\n",
    "\n",
    "output_filepath = nonlin.calc_tswa_y(\n",
    "    output_filepath, LTE_filepath, E_MeV, abs_ymax, ny, sign,\n",
    "    n_turns=n_turns, run_local=run_local, remote_opts=remote_opts)\n",
    "print(output_filepath)"
   ]
  },
  {
   "cell_type": "code",
   "execution_count": null,
   "metadata": {},
   "outputs": [],
   "source": [
    "%%timeit -n 1 -r 1\n",
    "# 50 s ± 0 ns per loop (mean ± std. dev. of 1 run, 1 loop each) on nsls2apcluster\n",
    "# 1min 7s ± 0 ns per loop (mean ± std. dev. of 1 run, 1 loop each) on nsls2pluto\n",
    "\n",
    "abs_ymax = 0.5e-3\n",
    "sign = '+'\n",
    "n_turns = 1024\n",
    "\n",
    "run_local = False\n",
    "\n",
    "remote_opts = dict(job_name='tswa', ntasks=50)\n",
    "remote_opts.update(remote_mail_notifications)\n",
    "if pe.facility_name == 'nsls2apcluster':\n",
    "    remote_opts['partition'] = 'short'\n",
    "    remote_opts['time'] = '1:00'\n",
    "    #remote_opts['nodelist'] = ['apcpu-004']\n",
    "elif pe.facility_name == 'nsls2pluto':\n",
    "    remote_opts['partition'] = 'normal'\n",
    "    remote_opts['qos'] = 'debug'\n",
    "    remote_opts['time'] = '1:00'\n",
    "    #remote_opts['nodelist'] = ['hpc005']\n",
    "\n",
    "output_filepath = 'test_tswa_y{}_n{:d}.pgz'.format('plus' if sign == '+' else 'minus', n_turns)\n",
    "if not run_local:\n",
    "    name, suffix = output_filepath.split('.')\n",
    "    output_filepath = '.'.join([f'{name}_parallel', suffix])\n",
    "\n",
    "output_filepath = nonlin.calc_tswa_y(\n",
    "    output_filepath, LTE_filepath, E_MeV, abs_ymax, ny, sign,\n",
    "    n_turns=n_turns, run_local=run_local, remote_opts=remote_opts)\n",
    "print(output_filepath)"
   ]
  },
  {
   "cell_type": "code",
   "execution_count": null,
   "metadata": {},
   "outputs": [],
   "source": [
    "title = f'$\\mathrm{{{LTE_filepath}}}$'\n",
    "nonlin.plot_tswa('test_tswa_yplus_n1024_parallel.pgz', title=title, fit_abs_ymax=0.25e-3)"
   ]
  },
  {
   "cell_type": "code",
   "execution_count": null,
   "metadata": {},
   "outputs": [],
   "source": []
  }
 ],
 "metadata": {
  "kernelspec": {
   "display_name": "Python 3",
   "language": "python",
   "name": "python3"
  },
  "language_info": {
   "codemirror_mode": {
    "name": "ipython",
    "version": 3
   },
   "file_extension": ".py",
   "mimetype": "text/x-python",
   "name": "python",
   "nbconvert_exporter": "python",
   "pygments_lexer": "ipython3",
   "version": "3.8.8"
  },
  "varInspector": {
   "cols": {
    "lenName": 16,
    "lenType": 16,
    "lenVar": 40
   },
   "kernels_config": {
    "python": {
     "delete_cmd_postfix": "",
     "delete_cmd_prefix": "del ",
     "library": "var_list.py",
     "varRefreshCmd": "print(var_dic_list())"
    },
    "r": {
     "delete_cmd_postfix": ") ",
     "delete_cmd_prefix": "rm(",
     "library": "var_list.r",
     "varRefreshCmd": "cat(var_dic_list()) "
    }
   },
   "types_to_exclude": [
    "module",
    "function",
    "builtin_function_or_method",
    "instance",
    "_Feature"
   ],
   "window_display": false
  }
 },
 "nbformat": 4,
 "nbformat_minor": 2
}
