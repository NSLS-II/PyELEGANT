{
 "cells": [
  {
   "cell_type": "code",
   "execution_count": null,
   "metadata": {},
   "outputs": [],
   "source": [
    "import pyelegant as pe\n",
    "from pyelegant import elebuilder\n",
    "from pyelegant import remote\n",
    "from pyelegant import sdds\n",
    "from pyelegant import util\n",
    "from pyelegant import notation"
   ]
  },
  {
   "cell_type": "code",
   "execution_count": null,
   "metadata": {
    "scrolled": true
   },
   "outputs": [],
   "source": [
    "ed = elebuilder.EleDesigner()\n",
    "\n",
    "rf = ed.rpnfuncs\n",
    "rd = ed.rpnvars['optimization_term'].dict\n",
    "\n",
    "ini_LTE_filepath = 'nsls2cb72pm_LS_SS_LS_ZeroSexts.lte'\n",
    "use_beamline = 'CELL_LS_SS_LS'\n",
    "\n",
    "nsls2_flr_filepath = '/GPFS/APC/yhidaka/git_repos/nsls2cb/nsls2.flr'\n",
    "\n",
    "ed.add_block('run_setup',\n",
    "    lattice = ini_LTE_filepath,\n",
    "    p_central_mev = 3e3, use_beamline=use_beamline, semaphore_file = '%s.done',\n",
    "    parameters='%s.param', default_order = 2)\n",
    "\n",
    "ed.add_newline()\n",
    "ed.add_block('run_control')\n",
    "\n",
    "ed.add_newline()\n",
    "ed.add_comment('! Use simplex optimization')\n",
    "ed.add_block('optimization_setup', mode = 'minimize', method = 'simplex')\n",
    "\n",
    "ed.add_newline()\n",
    "ed.add_comment('! Dipole Angles')\n",
    "for name in ['BD', 'BF', 'LBD', 'LBF', 'HBD', 'HBF', 'MBD', 'MBF']:\n",
    "    ed.add_block('optimization_variable',\n",
    "        name = name, item = 'ANGLE',\n",
    "        lower_limit=-0.01, upper_limit=0.03, step_size=1e-5)\n",
    "\n",
    "eq = rf.dtor(24) - (\n",
    "    rd['BD.ANGLE'] * ed.get_LTE_elem_count('BD') + \n",
    "    rd['BF.ANGLE'] * ed.get_LTE_elem_count('BF') +\n",
    "    rd['LBD.ANGLE'] * ed.get_LTE_elem_count('LBD') +\n",
    "    rd['LBF.ANGLE'] * ed.get_LTE_elem_count('LBF') +\n",
    "    rd['HBD.ANGLE'] * ed.get_LTE_elem_count('HBD') +\n",
    "    rd['HBF.ANGLE'] * ed.get_LTE_elem_count('HBF') +\n",
    "    rd['MBD.ANGLE'] * ed.get_LTE_elem_count('MBD') +\n",
    "    rd['MBF.ANGLE'] * ed.get_LTE_elem_count('MBF')\n",
    ")\n",
    "ed.add_block('optimization_term',term = rf.abs(eq))\n",
    "\n",
    "ed.add_block('optimization_term',term = \"Particles 1 1e-10 sene\")\n",
    "#ed.add_block('optimization_term',term = \"M_SS#1.Particles 1 1e-10 sene\")\n",
    "#ed.add_block('optimization_term',term = \"Particles\")\n",
    "\n",
    "ed.add_block('bunched_beam')\n",
    "\n",
    "ed.add_comment(\"! Start optimization\")\n",
    "ed.add_block('optimize')\n",
    "\n",
    "ed.write()"
   ]
  }
 ],
 "metadata": {
  "kernelspec": {
   "display_name": "Python 3",
   "language": "python",
   "name": "python3"
  },
  "language_info": {
   "codemirror_mode": {
    "name": "ipython",
    "version": 3
   },
   "file_extension": ".py",
   "mimetype": "text/x-python",
   "name": "python",
   "nbconvert_exporter": "python",
   "pygments_lexer": "ipython3",
   "version": "3.8.8"
  }
 },
 "nbformat": 4,
 "nbformat_minor": 2
}
