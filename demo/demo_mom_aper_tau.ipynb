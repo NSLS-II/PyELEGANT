{
 "cells": [
  {
   "cell_type": "code",
   "execution_count": null,
   "metadata": {},
   "outputs": [],
   "source": [
    "if True:\n",
    "    %matplotlib notebook\n",
    "elif False:\n",
    "    %matplotlib inline\n",
    "else:\n",
    "    %matplotlib qt"
   ]
  },
  {
   "cell_type": "code",
   "execution_count": null,
   "metadata": {},
   "outputs": [],
   "source": [
    "import getpass\n",
    "\n",
    "import pyelegant as pe\n",
    "from pyelegant import nonlin\n",
    "from pyelegant import util"
   ]
  },
  {
   "cell_type": "code",
   "execution_count": null,
   "metadata": {},
   "outputs": [],
   "source": [
    "pe.disable_stdout()\n",
    "\n",
    "if True:\n",
    "    remote_mail_notifications = {}\n",
    "else:\n",
    "    username = getpass.getuser()\n",
    "    remote_mail_notifications = dict(\n",
    "        mail_type='END',\n",
    "        mail_user=f'{username}@bnl.gov',\n",
    "    )"
   ]
  },
  {
   "cell_type": "code",
   "execution_count": null,
   "metadata": {},
   "outputs": [],
   "source": [
    "LTE_filepath = 'nsls2cb65pm.lte'\n",
    "use_beamline = 'RING' # Must be the beamline for a full ring, NOT one cell\n",
    "E_MeV = 3e3"
   ]
  },
  {
   "cell_type": "code",
   "execution_count": null,
   "metadata": {
    "scrolled": true
   },
   "outputs": [],
   "source": [
    "%%timeit -n 1 -r 1\n",
    "# 20min 39s ± 0 ns per loop (mean ± std. dev. of 1 run, 1 loop each) on nsls2apcluster\n",
    "# 29min 45s ± 0 ns per loop (mean ± std. dev. of 1 run, 1 loop each) on nsls2pluto\n",
    "\n",
    "# Example for RF/radiation both off & for the full ring\n",
    "if False:\n",
    "\n",
    "    n_turns = 128\n",
    "    s_start = 0.0\n",
    "    s_end = None # full ring, NOT just one super cell\n",
    "    include_name_pattern = '[QS]*'\n",
    "    x_initial = 1e-5\n",
    "    y_initial = 1e-5\n",
    "    delta_negative_start = -1e-3\n",
    "    delta_positive_start = +1e-3\n",
    "    delta_negative_limit = -5e-2\n",
    "    delta_positive_limit = +5e-2\n",
    "    init_delta_step_size = 5e-3    \n",
    "\n",
    "    ntasks = 100\n",
    "\n",
    "    remote_opts = dict(\n",
    "        pelegant=True, job_name='momaper', ntasks=ntasks,\n",
    "        sbatch={'use': True, 'wait': True},\n",
    "    )\n",
    "    remote_opts.update(remote_mail_notifications)\n",
    "    if pe.facility_name == 'nsls2apcluster':\n",
    "        remote_opts['partition'] = 'short'\n",
    "        remote_opts['time'] = '1:00:00'\n",
    "        #remote_opts['nodelist'] = ['apcpu-004']\n",
    "    elif pe.facility_name == 'nsls2pluto':\n",
    "        remote_opts['partition'] = 'normal'\n",
    "        remote_opts['qos'] = 'normal'\n",
    "        remote_opts['time'] = '1:00:00'\n",
    "        #remote_opts['nodelist'] = ['hpc005']\n",
    "\n",
    "    output_filepath = f'test_momAper_n{n_turns}.hdf5'\n",
    "    nonlin.calc_mom_aper(\n",
    "        output_filepath, LTE_filepath, E_MeV, \n",
    "        use_beamline=use_beamline, # Must be the beamline for a full ring, NOT one cell\n",
    "        x_initial=x_initial, y_initial=y_initial,\n",
    "        delta_negative_start=delta_negative_start, delta_negative_limit=delta_negative_limit,\n",
    "        delta_positive_start=delta_positive_start, delta_positive_limit=delta_positive_limit,\n",
    "        init_delta_step_size=init_delta_step_size, s_start=s_start, s_end=s_end,\n",
    "        include_name_pattern=include_name_pattern, n_turns=n_turns, \n",
    "        rf_cavity_on=False, radiation_on=False,\n",
    "        run_local=False, remote_opts=remote_opts)\n"
   ]
  },
  {
   "cell_type": "code",
   "execution_count": null,
   "metadata": {},
   "outputs": [],
   "source": [
    "output_filepath = 'test_momAper_n128.hdf5'\n",
    "\n",
    "title = f'$\\mathrm{{{LTE_filepath}}}$'\n",
    "\n",
    "nonlin.plot_mom_aper(output_filepath, title=title, slim=[0, 792/15])"
   ]
  },
  {
   "cell_type": "code",
   "execution_count": null,
   "metadata": {},
   "outputs": [],
   "source": [
    "RFharm = 1320\n",
    "RFvolt = 3e6\n",
    "\n",
    "twi_d = pe.util.load_sdds_hdf5_file(output_filepath)[0]['twi']\n",
    "circumf = twi_d['arrays']['s'][-1]\n",
    "print(f'Circumference [m]: {circumf:.6g}')\n",
    "U0_eV = twi_d['scalars']['U0'] * 1e6\n",
    "\n",
    "rf_params = nonlin.calc_ring_rf_params(RFharm, circumf, U0_eV, rf_volt=RFvolt)\n",
    "rf_params"
   ]
  },
  {
   "cell_type": "code",
   "execution_count": null,
   "metadata": {},
   "outputs": [],
   "source": [
    "# Need to create an SDDS file from the HDF5 file, which can be directly fed\n",
    "# into the ELEGANT's lifetime calculation function.\n",
    "\n",
    "mmap_h5_filepath = 'test_momAper_n128.hdf5' # This is for the furll ring\n",
    "mmap_sdds_filepath = mmap_h5_filepath.replace('.hdf5', '.mmap')\n",
    "mmap_d = pe.util.load_sdds_hdf5_file(mmap_h5_filepath)[0]['mmap']\n",
    "pe.sdds.dicts2sdds(mmap_sdds_filepath, params=mmap_d['scalars'],\n",
    "                   columns=mmap_d['arrays'], outputMode='binary')"
   ]
  },
  {
   "cell_type": "code",
   "execution_count": null,
   "metadata": {},
   "outputs": [],
   "source": [
    "Ib = 0.5e-3 # [A]\n",
    "rf_freq_Hz = rf_params['freq_Hz']\n",
    "charge_C = Ib / (rf_freq_Hz / RFharm)\n",
    "emit_ratio = 1.0\n",
    "max_mom_aper_percent = None\n",
    "ignoreMismatch = True\n",
    "\n",
    "print_cmd = True"
   ]
  },
  {
   "cell_type": "code",
   "execution_count": null,
   "metadata": {},
   "outputs": [],
   "source": [
    "output_filepath = 'test_tau.pgz'\n",
    "nonlin.calc_Touschek_lifetime(\n",
    "    output_filepath, LTE_filepath, E_MeV, mmap_sdds_filepath, charge_C, emit_ratio, RFvolt, RFharm, \n",
    "    use_beamline=use_beamline, # Must be the beamline for a full ring, NOT one cell\n",
    "    max_mom_aper_percent=max_mom_aper_percent, \n",
    "    ignoreMismatch=ignoreMismatch, print_cmd=print_cmd)"
   ]
  },
  {
   "cell_type": "code",
   "execution_count": null,
   "metadata": {
    "scrolled": true
   },
   "outputs": [],
   "source": [
    "d = pe.util.load_pgz_file(output_filepath)\n",
    "d['data']['life']"
   ]
  },
  {
   "cell_type": "code",
   "execution_count": null,
   "metadata": {},
   "outputs": [],
   "source": [
    "title = f'$\\mathrm{{{LTE_filepath}}}$'\n",
    "\n",
    "nonlin.plot_Touschek_lifetime(output_filepath, title=title)"
   ]
  },
  {
   "cell_type": "code",
   "execution_count": null,
   "metadata": {},
   "outputs": [],
   "source": [
    "circumf = 791.958"
   ]
  },
  {
   "cell_type": "code",
   "execution_count": null,
   "metadata": {},
   "outputs": [],
   "source": [
    "%%timeit -n 1 -r 1\n",
    "# 4min 46s ± 0 ns per loop (mean ± std. dev. of 1 run, 1 loop each) on nsls2pluto\n",
    "\n",
    "# Example for RF/radiation both off & for one super cell\n",
    "if False:\n",
    "\n",
    "    n_turns = 128\n",
    "    s_start = 0.0\n",
    "    s_end = circumf / 15 # Just one super cell, NOT a full ring\n",
    "    # (Note that \"use_beamline\" should still be a beamline for a full ring, as the Twiss parameters\n",
    "    # used must be for the full ring.)\n",
    "    include_name_pattern = '[QS]*'\n",
    "    x_initial = 1e-5\n",
    "    y_initial = 1e-5\n",
    "    delta_negative_start = -1e-3\n",
    "    delta_positive_start = +1e-3\n",
    "    delta_negative_limit = -5e-2\n",
    "    delta_positive_limit = +5e-2\n",
    "    init_delta_step_size = 5e-3    \n",
    "\n",
    "    ntasks = 100\n",
    "\n",
    "    remote_opts = dict(\n",
    "        pelegant=True, job_name='momaper', ntasks=ntasks,\n",
    "        sbatch={'use': True, 'wait': True},\n",
    "    )\n",
    "    remote_opts.update(remote_mail_notifications)\n",
    "    if pe.facility_name == 'nsls2apcluster':\n",
    "        remote_opts['partition'] = 'short'\n",
    "        remote_opts['time'] = '1:00:00'\n",
    "        #remote_opts['nodelist'] = ['apcpu-004']\n",
    "    elif pe.facility_name == 'nsls2pluto':\n",
    "        remote_opts['partition'] = 'normal'\n",
    "        remote_opts['qos'] = 'normal'\n",
    "        remote_opts['time'] = '1:00:00'\n",
    "        #remote_opts['nodelist'] = ['hpc005']\n",
    "\n",
    "    output_filepath = f'test_momAper_oneSupCell_n{n_turns}.hdf5'\n",
    "    nonlin.calc_mom_aper(\n",
    "        output_filepath, LTE_filepath, E_MeV, \n",
    "        use_beamline=use_beamline, # Must be the beamline for a full ring, NOT one cell\n",
    "        x_initial=x_initial, y_initial=y_initial,\n",
    "        delta_negative_start=delta_negative_start, delta_negative_limit=delta_negative_limit,\n",
    "        delta_positive_start=delta_positive_start, delta_positive_limit=delta_positive_limit,\n",
    "        init_delta_step_size=init_delta_step_size, s_start=s_start, s_end=s_end,\n",
    "        include_name_pattern=include_name_pattern, n_turns=n_turns, \n",
    "        rf_cavity_on=False, radiation_on=False,\n",
    "        run_local=False, remote_opts=remote_opts)"
   ]
  },
  {
   "cell_type": "code",
   "execution_count": null,
   "metadata": {},
   "outputs": [],
   "source": [
    "output_filepath = 'test_momAper_oneSupCell_n128.hdf5'\n",
    "\n",
    "title = f'$\\mathrm{{{LTE_filepath}}}$'\n",
    "\n",
    "nonlin.plot_mom_aper(output_filepath, title=title)"
   ]
  },
  {
   "cell_type": "code",
   "execution_count": null,
   "metadata": {},
   "outputs": [],
   "source": [
    "RFharm = 1320\n",
    "RFvolt = 3e6\n",
    "\n",
    "# This Twiss data should be for the full ring, NOT one super-cell.\n",
    "twi_d = pe.util.load_sdds_hdf5_file(output_filepath)[0]['twi']\n",
    "circumf = twi_d['arrays']['s'][-1]\n",
    "print(f'Circumference [m]: {circumf:.6g}')\n",
    "U0_eV = twi_d['scalars']['U0'] * 1e6\n",
    "\n",
    "rf_params = nonlin.calc_ring_rf_params(RFharm, circumf, U0_eV, rf_volt=RFvolt)\n",
    "rf_params"
   ]
  },
  {
   "cell_type": "code",
   "execution_count": null,
   "metadata": {},
   "outputs": [],
   "source": [
    "# Since the momentum aperture data only extend to one super period,\n",
    "# the data must be duplicated to cover the whole ring. Also, create\n",
    "# an SDDS file from the HDF5 file, which can be directly fed\n",
    "# into the ELEGANT's lifetime calculation function.\n",
    "\n",
    "mmap_h5_filepath = 'test_momAper_oneSupCell_n128.hdf5' # This is for one super-cell\n",
    "mmap_sdds_filepath_cell = mmap_h5_filepath.replace('.hdf5', '.mmap')\n",
    "mmap_sdds_filepath_ring = mmap_h5_filepath.replace('.hdf5', '.mmapxt')\n",
    "mmap_d = pe.util.load_sdds_hdf5_file(mmap_h5_filepath)[0]['mmap']\n",
    "\n",
    "# First generate a mom-aper SDDS file for one super-cell\n",
    "pe.sdds.dicts2sdds(mmap_sdds_filepath_cell, params=mmap_d['scalars'],\n",
    "                   columns=mmap_d['arrays'], outputMode='binary')\n",
    "\n",
    "# Then extend the mom-aper data to the full ring by duplicating\n",
    "n_periods_in_ring = 15\n",
    "dup_filenames = ' '.join(\n",
    "    [mmap_sdds_filepath_cell] * n_periods_in_ring)\n",
    "msectors = 1\n",
    "cmd_list = [\n",
    "    f'sddscombine {dup_filenames} -pipe=out',\n",
    "    f'sddsprocess -pipe \"-redefine=col,s,s i_page 1 - {circumf:.16g} {n_periods_in_ring} / * {msectors} * +,units=m\"',\n",
    "    f'sddscombine -pipe -merge',\n",
    "    f'sddsprocess -pipe=in {mmap_sdds_filepath_ring} -filter=col,s,0,{circumf:.16g}',\n",
    "]\n",
    "if False: print(cmd_list)\n",
    "result, err, returncode = pe.util.chained_Popen(cmd_list)\n",
    "result, err, returncode"
   ]
  },
  {
   "cell_type": "code",
   "execution_count": null,
   "metadata": {},
   "outputs": [],
   "source": [
    "Ib = 0.5e-3 # [A]\n",
    "rf_freq_Hz = rf_params['freq_Hz']\n",
    "charge_C = Ib / (rf_freq_Hz / RFharm)\n",
    "emit_ratio = 1.0\n",
    "max_mom_aper_percent = None\n",
    "ignoreMismatch = True\n",
    "\n",
    "print_cmd = True"
   ]
  },
  {
   "cell_type": "code",
   "execution_count": null,
   "metadata": {},
   "outputs": [],
   "source": [
    "output_filepath = 'test_tau_oneSupCell.pgz'\n",
    "nonlin.calc_Touschek_lifetime(\n",
    "    output_filepath, LTE_filepath, E_MeV, mmap_sdds_filepath_ring, charge_C, emit_ratio, RFvolt, RFharm, \n",
    "    use_beamline=use_beamline, # Must be the beamline for a full ring, NOT one cell\n",
    "    max_mom_aper_percent=max_mom_aper_percent, \n",
    "    ignoreMismatch=ignoreMismatch, print_cmd=print_cmd)"
   ]
  },
  {
   "cell_type": "code",
   "execution_count": null,
   "metadata": {},
   "outputs": [],
   "source": [
    "d = pe.util.load_pgz_file(output_filepath)\n",
    "d['data']['life']"
   ]
  },
  {
   "cell_type": "code",
   "execution_count": null,
   "metadata": {},
   "outputs": [],
   "source": [
    "title = f'$\\mathrm{{{LTE_filepath}}}$'\n",
    "\n",
    "nonlin.plot_Touschek_lifetime(output_filepath, title=title)"
   ]
  },
  {
   "cell_type": "code",
   "execution_count": null,
   "metadata": {},
   "outputs": [],
   "source": []
  }
 ],
 "metadata": {
  "kernelspec": {
   "display_name": "Python 3",
   "language": "python",
   "name": "python3"
  },
  "language_info": {
   "codemirror_mode": {
    "name": "ipython",
    "version": 3
   },
   "file_extension": ".py",
   "mimetype": "text/x-python",
   "name": "python",
   "nbconvert_exporter": "python",
   "pygments_lexer": "ipython3",
   "version": "3.8.8"
  },
  "varInspector": {
   "cols": {
    "lenName": 16,
    "lenType": 16,
    "lenVar": 40
   },
   "kernels_config": {
    "python": {
     "delete_cmd_postfix": "",
     "delete_cmd_prefix": "del ",
     "library": "var_list.py",
     "varRefreshCmd": "print(var_dic_list())"
    },
    "r": {
     "delete_cmd_postfix": ") ",
     "delete_cmd_prefix": "rm(",
     "library": "var_list.r",
     "varRefreshCmd": "cat(var_dic_list()) "
    }
   },
   "types_to_exclude": [
    "module",
    "function",
    "builtin_function_or_method",
    "instance",
    "_Feature"
   ],
   "window_display": false
  }
 },
 "nbformat": 4,
 "nbformat_minor": 2
}
