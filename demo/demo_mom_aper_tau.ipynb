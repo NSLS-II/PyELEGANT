{
 "cells": [
  {
   "cell_type": "code",
   "execution_count": null,
   "metadata": {},
   "outputs": [],
   "source": [
    "if True:\n",
    "    %matplotlib notebook\n",
    "elif False:\n",
    "    %matplotlib inline\n",
    "else:\n",
    "    %matplotlib qt"
   ]
  },
  {
   "cell_type": "code",
   "execution_count": null,
   "metadata": {},
   "outputs": [],
   "source": [
    "import getpass\n",
    "\n",
    "import pyelegant as pe\n",
    "from pyelegant import nonlin\n",
    "from pyelegant import util"
   ]
  },
  {
   "cell_type": "code",
   "execution_count": null,
   "metadata": {},
   "outputs": [],
   "source": [
    "pe.std_print_enabled['out'] = False\n",
    "pe.std_print_enabled['err'] = True"
   ]
  },
  {
   "cell_type": "code",
   "execution_count": null,
   "metadata": {},
   "outputs": [],
   "source": [
    "LTE_filepath = 'nsls2cb65pm.lte'\n",
    "E_MeV = 3e3"
   ]
  },
  {
   "cell_type": "code",
   "execution_count": null,
   "metadata": {},
   "outputs": [],
   "source": [
    "# %%timeit -n 1 -r 1\n",
    "# 20min 39s ± 0 ns per loop (mean ± std. dev. of 1 run, 1 loop each)\n",
    "if False:\n",
    "\n",
    "    n_turns = 128\n",
    "    s_start = 0.0\n",
    "    s_end = None # full ring, NOT just one super cell\n",
    "    include_name_pattern = '[QS]*'\n",
    "    x_initial = 1e-5\n",
    "    y_initial = 1e-5\n",
    "    delta_negative_start = -1e-3\n",
    "    delta_positive_start = +1e-3\n",
    "    delta_negative_limit = -5e-2\n",
    "    delta_positive_limit = +5e-2\n",
    "    init_delta_step_size = 5e-3    \n",
    "\n",
    "    ntasks = 100\n",
    "\n",
    "    username = getpass.getuser()\n",
    "    remote_opts = dict(\n",
    "        use_sbatch=True, exit_right_after_sbatch=False, pelegant=True,\n",
    "        job_name='momaper', partition='short', ntasks=ntasks, #nodelist=['apcpu-004'],\n",
    "        #time='7:00',\n",
    "        #mail_type_end=True, mail_user=f'{username}@bnl.gov',\n",
    "    )\n",
    "\n",
    "    output_filepath = f'test_momAper_n{n_turns}.hdf5'\n",
    "    nonlin.calc_mom_aper(\n",
    "        output_filepath, LTE_filepath, E_MeV, x_initial=x_initial, y_initial=y_initial,\n",
    "        delta_negative_start=delta_negative_start, delta_negative_limit=delta_negative_limit,\n",
    "        delta_positive_start=delta_positive_start, delta_positive_limit=delta_positive_limit,\n",
    "        init_delta_step_size=init_delta_step_size, s_start=s_start, s_end=s_end,\n",
    "        include_name_pattern=include_name_pattern, n_turns=n_turns, \n",
    "        run_local=False, remote_opts=remote_opts)\n"
   ]
  },
  {
   "cell_type": "code",
   "execution_count": null,
   "metadata": {},
   "outputs": [],
   "source": [
    "output_filepath = 'test_momAper_n128.hdf5'\n",
    "\n",
    "title = f'$\\mathrm{{{LTE_filepath}}}$'\n",
    "\n",
    "nonlin.plot_mom_aper(output_filepath, title=title, slim=[0, 792/15])"
   ]
  },
  {
   "cell_type": "code",
   "execution_count": null,
   "metadata": {},
   "outputs": [],
   "source": [
    "output_filepath = 'test_tau.pgz'\n",
    "mmap_filepath = 'test_momAper_n128.hdf5'\n",
    "Ib = 0.5e-3 # [A]\n",
    "rf_freq_Hz = 499654096.6666666 #500e6 # [Hz]\n",
    "RFharm = 1320\n",
    "RFvolt = 3e6\n",
    "charge_C = Ib / (rf_freq_Hz / RFharm)\n",
    "emit_ratio = 1.0\n",
    "max_mom_aper_percent = None\n",
    "ignoreMismatch = True\n",
    "\n",
    "print_cmd = True"
   ]
  },
  {
   "cell_type": "code",
   "execution_count": null,
   "metadata": {},
   "outputs": [],
   "source": [
    "nonlin.calc_Touschek_lifetime(\n",
    "    output_filepath, LTE_filepath, E_MeV, mmap_filepath, charge_C, emit_ratio,\n",
    "    RFvolt, RFharm, max_mom_aper_percent=max_mom_aper_percent, \n",
    "    ignoreMismatch=ignoreMismatch, print_cmd=print_cmd)"
   ]
  },
  {
   "cell_type": "code",
   "execution_count": null,
   "metadata": {},
   "outputs": [],
   "source": [
    "title = f'$\\mathrm{{{LTE_filepath}}}$'\n",
    "\n",
    "nonlin.plot_Touschek_lifetime(output_filepath, title=title)"
   ]
  },
  {
   "cell_type": "code",
   "execution_count": null,
   "metadata": {},
   "outputs": [],
   "source": []
  }
 ],
 "metadata": {
  "kernelspec": {
   "display_name": "Python 3",
   "language": "python",
   "name": "python3"
  },
  "language_info": {
   "codemirror_mode": {
    "name": "ipython",
    "version": 3
   },
   "file_extension": ".py",
   "mimetype": "text/x-python",
   "name": "python",
   "nbconvert_exporter": "python",
   "pygments_lexer": "ipython3",
   "version": "3.7.5"
  },
  "varInspector": {
   "cols": {
    "lenName": 16,
    "lenType": 16,
    "lenVar": 40
   },
   "kernels_config": {
    "python": {
     "delete_cmd_postfix": "",
     "delete_cmd_prefix": "del ",
     "library": "var_list.py",
     "varRefreshCmd": "print(var_dic_list())"
    },
    "r": {
     "delete_cmd_postfix": ") ",
     "delete_cmd_prefix": "rm(",
     "library": "var_list.r",
     "varRefreshCmd": "cat(var_dic_list()) "
    }
   },
   "types_to_exclude": [
    "module",
    "function",
    "builtin_function_or_method",
    "instance",
    "_Feature"
   ],
   "window_display": false
  }
 },
 "nbformat": 4,
 "nbformat_minor": 2
}
