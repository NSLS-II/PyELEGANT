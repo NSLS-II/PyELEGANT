{
 "cells": [
  {
   "cell_type": "code",
   "execution_count": null,
   "metadata": {},
   "outputs": [],
   "source": [
    "if True:\n",
    "    %matplotlib notebook\n",
    "elif False:\n",
    "    %matplotlib inline\n",
    "else:\n",
    "    %matplotlib qt"
   ]
  },
  {
   "cell_type": "code",
   "execution_count": null,
   "metadata": {},
   "outputs": [],
   "source": [
    "import getpass\n",
    "\n",
    "import pyelegant as pe\n",
    "from pyelegant import nonlin"
   ]
  },
  {
   "cell_type": "code",
   "execution_count": null,
   "metadata": {},
   "outputs": [],
   "source": [
    "pe.std_print_enabled['out'] = False\n",
    "pe.std_print_enabled['err'] = True"
   ]
  },
  {
   "cell_type": "code",
   "execution_count": null,
   "metadata": {},
   "outputs": [],
   "source": [
    "LTE_filepath = 'nsls2cb65pm.lte'\n",
    "E_MeV = 3e3\n",
    "\n",
    "x_offset = y_offset = 1e-6\n",
    "xmin = -8e-3 + x_offset\n",
    "xmax = +8e-3 + x_offset\n",
    "ymin = 0.0 + y_offset\n",
    "ymax = 2e-3 + y_offset\n",
    "delta_offset = 0.0\n",
    "\n",
    "delta_min = -0.01\n",
    "delta_max = +0.005"
   ]
  },
  {
   "cell_type": "code",
   "execution_count": null,
   "metadata": {
    "scrolled": true
   },
   "outputs": [],
   "source": [
    "%%timeit -n 1 -r 1\n",
    "# 25.6 s ± 0 ns per loop (mean ± std. dev. of 1 run, 1 loop each)\n",
    "if True:\n",
    "\n",
    "    nx = ny = 11\n",
    "    n_turns = 16\n",
    "    forward_backward = 1\n",
    "\n",
    "    #output_filepath = f'test_cmap_x{nx}_y{ny}_n{n_turns}_fb{forward_backward:d}.hdf5'\n",
    "    output_filepath = f'test_cmap_x{nx}_y{ny}_n{n_turns}_fb{forward_backward:d}.pgz'\n",
    "    nonlin.calc_cmap_xy(\n",
    "        output_filepath, LTE_filepath, E_MeV, xmin, xmax, ymin, ymax, nx, ny,\n",
    "        n_turns=n_turns, delta_offset=delta_offset, forward_backward=forward_backward,\n",
    "        run_local=True, del_tmp_files=True)"
   ]
  },
  {
   "cell_type": "code",
   "execution_count": null,
   "metadata": {
    "scrolled": true
   },
   "outputs": [],
   "source": [
    "#output_filepath = 'test_cmap_x11_y11_n16_fb1.hdf5'\n",
    "output_filepath = 'test_cmap_x11_y11_n16_fb1.pgz'\n",
    "\n",
    "title = f'$\\mathrm{{{LTE_filepath}}}$'\n",
    "\n",
    "nonlin.plot_cmap_xy(\n",
    "    output_filepath, title=title, xlim=[-10e-3, +10e-3],\n",
    "    is_log10=False, scatter=True)\n",
    "\n",
    "nonlin.plot_cmap_xy(\n",
    "    output_filepath, title=title, xlim=[-10e-3, +10e-3],\n",
    "    is_log10=True, scatter=False)    "
   ]
  },
  {
   "cell_type": "code",
   "execution_count": null,
   "metadata": {
    "scrolled": true
   },
   "outputs": [],
   "source": [
    "%%timeit -n 1 -r 1\n",
    "# 2min 10s ± 0 ns per loop (mean ± std. dev. of 1 run, 1 loop each)\n",
    "\n",
    "nx = ny = 41\n",
    "n_turns = 128\n",
    "forward_backward = 1\n",
    "\n",
    "ntasks = 50\n",
    "\n",
    "output_filepath = f'test_cmap_x{nx}_y{ny}_n{n_turns}_fb{forward_backward:d}.hdf5'\n",
    "\n",
    "username = getpass.getuser()\n",
    "remote_opts = dict(\n",
    "    use_sbatch=True, exit_right_after_sbatch=False, pelegant=True,\n",
    "    job_name='cmap', partition='short', ntasks=ntasks, #nodelist=['apcpu-004'],\n",
    "    #time='7:00',\n",
    "    #mail_type_end=True, mail_user=f'{username}@bnl.gov',\n",
    ")\n",
    "\n",
    "nonlin.calc_cmap_xy(\n",
    "    output_filepath, LTE_filepath, E_MeV, xmin, xmax, ymin, ymax, nx, ny,\n",
    "    n_turns=n_turns, delta_offset=delta_offset,\n",
    "    forward_backward=forward_backward,\n",
    "    del_tmp_files=True, run_local=False, remote_opts=remote_opts)\n",
    "\n",
    "print(output_filepath)"
   ]
  },
  {
   "cell_type": "code",
   "execution_count": null,
   "metadata": {
    "scrolled": false
   },
   "outputs": [],
   "source": [
    "output_filepath = 'test_cmap_x41_y41_n128_fb1.hdf5'\n",
    "\n",
    "title = f'$\\mathrm{{{LTE_filepath}}}$'\n",
    "\n",
    "nonlin.plot_cmap_xy(\n",
    "    output_filepath, title=title, xlim=[-10e-3, +10e-3], cmin=1e-24, cmax=1e-10,\n",
    "    is_log10=False, scatter=True)\n",
    "\n",
    "nonlin.plot_cmap_xy(\n",
    "    output_filepath, title=title, xlim=[-10e-3, +10e-3],\n",
    "    is_log10=True, scatter=False)    "
   ]
  },
  {
   "cell_type": "code",
   "execution_count": null,
   "metadata": {
    "scrolled": true
   },
   "outputs": [],
   "source": [
    "%%timeit -n 1 -r 1\n",
    "# 10min 22s ± 0 ns per loop (mean ± std. dev. of 1 run, 1 loop each)\n",
    "\n",
    "if False:\n",
    "\n",
    "    nx = ny = 201\n",
    "    n_turns = 16\n",
    "    forward_backward = 1\n",
    "\n",
    "    ntasks = 200\n",
    "\n",
    "    output_filepath = f'test_cmap_x{nx}_y{ny}_n{n_turns}_fb{forward_backward:d}.pgz'\n",
    "\n",
    "    username = getpass.getuser()\n",
    "    remote_opts = dict(\n",
    "        use_sbatch=True, exit_right_after_sbatch=False, pelegant=True,\n",
    "        job_name='cmap', partition='short', ntasks=ntasks, #nodelist=['apcpu-004'],\n",
    "        #time='7:00',\n",
    "        mail_type_end=True, mail_user=f'{username}@bnl.gov',\n",
    "    )\n",
    "\n",
    "    nonlin.calc_cmap_xy(\n",
    "        output_filepath, LTE_filepath, E_MeV, xmin, xmax, ymin, ymax, nx, ny,\n",
    "        n_turns=n_turns, delta_offset=delta_offset,\n",
    "        forward_backward=forward_backward,\n",
    "        del_tmp_files=True, run_local=False, remote_opts=remote_opts)\n",
    "\n",
    "    print(output_filepath)"
   ]
  },
  {
   "cell_type": "code",
   "execution_count": null,
   "metadata": {},
   "outputs": [],
   "source": [
    "output_filepath = 'test_cmap_x201_y201_n16_fb1.pgz'\n",
    "\n",
    "title = f'$\\mathrm{{{LTE_filepath}}}$'\n",
    "\n",
    "nonlin.plot_cmap_xy(\n",
    "    output_filepath, title=title, xlim=[-10e-3, +10e-3], cmin=1e-24, cmax=1e-10,\n",
    "    is_log10=False, scatter=False)\n",
    "\n",
    "nonlin.plot_cmap_xy(\n",
    "    output_filepath, title=title, xlim=[-10e-3, +10e-3],\n",
    "    is_log10=True, scatter=False)    "
   ]
  },
  {
   "cell_type": "code",
   "execution_count": null,
   "metadata": {
    "scrolled": true
   },
   "outputs": [],
   "source": [
    "%%timeit -n 1 -r 1\n",
    "# 2h 43min 44s ± 0 ns per loop (mean ± std. dev. of 1 run, 1 loop each)\n",
    "\n",
    "if False:\n",
    "\n",
    "    nx = ny = 201\n",
    "    n_turns = 1024\n",
    "    forward_backward = 1\n",
    "\n",
    "    ntasks = 200\n",
    "\n",
    "    output_filepath = f'test_cmap_x{nx}_y{ny}_n{n_turns}_fb{forward_backward:d}.pgz'\n",
    "\n",
    "    username = getpass.getuser()\n",
    "    remote_opts = dict(\n",
    "        use_sbatch=True, exit_right_after_sbatch=False, pelegant=True,\n",
    "        job_name='cmap', partition='short', ntasks=ntasks, #nodelist=['apcpu-004'],\n",
    "        #time='7:00',\n",
    "        mail_type_end=True, mail_user=f'{username}@bnl.gov',\n",
    "    )\n",
    "\n",
    "    nonlin.calc_cmap_xy(\n",
    "        output_filepath, LTE_filepath, E_MeV, xmin, xmax, ymin, ymax, nx, ny,\n",
    "        n_turns=n_turns, delta_offset=delta_offset,\n",
    "        forward_backward=forward_backward,\n",
    "        del_tmp_files=True, run_local=False, remote_opts=remote_opts)\n",
    "\n",
    "    print(output_filepath)"
   ]
  },
  {
   "cell_type": "code",
   "execution_count": null,
   "metadata": {
    "scrolled": false
   },
   "outputs": [],
   "source": [
    "output_filepath = 'test_cmap_x201_y201_n1024_fb1.pgz'\n",
    "\n",
    "title = f'$\\mathrm{{{LTE_filepath}}}$'\n",
    "\n",
    "nonlin.plot_cmap_xy(\n",
    "    output_filepath, title=title, xlim=[-10e-3, +10e-3], cmin=1e-24, cmax=1e-10,\n",
    "    is_log10=False, scatter=False)\n",
    "\n",
    "nonlin.plot_cmap_xy(\n",
    "    output_filepath, title=title, xlim=[-10e-3, +10e-3],\n",
    "    is_log10=True, scatter=False)    "
   ]
  },
  {
   "cell_type": "code",
   "execution_count": null,
   "metadata": {
    "scrolled": true
   },
   "outputs": [],
   "source": [
    "%%timeit -n 1 -r 1\n",
    "# 2min 35s ± 0 ns per loop (mean ± std. dev. of 1 run, 1 loop each)\n",
    "\n",
    "nx = ndelta = 41\n",
    "n_turns = 128\n",
    "forward_backward = 1\n",
    "\n",
    "ntasks = 50\n",
    "\n",
    "output_filepath = f'test_cmap_p{ndelta}_x{nx}_n{n_turns}_fb{forward_backward:d}.hdf5'\n",
    "\n",
    "username = getpass.getuser()\n",
    "remote_opts = dict(\n",
    "    use_sbatch=True, exit_right_after_sbatch=False, pelegant=True,\n",
    "    job_name='cmap', partition='short', ntasks=ntasks, #nodelist=['apcpu-004'],\n",
    "    #time='7:00',\n",
    "    #mail_type_end=True, mail_user=f'{username}@bnl.gov',\n",
    ")\n",
    "\n",
    "nonlin.calc_cmap_px(\n",
    "    output_filepath, LTE_filepath, E_MeV, delta_min, delta_max, xmin, xmax, ndelta, nx,\n",
    "    n_turns=n_turns, y_offset=y_offset,\n",
    "    forward_backward=forward_backward,\n",
    "    del_tmp_files=True, run_local=False, remote_opts=remote_opts)\n",
    "\n",
    "print(output_filepath)"
   ]
  },
  {
   "cell_type": "code",
   "execution_count": null,
   "metadata": {},
   "outputs": [],
   "source": [
    "output_filepath = 'test_cmap_p41_x41_n128_fb1.hdf5'\n",
    "\n",
    "title = f'$\\mathrm{{{LTE_filepath}}}$'\n",
    "\n",
    "nonlin.plot_cmap_px(\n",
    "    output_filepath, title=title, xlim=[-10e-3, +10e-3], cmin=1e-24, cmax=1e-10,\n",
    "    is_log10=False, scatter=True)\n",
    "\n",
    "nonlin.plot_cmap_px(\n",
    "    output_filepath, title=title, xlim=[-10e-3, +10e-3],\n",
    "    is_log10=True, scatter=False)    "
   ]
  },
  {
   "cell_type": "code",
   "execution_count": null,
   "metadata": {
    "scrolled": true
   },
   "outputs": [],
   "source": [
    "%%timeit -n 1 -r 1\n",
    "# 6min 17s ± 0 ns per loop (mean ± std. dev. of 1 run, 1 loop each)\n",
    "\n",
    "if False:\n",
    "    nx = ndelta = 201\n",
    "    n_turns = 1\n",
    "    forward_backward = 1\n",
    "\n",
    "    ntasks = 200\n",
    "\n",
    "    output_filepath = f'test_cmap_p{ndelta}_x{nx}_n{n_turns}_fb{forward_backward:d}.hdf5'\n",
    "\n",
    "    username = getpass.getuser()\n",
    "    remote_opts = dict(\n",
    "        use_sbatch=True, exit_right_after_sbatch=False, pelegant=True,\n",
    "        job_name='cmap', partition='short', ntasks=ntasks, #nodelist=['apcpu-004'],\n",
    "        #time='7:00',\n",
    "        mail_type_end=True, mail_user=f'{username}@bnl.gov',\n",
    "    )\n",
    "\n",
    "    nonlin.calc_cmap_px(\n",
    "        output_filepath, LTE_filepath, E_MeV, delta_min, delta_max, xmin, xmax, ndelta, nx,\n",
    "        n_turns=n_turns, y_offset=y_offset,\n",
    "        forward_backward=forward_backward,\n",
    "        del_tmp_files=True, run_local=False, remote_opts=remote_opts)\n",
    "\n",
    "    print(output_filepath)"
   ]
  },
  {
   "cell_type": "code",
   "execution_count": null,
   "metadata": {},
   "outputs": [],
   "source": [
    "output_filepath = 'test_cmap_p201_x201_n1_fb1.hdf5'\n",
    "\n",
    "title = f'$\\mathrm{{{LTE_filepath}}}$'\n",
    "\n",
    "nonlin.plot_cmap_px(\n",
    "    output_filepath, title=title, xlim=[-10e-3, +10e-3], cmin=1e-24, cmax=1e-10, \n",
    "    is_log10=False, scatter=False)\n",
    "\n",
    "nonlin.plot_cmap_px(\n",
    "    output_filepath, title=title, xlim=[-10e-3, +10e-3], cmin=-24, cmax=-10, \n",
    "    is_log10=True, scatter=False)    "
   ]
  },
  {
   "cell_type": "code",
   "execution_count": null,
   "metadata": {
    "scrolled": true
   },
   "outputs": [],
   "source": [
    "%%timeit -n 1 -r 1\n",
    "# 6min 37s ± 0 ns per loop (mean ± std. dev. of 1 run, 1 loop each)\n",
    "\n",
    "if False:\n",
    "    nx = ndelta = 201\n",
    "    n_turns = 4\n",
    "    forward_backward = 1\n",
    "\n",
    "    ntasks = 200\n",
    "\n",
    "    output_filepath = f'test_cmap_p{ndelta}_x{nx}_n{n_turns}_fb{forward_backward:d}.hdf5'\n",
    "\n",
    "    username = getpass.getuser()\n",
    "    remote_opts = dict(\n",
    "        use_sbatch=True, exit_right_after_sbatch=False, pelegant=True,\n",
    "        job_name='cmap', partition='short', ntasks=ntasks, #nodelist=['apcpu-004'],\n",
    "        #time='7:00',\n",
    "        mail_type_end=True, mail_user=f'{username}@bnl.gov',\n",
    "    )\n",
    "\n",
    "    nonlin.calc_cmap_px(\n",
    "        output_filepath, LTE_filepath, E_MeV, delta_min, delta_max, xmin, xmax, ndelta, nx,\n",
    "        n_turns=n_turns, y_offset=y_offset,\n",
    "        forward_backward=forward_backward,\n",
    "        del_tmp_files=True, run_local=False, remote_opts=remote_opts)\n",
    "\n",
    "    print(output_filepath)"
   ]
  },
  {
   "cell_type": "code",
   "execution_count": null,
   "metadata": {},
   "outputs": [],
   "source": [
    "output_filepath = 'test_cmap_p201_x201_n4_fb1.hdf5'\n",
    "\n",
    "title = f'$\\mathrm{{{LTE_filepath}}}$'\n",
    "\n",
    "nonlin.plot_cmap_px(\n",
    "    output_filepath, title=title, xlim=[-10e-3, +10e-3], cmin=1e-24, cmax=1e-10, \n",
    "    is_log10=False, scatter=False)\n",
    "\n",
    "nonlin.plot_cmap_px(\n",
    "    output_filepath, title=title, xlim=[-10e-3, +10e-3], cmin=-24, cmax=-10, \n",
    "    is_log10=True, scatter=False)    "
   ]
  },
  {
   "cell_type": "code",
   "execution_count": null,
   "metadata": {
    "scrolled": true
   },
   "outputs": [],
   "source": [
    "%%timeit -n 1 -r 1\n",
    "# 10min 13s ± 0 ns per loop (mean ± std. dev. of 1 run, 1 loop each)\n",
    "\n",
    "if False:\n",
    "    nx = ndelta = 201\n",
    "    n_turns = 16\n",
    "    forward_backward = 1\n",
    "\n",
    "    ntasks = 200\n",
    "\n",
    "    output_filepath = f'test_cmap_p{ndelta}_x{nx}_n{n_turns}_fb{forward_backward:d}.hdf5'\n",
    "\n",
    "    username = getpass.getuser()\n",
    "    remote_opts = dict(\n",
    "        use_sbatch=True, exit_right_after_sbatch=False, pelegant=True,\n",
    "        job_name='cmap', partition='short', ntasks=ntasks, #nodelist=['apcpu-004'],\n",
    "        #time='7:00',\n",
    "        #mail_type_end=True, mail_user=f'{username}@bnl.gov',\n",
    "    )\n",
    "\n",
    "    nonlin.calc_cmap_px(\n",
    "        output_filepath, LTE_filepath, E_MeV, delta_min, delta_max, xmin, xmax, ndelta, nx,\n",
    "        n_turns=n_turns, y_offset=y_offset,\n",
    "        forward_backward=forward_backward,\n",
    "        del_tmp_files=True, run_local=False, remote_opts=remote_opts)\n",
    "\n",
    "    print(output_filepath)"
   ]
  },
  {
   "cell_type": "code",
   "execution_count": null,
   "metadata": {},
   "outputs": [],
   "source": [
    "output_filepath = 'test_cmap_p201_x201_n16_fb1.hdf5'\n",
    "\n",
    "title = f'$\\mathrm{{{LTE_filepath}}}$'\n",
    "\n",
    "nonlin.plot_cmap_px(\n",
    "    output_filepath, title=title, xlim=[-10e-3, +10e-3], cmin=1e-24, cmax=1e-10, \n",
    "    is_log10=False, scatter=False)\n",
    "\n",
    "nonlin.plot_cmap_px(\n",
    "    output_filepath, title=title, xlim=[-10e-3, +10e-3], cmin=-24, cmax=-10, \n",
    "    is_log10=True, scatter=False)    "
   ]
  },
  {
   "cell_type": "code",
   "execution_count": null,
   "metadata": {
    "scrolled": true
   },
   "outputs": [],
   "source": [
    "%%timeit -n 1 -r 1\n",
    "# 23min 36s ± 0 ns per loop (mean ± std. dev. of 1 run, 1 loop each)\n",
    "\n",
    "if False:\n",
    "    nx = ndelta = 201\n",
    "    n_turns = 128\n",
    "    forward_backward = 1\n",
    "\n",
    "    ntasks = 200\n",
    "\n",
    "    output_filepath = f'test_cmap_p{ndelta}_x{nx}_n{n_turns}_fb{forward_backward:d}.hdf5'\n",
    "\n",
    "    username = getpass.getuser()\n",
    "    remote_opts = dict(\n",
    "        use_sbatch=True, exit_right_after_sbatch=False, pelegant=True,\n",
    "        job_name='cmap', partition='short', ntasks=ntasks, #nodelist=['apcpu-004'],\n",
    "        #time='7:00',\n",
    "        mail_type_end=True, mail_user=f'{username}@bnl.gov',\n",
    "    )\n",
    "\n",
    "    nonlin.calc_cmap_px(\n",
    "        output_filepath, LTE_filepath, E_MeV, delta_min, delta_max, xmin, xmax, ndelta, nx,\n",
    "        n_turns=n_turns, y_offset=y_offset,\n",
    "        forward_backward=forward_backward,\n",
    "        del_tmp_files=True, run_local=False, remote_opts=remote_opts)\n",
    "\n",
    "    print(output_filepath)"
   ]
  },
  {
   "cell_type": "code",
   "execution_count": null,
   "metadata": {},
   "outputs": [],
   "source": [
    "output_filepath = 'test_cmap_p201_x201_n128_fb1.hdf5'\n",
    "\n",
    "title = f'$\\mathrm{{{LTE_filepath}}}$'\n",
    "\n",
    "nonlin.plot_cmap_px(\n",
    "    output_filepath, title=title, xlim=[-10e-3, +10e-3], cmin=1e-24, cmax=1e-10, \n",
    "    is_log10=False, scatter=False)\n",
    "\n",
    "nonlin.plot_cmap_px(\n",
    "    output_filepath, title=title, xlim=[-10e-3, +10e-3], cmin=-24, cmax=-10, \n",
    "    is_log10=True, scatter=False)    "
   ]
  },
  {
   "cell_type": "code",
   "execution_count": null,
   "metadata": {
    "scrolled": true
   },
   "outputs": [],
   "source": [
    "%%timeit -n 1 -r 1\n",
    "# 1h 56min 27s ± 0 ns per loop (mean ± std. dev. of 1 run, 1 loop each)\n",
    "\n",
    "if False:\n",
    "    nx = ndelta = 201\n",
    "    n_turns = 1024\n",
    "    forward_backward = 1\n",
    "\n",
    "    ntasks = 200\n",
    "\n",
    "    output_filepath = f'test_cmap_p{ndelta}_x{nx}_n{n_turns}_fb{forward_backward:d}.hdf5'\n",
    "\n",
    "    username = getpass.getuser()\n",
    "    remote_opts = dict(\n",
    "        use_sbatch=True, exit_right_after_sbatch=False, pelegant=True,\n",
    "        job_name='cmap', partition='short', ntasks=ntasks, #nodelist=['apcpu-004'],\n",
    "        #time='7:00',\n",
    "        mail_type_end=True, mail_user=f'{username}@bnl.gov',\n",
    "    )\n",
    "\n",
    "    nonlin.calc_cmap_px(\n",
    "        output_filepath, LTE_filepath, E_MeV, delta_min, delta_max, xmin, xmax, ndelta, nx,\n",
    "        n_turns=n_turns, y_offset=y_offset,\n",
    "        forward_backward=forward_backward,\n",
    "        del_tmp_files=True, run_local=False, remote_opts=remote_opts)\n",
    "\n",
    "    print(output_filepath)"
   ]
  },
  {
   "cell_type": "code",
   "execution_count": null,
   "metadata": {},
   "outputs": [],
   "source": [
    "output_filepath = 'test_cmap_p201_x201_n1024_fb1.hdf5'\n",
    "\n",
    "title = f'$\\mathrm{{{LTE_filepath}}}$'\n",
    "\n",
    "nonlin.plot_cmap_px(\n",
    "    output_filepath, title=title, xlim=[-10e-3, +10e-3], cmin=1e-24, cmax=1e-10, \n",
    "    is_log10=False, scatter=False)\n",
    "\n",
    "nonlin.plot_cmap_px(\n",
    "    output_filepath, title=title, xlim=[-10e-3, +10e-3], cmin=-24, cmax=-10, \n",
    "    is_log10=True, scatter=False)    "
   ]
  },
  {
   "cell_type": "code",
   "execution_count": null,
   "metadata": {},
   "outputs": [],
   "source": []
  }
 ],
 "metadata": {
  "kernelspec": {
   "display_name": "Python 3",
   "language": "python",
   "name": "python3"
  },
  "language_info": {
   "codemirror_mode": {
    "name": "ipython",
    "version": 3
   },
   "file_extension": ".py",
   "mimetype": "text/x-python",
   "name": "python",
   "nbconvert_exporter": "python",
   "pygments_lexer": "ipython3",
   "version": "3.7.3"
  },
  "varInspector": {
   "cols": {
    "lenName": 16,
    "lenType": 16,
    "lenVar": 40
   },
   "kernels_config": {
    "python": {
     "delete_cmd_postfix": "",
     "delete_cmd_prefix": "del ",
     "library": "var_list.py",
     "varRefreshCmd": "print(var_dic_list())"
    },
    "r": {
     "delete_cmd_postfix": ") ",
     "delete_cmd_prefix": "rm(",
     "library": "var_list.r",
     "varRefreshCmd": "cat(var_dic_list()) "
    }
   },
   "types_to_exclude": [
    "module",
    "function",
    "builtin_function_or_method",
    "instance",
    "_Feature"
   ],
   "window_display": false
  }
 },
 "nbformat": 4,
 "nbformat_minor": 2
}
