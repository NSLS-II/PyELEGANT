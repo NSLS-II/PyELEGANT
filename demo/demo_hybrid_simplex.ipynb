{
 "cells": [
  {
   "cell_type": "code",
   "execution_count": null,
   "metadata": {},
   "outputs": [],
   "source": [
    "if True:\n",
    "    %matplotlib notebook\n",
    "elif False:\n",
    "    %matplotlib inline\n",
    "else:\n",
    "    %matplotlib qt"
   ]
  },
  {
   "cell_type": "code",
   "execution_count": null,
   "metadata": {},
   "outputs": [],
   "source": [
    "import sys\n",
    "import os\n",
    "import getpass\n",
    "import numpy as np\n",
    "import matplotlib.pylab as plt"
   ]
  },
  {
   "cell_type": "code",
   "execution_count": null,
   "metadata": {},
   "outputs": [],
   "source": [
    "import pyelegant as pe\n",
    "from pyelegant import elebuilder\n",
    "from pyelegant import remote\n",
    "from pyelegant import sdds\n",
    "from pyelegant import util"
   ]
  },
  {
   "cell_type": "code",
   "execution_count": null,
   "metadata": {},
   "outputs": [],
   "source": [
    "E_MeV = 3e3\n",
    "\n",
    "#ini_LTE_filepath = 'nsls2cb72pm.lte'\n",
    "#ini_LTE_filepath = 'nsls2cb72pm_LS_SS_LS.lte'\n",
    "ini_LTE_filepath = 'nsls2cb72pm_LS_SS_LS_ZeroSexts.lte'\n",
    "\n",
    "use_beamline = 'CELL_LS_SS_LS'\n",
    "\n",
    "nsls2_flr_filepath = '/GPFS/APC/yhidaka/git_repos/nsls2cb/nsls2.flr'"
   ]
  },
  {
   "cell_type": "code",
   "execution_count": null,
   "metadata": {},
   "outputs": [],
   "source": [
    "output_filepath = f'{ini_LTE_filepath}.twi.hdf5'\n",
    "\n",
    "pe.calc_ring_twiss(output_filepath, ini_LTE_filepath, E_MeV, use_beamline=use_beamline, \n",
    "                   radiation_integrals=True, element_divisions=10)"
   ]
  },
  {
   "cell_type": "code",
   "execution_count": null,
   "metadata": {},
   "outputs": [],
   "source": [
    "pe.plot_twiss(\n",
    "    output_filepath, print_scalars=['ex0', 'Jx', 'nux', 'nuy', 'dnux/dp', 'dnuy/dp', 'alphac'],\n",
    "    disp_elem_names=dict(bends=True, quads=True))"
   ]
  },
  {
   "cell_type": "markdown",
   "metadata": {},
   "source": [
    "# First create an ELE file to check the initial lattice"
   ]
  },
  {
   "cell_type": "code",
   "execution_count": null,
   "metadata": {},
   "outputs": [],
   "source": [
    "ed = elebuilder.EleDesigner()\n",
    "\n",
    "ed.add_block('run_setup',\n",
    "    lattice = ini_LTE_filepath, p_central_mev = 3e3, \n",
    "    use_beamline=use_beamline, parameters='%s.param')\n",
    "\n",
    "ed.add_newline()\n",
    "\n",
    "ed.add_block('twiss_output', filename = '%s.twi', matched = True, radiation_integrals = True)\n",
    "\n",
    "ed.add_newline()\n",
    "\n",
    "ed.add_block('floor_coordinates', filename = '%s.flr')\n",
    "\n",
    "ed.add_newline()\n",
    "\n",
    "# The following are required to generate \"%s.param\"\n",
    "ed.add_block('run_control')\n",
    "ed.add_block('bunched_beam')\n",
    "ed.add_block('track')\n",
    "\n",
    "ed.write()"
   ]
  },
  {
   "cell_type": "code",
   "execution_count": null,
   "metadata": {},
   "outputs": [],
   "source": [
    "ed.blocks.get_avail_blocks()"
   ]
  },
  {
   "cell_type": "code",
   "execution_count": null,
   "metadata": {},
   "outputs": [],
   "source": [
    "print(ed.blocks.get_default_str('run_setup'))"
   ]
  },
  {
   "cell_type": "code",
   "execution_count": null,
   "metadata": {},
   "outputs": [],
   "source": [
    "pe.run(ed.ele_filepath, print_stdout=True, print_stderr=True)"
   ]
  },
  {
   "cell_type": "code",
   "execution_count": null,
   "metadata": {},
   "outputs": [],
   "source": [
    "ini_res = ed.load_sdds_output_files()['data']"
   ]
  },
  {
   "cell_type": "code",
   "execution_count": null,
   "metadata": {},
   "outputs": [],
   "source": [
    "list(ini_res)"
   ]
  },
  {
   "cell_type": "code",
   "execution_count": null,
   "metadata": {},
   "outputs": [],
   "source": [
    "ini_res['param']"
   ]
  },
  {
   "cell_type": "code",
   "execution_count": null,
   "metadata": {},
   "outputs": [],
   "source": []
  },
  {
   "cell_type": "markdown",
   "metadata": {},
   "source": [
    "# Start building Optimization ELE file"
   ]
  },
  {
   "cell_type": "code",
   "execution_count": null,
   "metadata": {},
   "outputs": [],
   "source": [
    "ed.clear()\n",
    "\n",
    "ed.add_block('run_setup',\n",
    "    lattice = ini_LTE_filepath, # If you change this LTE file, make sure to change the LTE file\n",
    "    # name to the same file in the \"run_setup\" block towards the end.\n",
    "    p_central_mev = 3e3, use_beamline=use_beamline, semaphore_file = '%s.done',\n",
    "    parameters='%s.param', default_order = 2)"
   ]
  },
  {
   "cell_type": "code",
   "execution_count": null,
   "metadata": {},
   "outputs": [],
   "source": [
    "ed.set_bookmark('load_param')"
   ]
  },
  {
   "cell_type": "code",
   "execution_count": null,
   "metadata": {},
   "outputs": [],
   "source": [
    "ed.add_newline()\n",
    "ed.add_comment('! Ask for twiss parameters during optimization')\n",
    "ed.add_block('twiss_output', \n",
    "    output_at_each_step = True, matched = True, radiation_integrals = True, concat_order = 2)\n",
    "\n",
    "ed.add_newline()\n",
    "ed.add_comment('! Ask for floor coordinates (during optimization)')\n",
    "ed.add_block('floor_coordinates', filename = '%s.flr')\n",
    "\n",
    "ed.add_newline()\n",
    "ed.add_comment('! Load floor coordinate data for NSLS-II')\n",
    "ed.add_comment('! - First ID')\n",
    "ed.add_block('rpn_load',\n",
    "    filename = nsls2_flr_filepath, tag = 'flr1', match_column = 'ElementName', \n",
    "    match_column_value = 'MID', matching_row_number = 0)\n",
    "ed.add_comment('! - Second ID')\n",
    "ed.add_block('rpn_load',\n",
    "    filename = nsls2_flr_filepath, tag = 'flr2', match_column = 'ElementName',\n",
    "    match_column_value = 'MID', matching_row_number = 1)\n",
    "\n",
    "ed.add_newline()\n",
    "ed.add_block('run_control')"
   ]
  },
  {
   "cell_type": "code",
   "execution_count": null,
   "metadata": {},
   "outputs": [],
   "source": [
    "ed.print_last_block()"
   ]
  },
  {
   "cell_type": "code",
   "execution_count": null,
   "metadata": {},
   "outputs": [],
   "source": [
    "ed.print_whole()"
   ]
  },
  {
   "cell_type": "markdown",
   "metadata": {},
   "source": [
    "# Optimization Setup"
   ]
  },
  {
   "cell_type": "code",
   "execution_count": null,
   "metadata": {},
   "outputs": [],
   "source": [
    "ed.add_newline()\n",
    "ed.add_comment('! Use parallel hybrid simplex optimization')\n",
    "\n",
    "ed.add_block('parallel_optimization_setup', \n",
    "    mode = 'minimize', method = 'hybridsimplex', hybrid_simplex_comparison_interval = 100,\n",
    "    #target = 1e-06, tolerance = 1e-14, n_passes = 3, n_evaluations = 1500, n_restarts = 50,\n",
    "    #target = 1e-06, tolerance = 1e-14, n_passes = 3, n_evaluations = 200, n_restarts = 10,\n",
    "    target = 1e-06, tolerance = 1e-14, n_passes = 3, n_evaluations = 100, n_restarts = 5,\n",
    "    verbose = False, log_file = '/dev/tty', output_sparsing_factor = 100, \n",
    "    term_log_file = '%s.tlog', simplex_log = '%s.simlog',\n",
    "    simplex_log_interval = 50,\n",
    "    # ^ Depending on your filesystem, you may want to increase this in order to improve performance\n",
    ")"
   ]
  },
  {
   "cell_type": "markdown",
   "metadata": {},
   "source": [
    "# Optimization Variables"
   ]
  },
  {
   "cell_type": "markdown",
   "metadata": {},
   "source": [
    "## # Knobs\n",
    "- K1: 'BD', 'BF', 'LBD', 'LBF', 'HBD', 'HBF', 'MBD', 'MBF', 'QL1', 'QL2', 'QH1', 'QH2', 'QM1', 'QM2'\n",
    "- L: 'DL5', 'DH5'\n",
    "- ANGLE: 'BD', 'BF', 'LBD', 'LBF', 'HBD', 'HBF', 'MBD', 'MBF'"
   ]
  },
  {
   "cell_type": "code",
   "execution_count": null,
   "metadata": {
    "scrolled": true
   },
   "outputs": [],
   "source": [
    "ed.add_newline()\n",
    "ed.add_comment('! Vary focusing gradients')\n",
    "\n",
    "for name in ['BD', 'BF', 'LBD', 'LBF', 'HBD', 'HBF', 'MBD', 'MBF']:\n",
    "    ed.add_block('optimization_variable',\n",
    "        name = name, item = 'K1', lower_limit=-20, upper_limit=20, step_size=1e-4)\n",
    "    \n",
    "for name in ['QL1', 'QL2', 'QH1', 'QH2', 'QM1', 'QM2']:\n",
    "    ed.add_block('optimization_variable',\n",
    "        name = name, item = 'K1', lower_limit=-7, upper_limit=7, step_size=1e-4)"
   ]
  },
  {
   "cell_type": "code",
   "execution_count": null,
   "metadata": {},
   "outputs": [],
   "source": [
    "# Initial values are checked to see whether they fall between lower and upper limit\n",
    "\n",
    "if False:\n",
    "    ed.add_newline()\n",
    "    ed.add_comment('! Allow straight section lengths to vary (helps matching floor coordinates)')\n",
    "\n",
    "    ed.add_block('optimization_variable',\n",
    "        name = 'DL5', item = 'L', lower_limit = 3.2, upper_limit = 3.4)\n",
    "    ed.add_block('optimization_variable',\n",
    "        name = 'DH5', item = 'L', lower_limit = 4.4, upper_limit = 4.6)\n",
    "else:\n",
    "    ed.add_newline()\n",
    "    ed.add_comment('! Allow straight section lengths to vary (helps matching floor coordinates)')\n",
    "\n",
    "    ed.add_block('optimization_variable',\n",
    "        name = 'DL5', item = 'L', lower_limit = 3.2, upper_limit = 4.65)\n",
    "    ed.add_block('optimization_variable',\n",
    "        name = 'DH5', item = 'L', lower_limit = 3.2, upper_limit = 4.65)"
   ]
  },
  {
   "cell_type": "code",
   "execution_count": null,
   "metadata": {},
   "outputs": [],
   "source": [
    "ed.add_newline()\n",
    "ed.add_comment('! Dipole Angles')\n",
    "\n",
    "for name in ['BD', 'BF', 'LBD', 'LBF', 'HBD', 'HBF', 'MBD']:\n",
    "    ed.add_block('optimization_variable',\n",
    "        name = name, item = 'ANGLE',\n",
    "        lower_limit=-0.01, upper_limit=0.03, step_size=1e-5)"
   ]
  },
  {
   "cell_type": "markdown",
   "metadata": {},
   "source": [
    "# Optimization Co-Variables"
   ]
  },
  {
   "cell_type": "markdown",
   "metadata": {},
   "source": [
    "Digression on RPN (Reverse Polish Notation a.k.a. Post-fix Notation), as opposed to the infix notation (i.e., the normal way we write equations).\n",
    "\n",
    "Consider the following random expression:\n",
    "\n",
    "\\begin{align}\n",
    "& \\beta_{x0} - \\alpha_{x0} (s_2 + s_1) + \n",
    "    \\frac{1 + \\alpha_{x0}^2}{3 \\beta_{x0}} (s_1^2 + s_1 s_2 + s_2^2) \\\\\n",
    "\\end{align}"
   ]
  },
  {
   "cell_type": "code",
   "execution_count": null,
   "metadata": {},
   "outputs": [],
   "source": [
    "some_algeb_eq = elebuilder.InfixEquation(\n",
    "    'betax0 - alphax0 * (s2 + s1) + (1 + alphax0**2) / (3 * betax0) * (s1**2 + s1*s2 + s2**2)')\n",
    "some_algeb_eq"
   ]
  },
  {
   "cell_type": "markdown",
   "metadata": {},
   "source": [
    "As long as a valid Python expression string is passed in the previous cell,\n",
    "corresponding RPN expression is given by:"
   ]
  },
  {
   "cell_type": "code",
   "execution_count": null,
   "metadata": {},
   "outputs": [],
   "source": [
    "some_algeb_eq.torpn()"
   ]
  },
  {
   "cell_type": "markdown",
   "metadata": {},
   "source": [
    "If you give an invalid (infix) expression, you will get a warning:"
   ]
  },
  {
   "cell_type": "code",
   "execution_count": null,
   "metadata": {},
   "outputs": [],
   "source": [
    "some_algeb_eq = elebuilder.InfixEquation(\n",
    "    'betax0 - alphax0 * s2 + s1) + (1 + alphax0**2) / (3 * betax0) * (s1**2 + s1*s2 + s2**2)')"
   ]
  },
  {
   "cell_type": "code",
   "execution_count": null,
   "metadata": {},
   "outputs": [],
   "source": [
    "c = elebuilder.RPNCalculator()"
   ]
  },
  {
   "cell_type": "code",
   "execution_count": null,
   "metadata": {},
   "outputs": [],
   "source": [
    "d = {\n",
    "    'betax0': 1.5,\n",
    "    'alphax0': -20.0,\n",
    "    's1': 0.1, \n",
    "    's2': 0.5,\n",
    "}\n",
    "\n",
    "c.clear_buffer()\n",
    "c.get_buffer(\n",
    "    'betax0 alphax0 s2 s1 + * - 1 alphax0 2 pow + 3 betax0 * / s1 2 pow s1 s2 * + s2 2 pow + * +', d)"
   ]
  },
  {
   "cell_type": "code",
   "execution_count": null,
   "metadata": {},
   "outputs": [],
   "source": [
    "rf = ed.rpnfuncs"
   ]
  },
  {
   "cell_type": "code",
   "execution_count": null,
   "metadata": {
    "scrolled": true
   },
   "outputs": [],
   "source": [
    "[_s for _s in dir(rf) if not _s.startswith('_')]"
   ]
  },
  {
   "cell_type": "code",
   "execution_count": null,
   "metadata": {},
   "outputs": [],
   "source": [
    "help(rf.segt)"
   ]
  },
  {
   "cell_type": "code",
   "execution_count": null,
   "metadata": {},
   "outputs": [],
   "source": [
    "rf.segt?"
   ]
  },
  {
   "cell_type": "code",
   "execution_count": null,
   "metadata": {},
   "outputs": [],
   "source": [
    "help(rf.dtor)"
   ]
  },
  {
   "cell_type": "code",
   "execution_count": null,
   "metadata": {},
   "outputs": [],
   "source": [
    "help(rf.maxn)"
   ]
  },
  {
   "cell_type": "code",
   "execution_count": null,
   "metadata": {},
   "outputs": [],
   "source": [
    "optim_term_rpnvars = ed.get_rpn_vars('optimization_term')\n",
    "rd = optim_term_rpnvars.dict\n",
    "rv = optim_term_rpnvars.namespace"
   ]
  },
  {
   "cell_type": "code",
   "execution_count": null,
   "metadata": {},
   "outputs": [],
   "source": [
    "list(rd)"
   ]
  },
  {
   "cell_type": "code",
   "execution_count": null,
   "metadata": {},
   "outputs": [],
   "source": [
    "rd['BD.ANGLE']"
   ]
  },
  {
   "cell_type": "code",
   "execution_count": null,
   "metadata": {},
   "outputs": [],
   "source": [
    "type(rd['BD.ANGLE'])"
   ]
  },
  {
   "cell_type": "code",
   "execution_count": null,
   "metadata": {},
   "outputs": [],
   "source": [
    "# optim_term_rpnvars = ed.get_rpn_vars('optimization_term')\n",
    "# rd = optim_term_rpnvars.dict\n",
    "# rv = optim_term_rpnvars.namespace\n",
    "\n",
    "(rv.BD__DOT__ANGLE) is (rd['BD.ANGLE'])"
   ]
  },
  {
   "cell_type": "code",
   "execution_count": null,
   "metadata": {},
   "outputs": [],
   "source": [
    "ring_multiplier = 15"
   ]
  },
  {
   "cell_type": "code",
   "execution_count": null,
   "metadata": {},
   "outputs": [],
   "source": [
    "angle_sum_rad = 0.0\n",
    "for bend_name in ['BD', 'BF', 'LBD', 'LBF', 'HBD', 'HBF', 'MBD', 'MBF']:\n",
    "    angle_sum_rad += ed.get_LTE_elem_count(bend_name) * ed.get_LTE_elem_prop(bend_name, 'ANGLE')\n",
    "\n",
    "print('{:.6f} [deg] for this lattice; {:.6f} [deg] for full ring'.format(\n",
    "    np.rad2deg(angle_sum_rad), np.rad2deg(angle_sum_rad) * ring_multiplier))"
   ]
  },
  {
   "cell_type": "code",
   "execution_count": null,
   "metadata": {},
   "outputs": [],
   "source": [
    "covar_rpnvars = ed.get_rpn_vars('optimization_covariable')\n",
    "rd_co = covar_rpnvars.dict\n",
    "\n",
    "# \"rd_co\" dict contains variables that are available for use in \"&optimization_covariable\" block.\n",
    "# \"rd\" dict contains variables that are available for use in \"&optimization_term\" block."
   ]
  },
  {
   "cell_type": "code",
   "execution_count": null,
   "metadata": {},
   "outputs": [],
   "source": [
    "# When this cell is run after sequentially running all the cells above,\n",
    "# it should generate a key error, as \"MBF.ANGLE\" has not been yet declared with\n",
    "# \"&optimization_variable\", and so the variable is not yet available to be used\n",
    "# in \"&optimization_covariable\" block.\n",
    "\n",
    "rf.dtor(24) - (\n",
    "    rd_co['BD.ANGLE'] * ed.get_LTE_elem_count('BD') + \n",
    "    rd_co['BF.ANGLE'] * ed.get_LTE_elem_count('BF') +\n",
    "    rd_co['LBD.ANGLE'] * ed.get_LTE_elem_count('LBD') +\n",
    "    rd_co['LBF.ANGLE'] * ed.get_LTE_elem_count('LBF') +\n",
    "    rd_co['HBD.ANGLE'] * ed.get_LTE_elem_count('HBD') +\n",
    "    rd_co['HBF.ANGLE'] * ed.get_LTE_elem_count('HBF') +\n",
    "    rd_co['MBD.ANGLE'] * ed.get_LTE_elem_count('MBD') +\n",
    "    rd_co['MBF.ANGLE'] * ed.get_LTE_elem_count('MBF')\n",
    ")"
   ]
  },
  {
   "cell_type": "code",
   "execution_count": null,
   "metadata": {},
   "outputs": [],
   "source": [
    "# When this cell is run after sequentially running all the cells above,\n",
    "# it should generate a key error, as \"MBF.ANGLE\" has not been yet declared with\n",
    "# \"&optimization_variable\", and so the variable is not yet available to be used\n",
    "# in \"&optimization_term\" block.\n",
    "\n",
    "rd['MBF.ANGLE']"
   ]
  },
  {
   "cell_type": "code",
   "execution_count": null,
   "metadata": {},
   "outputs": [],
   "source": [
    "rest_of_bend_angles = (\n",
    "    rd_co['BD.ANGLE'] * ed.get_LTE_elem_count('BD') + \n",
    "    rd_co['BF.ANGLE'] * ed.get_LTE_elem_count('BF') +\n",
    "    rd_co['LBD.ANGLE'] * ed.get_LTE_elem_count('LBD') +\n",
    "    rd_co['LBF.ANGLE'] * ed.get_LTE_elem_count('LBF') +\n",
    "    rd_co['HBD.ANGLE'] * ed.get_LTE_elem_count('HBD') +\n",
    "    rd_co['HBF.ANGLE'] * ed.get_LTE_elem_count('HBF') +\n",
    "    rd_co['MBD.ANGLE'] * ed.get_LTE_elem_count('MBD')\n",
    ")\n",
    "MBF_angle_infix_eq = (rf.dtor(24) - rest_of_bend_angles) / ed.get_LTE_elem_count('MBF')\n",
    "\n",
    "print(MBF_angle_infix_eq)"
   ]
  },
  {
   "cell_type": "code",
   "execution_count": null,
   "metadata": {},
   "outputs": [],
   "source": [
    "rpn_str = MBF_angle_infix_eq.torpn()\n",
    "\n",
    "rpn_str"
   ]
  },
  {
   "cell_type": "code",
   "execution_count": null,
   "metadata": {},
   "outputs": [],
   "source": [
    "ed.add_newline()\n",
    "ed.add_comment('! Set MBF angle so that the total angle of this lattice becomes 24 degrees')\n",
    "\n",
    "if True:\n",
    "    ed.add_block('optimization_covariable',\n",
    "        name = 'MBF', item = 'ANGLE', equation = MBF_angle_infix_eq)\n",
    "else:\n",
    "    ed.add_block('optimization_covariable',\n",
    "        name = 'MBF', item = 'ANGLE', equation = rpn_str)"
   ]
  },
  {
   "cell_type": "code",
   "execution_count": null,
   "metadata": {},
   "outputs": [],
   "source": [
    "# When this cell is run after sequentially running all the cells above,\n",
    "# it should NOT generate a key error any more, as \"MBF.ANGLE\" has been declared with\n",
    "# \"&optimization_covariable\", and so the variable is available to be used\n",
    "# in \"&optimization_term\" block.\n",
    "\n",
    "rd['MBF.ANGLE']"
   ]
  },
  {
   "cell_type": "code",
   "execution_count": null,
   "metadata": {},
   "outputs": [],
   "source": [
    "# When this cell is run after sequentially running all the cells above,\n",
    "# it should still generate a key error, as \"MBF.ANGLE\" has been declared with \n",
    "# \"&optimization_covariable\", NOT \"&optimization_variable\". This will make the \n",
    "# variable available in \"&optimization_term\" block, but NOT in \"&optimization_covariable.\"\n",
    "\n",
    "rd_co['MBF.ANGLE']"
   ]
  },
  {
   "cell_type": "markdown",
   "metadata": {},
   "source": [
    "# Optimization Terms"
   ]
  },
  {
   "cell_type": "code",
   "execution_count": null,
   "metadata": {},
   "outputs": [],
   "source": [
    "ed.add_newline()\n",
    "ed.add_comment('! Constrain MBF angle within a reasonable range')\n",
    "\n",
    "if False:\n",
    "    ed.add_block('optimization_term',\n",
    "        term = rf.selt(rd['MBF.ANGLE'], 0.01, 1e-6)\n",
    "    )\n",
    "\n",
    "ed.add_block('optimization_term',\n",
    "    term = rf.segt(rd['MBF.ANGLE'], 0.03, 1e-6)\n",
    ")"
   ]
  },
  {
   "cell_type": "code",
   "execution_count": null,
   "metadata": {},
   "outputs": [],
   "source": [
    "ed.add_newline()\n",
    "ed.add_comment('! Natural chromaticity should be minimized')\n",
    "\n",
    "ed.add_block('optimization_term', \n",
    "    term = rf.abs(rd['dnux/dp'] * ring_multiplier) / 10)\n",
    "\n",
    "ed.add_block('optimization_term', \n",
    "    term = rf.abs(rd['dnuy/dp'] * ring_multiplier) / 10)"
   ]
  },
  {
   "cell_type": "code",
   "execution_count": null,
   "metadata": {},
   "outputs": [],
   "source": [
    "ed.add_newline()\n",
    "ed.add_comment('! Want Jx:[1, 2]')\n",
    "\n",
    "ed.add_block('optimization_term', term = rf.selt(rd['Jx'], 1, 1e-3))\n",
    "ed.add_block('optimization_term', term = rf.segt(rd['Jx'], 2, 1e-3))"
   ]
  },
  {
   "cell_type": "code",
   "execution_count": null,
   "metadata": {},
   "outputs": [],
   "source": [
    "ed.add_newline()\n",
    "ed.add_comment('! Want etax to be zero in both ID straights')\n",
    "\n",
    "ed.add_block('optimization_term', term = rf.sene(rd['M_LS#2.etax'], 0, 1e-4))\n",
    "ed.add_block('optimization_term', term = rf.sene(rd['M_SS#1.etax'], 0, 1e-4))"
   ]
  },
  {
   "cell_type": "code",
   "execution_count": null,
   "metadata": {},
   "outputs": [],
   "source": [
    "ed.add_newline()\n",
    "ed.add_comment('! Want etax>0.08 in high-dispersion region (weak requirement)')\n",
    "\n",
    "ed.add_block('optimization_term', term = rf.selt(rd['MDISP#1.etax'], 0.1, 0.01))\n",
    "ed.add_block('optimization_term', term = rf.selt(rd['MDISP#2.etax'], 0.1, 0.01))"
   ]
  },
  {
   "cell_type": "code",
   "execution_count": null,
   "metadata": {},
   "outputs": [],
   "source": [
    "ed.add_newline()\n",
    "ed.add_comment('! Minimize the emittance')\n",
    "\n",
    "eps_x_pm = rd['ex0'] * 1e12\n",
    "ed.add_block('optimization_term', term = rf.segt(eps_x_pm, 70.0, 1.0) * 10)"
   ]
  },
  {
   "cell_type": "code",
   "execution_count": null,
   "metadata": {},
   "outputs": [],
   "source": [
    "ed.add_newline()\n",
    "ed.add_comment('! Maximize the momentum compaction')\n",
    "\n",
    "alphac_x_1e4 = rd['alphac'] * 1e4\n",
    "ed.add_block('optimization_term', term = rf.selt(alphac_x_1e4, 3.6, 0.1))"
   ]
  },
  {
   "cell_type": "code",
   "execution_count": null,
   "metadata": {},
   "outputs": [],
   "source": [
    "if False:\n",
    "    ed.add_newline()\n",
    "    ed.add_comment('! Try to make betax=betay=L/2 in IDs, where L is the *total* straight length')\n",
    "    \n",
    "    ed.add_block('optimization_term', term = rf.sene(rd['M_SS#1.betax'] / rd['DL5.L'], 1, 0.1) * 1e2)\n",
    "    ed.add_block('optimization_term', term = rf.sene(rd['M_SS#1.betay'] / rd['DL5.L'], 1, 0.1) * 1e2)\n",
    "    ed.add_block('optimization_term', term = rf.sene(rd['M_LS#2.betax'] / rd['DH5.L'], 1, 0.1) * 1e2)\n",
    "    ed.add_block('optimization_term', term = rf.sene(rd['M_LS#2.betay'] / rd['DH5.L'], 1, 0.1) * 1e2)\n",
    "else:\n",
    "    ed.add_newline()\n",
    "    ed.add_comment('! Try to make betax & betay the same as NSLS-II Day-1 bare')\n",
    "    \n",
    "    ed.add_block('optimization_term', term = rf.sene(rd['M_SS#1.betax'], 1.846, 0.2) * 5)\n",
    "    ed.add_block('optimization_term', term = rf.sene(rd['M_SS#1.betay'], 1.171, 0.1) * 5)\n",
    "    ed.add_block('optimization_term', term = rf.sene(rd['M_LS#2.betax'], 20.466, 2.0) * 5)\n",
    "    ed.add_block('optimization_term', term = rf.sene(rd['M_LS#2.betay'], 3.369, 0.3) * 5)"
   ]
  },
  {
   "cell_type": "markdown",
   "metadata": {},
   "source": [
    "## Digression: Floor Coordinates"
   ]
  },
  {
   "cell_type": "code",
   "execution_count": null,
   "metadata": {},
   "outputs": [],
   "source": [
    "flr_data = sdds.sdds2dicts(nsls2_flr_filepath)[0]\n",
    "N2_X = flr_data['columns']['X']\n",
    "N2_Z = flr_data['columns']['Z']\n",
    "N2_ElemNames = flr_data['columns']['ElementName']\n",
    "N2_SS_index, N2_LS_index = np.where(N2_ElemNames == 'MID')[0][:2]"
   ]
  },
  {
   "cell_type": "code",
   "execution_count": null,
   "metadata": {},
   "outputs": [],
   "source": [
    "SS_index = np.where(ini_res['flr']['columns']['ElementName'] == 'M_SS')[0][0]\n",
    "LS_index = np.where(ini_res['flr']['columns']['ElementName'] == 'M_LS')[0][1] # Must pick the 2nd index"
   ]
  },
  {
   "cell_type": "code",
   "execution_count": null,
   "metadata": {},
   "outputs": [],
   "source": [
    "plt.figure()\n",
    "plt.plot(N2_X[:N2_LS_index], N2_Z[:N2_LS_index], 'b.-')\n",
    "plt.plot(N2_X[N2_SS_index], N2_Z[N2_SS_index], 'k+', ms=20)\n",
    "plt.plot(N2_X[N2_LS_index], N2_Z[N2_LS_index], 'k+', ms=20)\n",
    "plt.plot(ini_res['flr']['columns']['X'][SS_index], ini_res['flr']['columns']['Z'][SS_index], 'ro') \n",
    "plt.plot(ini_res['flr']['columns']['X'][LS_index], ini_res['flr']['columns']['Z'][LS_index], 'ro') \n",
    "plt.grid(True)\n",
    "plt.tight_layout()"
   ]
  },
  {
   "cell_type": "markdown",
   "metadata": {},
   "source": [
    "## Digression: Floor Coordinates (end)"
   ]
  },
  {
   "cell_type": "code",
   "execution_count": null,
   "metadata": {},
   "outputs": [],
   "source": [
    "# (M_SS#1 in this LTE file) == (MID#1 in nsls2.flr) => flr1.X & flr1.Z\n",
    "# (M_LS#2 in this LTE file) == (MID#2 in nsls2.flr) => flr2.X & flr2.Z\n",
    "\n",
    "ed.add_newline()\n",
    "ed.add_comment('! Keep the radius within 1 mm of NSLS-II')\n",
    "\n",
    "eq = rf.sene(rf.sqrt(rf.sqr(rd['M_SS#1.X']) + rf.sqr(rd['M_SS#1.Z'])), \n",
    "             rf.sqrt(rf.sqr(rd['flr1.X']) + rf.sqr(rd['flr1.Z'])), \n",
    "             1e-3)\n",
    "\n",
    "ed.add_block('optimization_term', term = eq)\n",
    "\n",
    "eq = rf.sene(rf.sqrt(rf.sqr(rd['M_LS#2.X']) + rf.sqr(rd['M_LS#2.Z'])), \n",
    "             rf.sqrt(rf.sqr(rd['flr2.X']) + rf.sqr(rd['flr2.Z'])), \n",
    "             1e-3)\n",
    "\n",
    "ed.add_block('optimization_term', term = eq)"
   ]
  },
  {
   "cell_type": "code",
   "execution_count": null,
   "metadata": {},
   "outputs": [],
   "source": [
    "ed.add_newline()\n",
    "ed.add_comment('! Make sure beta is not too large anywhere')\n",
    "\n",
    "ed.add_block('optimization_term', term = rf.segt(rd['max.betax'], 30.0, 1.0))\n",
    "ed.add_block('optimization_term', term = rf.segt(rd['max.betay'], 30.0, 1.0))"
   ]
  },
  {
   "cell_type": "code",
   "execution_count": null,
   "metadata": {},
   "outputs": [],
   "source": [
    "ed.add_newline()\n",
    "ed.add_comment('! Make sure beta is not too small anywhere')\n",
    "\n",
    "ed.add_block('optimization_term', term = rf.selt(rd['min.betax'], 0.2, 0.1))\n",
    "ed.add_block('optimization_term', term = rf.selt(rd['min.betay'], 0.2, 0.1))"
   ]
  },
  {
   "cell_type": "code",
   "execution_count": null,
   "metadata": {},
   "outputs": [],
   "source": [
    "ed.add_newline()\n",
    "ed.add_comment(\"! Ensure that central particle isn't lost\")\n",
    "\n",
    "ed.add_block('optimization_term', term = rf.sene(rd['Particles'], 1, 1e-10))"
   ]
  },
  {
   "cell_type": "markdown",
   "metadata": {},
   "source": [
    "# Add more blocks required to run optimizer"
   ]
  },
  {
   "cell_type": "code",
   "execution_count": null,
   "metadata": {},
   "outputs": [],
   "source": [
    "ed.add_newline()\n",
    "ed.add_comment(\"! Beam consists of central particle only\")\n",
    "\n",
    "ed.add_block('bunched_beam')"
   ]
  },
  {
   "cell_type": "code",
   "execution_count": null,
   "metadata": {},
   "outputs": [],
   "source": [
    "ed.add_newline()\n",
    "ed.add_comment(\"! Start optimization\")\n",
    "\n",
    "ed.add_block('optimize')"
   ]
  },
  {
   "cell_type": "markdown",
   "metadata": {},
   "source": [
    "# Add blocks for final evaluation of optimized lattice"
   ]
  },
  {
   "cell_type": "code",
   "execution_count": null,
   "metadata": {},
   "outputs": [],
   "source": [
    "ed.add_newline()\n",
    "ed.add_comment(\"! Evaluate the results of optimization\")\n",
    "\n",
    "ed.add_newline()\n",
    "\n",
    "ed.add_block('run_setup',\n",
    "    lattice = ini_LTE_filepath,\n",
    "    use_beamline='RING_LS_SS',\n",
    "    # ^ Note that here I am using the full ring, not 2 ring cells\n",
    "    p_central_mev = 3e3, semaphore_file = '%s.done', magnets = '%s.mag', default_order = 2,\n",
    ")\n",
    "\n",
    "ed.add_newline()\n",
    "\n",
    "ed.add_block('load_parameters',filename = '%s.param', change_defined_values = True)\n",
    "\n",
    "ed.add_newline()\n",
    "\n",
    "ed.add_block('twiss_output',\n",
    "    filename = '%s.twi', matched = True, radiation_integrals = True, concat_order = 2)\n",
    "\n",
    "ed.add_newline()\n",
    "\n",
    "ed.add_block('floor_coordinates', filename = '%s.flr')"
   ]
  },
  {
   "cell_type": "markdown",
   "metadata": {},
   "source": [
    "# Save Optimized Lattice into a New LTE file"
   ]
  },
  {
   "cell_type": "code",
   "execution_count": null,
   "metadata": {},
   "outputs": [],
   "source": [
    "ed.add_newline()\n",
    "\n",
    "ed.add_block('save_lattice', filename = '%s.newlte')"
   ]
  },
  {
   "cell_type": "markdown",
   "metadata": {},
   "source": [
    "# Finally write the contents into a ELE file"
   ]
  },
  {
   "cell_type": "code",
   "execution_count": null,
   "metadata": {},
   "outputs": [],
   "source": [
    "ed.write()\n",
    "\n",
    "print(f'ELE contents has been written into \"{ed.ele_filepath}\"')\n",
    "print(' ')\n",
    "print('Running ELEGANT with this ELE file should generate following output files:')\n",
    "for fp in ed.actual_output_filepath_list:\n",
    "    print(f'   {fp}')"
   ]
  },
  {
   "cell_type": "markdown",
   "metadata": {},
   "source": [
    "# Start running the optimizer"
   ]
  },
  {
   "cell_type": "code",
   "execution_count": null,
   "metadata": {},
   "outputs": [],
   "source": [
    "remote.start_hybrid_simplex_optimizer(\n",
    "    ed, ntasks=18, partition='short', job_name='job', time_limit='7:00', \n",
    "    email_end=True, email_address=f'{getpass.getuser()}@bnl.gov',\n",
    "    show_progress_plot=True)"
   ]
  },
  {
   "cell_type": "code",
   "execution_count": null,
   "metadata": {},
   "outputs": [],
   "source": [
    "print('Consolidating SDDS data files...')\n",
    "_d = ed.load_sdds_output_files()\n",
    "output, meta = _d['data'], _d['meta']\n",
    "print('Finished.')"
   ]
  },
  {
   "cell_type": "code",
   "execution_count": null,
   "metadata": {},
   "outputs": [],
   "source": [
    "util.pprint_optim_term_log(output['tlog'])"
   ]
  },
  {
   "cell_type": "code",
   "execution_count": null,
   "metadata": {},
   "outputs": [],
   "source": [
    "# Save results into a HDF5 file\n",
    "print('Writing data to HDF5 file...')\n",
    "sys.stdout.flush()\n",
    "output_filepath = 'hybrid_simplex_results.hdf5'\n",
    "util.robust_sdds_hdf5_write(\n",
    "    output_filepath, [output, meta], nMaxTry=10, sleep=10.0)\n",
    "print('Finished.')\n",
    "sys.stdout.flush()"
   ]
  },
  {
   "cell_type": "code",
   "execution_count": null,
   "metadata": {},
   "outputs": [],
   "source": [
    "# Save the dictionaries into a gzipped pickle file\n",
    "print('Writing data to pgz file...')\n",
    "sys.stdout.flush()\n",
    "output_filepath = 'hybrid_simplex_results.pgz'\n",
    "mod_output = {}\n",
    "for k, v in output.items():\n",
    "    mod_output[k] = {}\n",
    "    if 'params' in v:\n",
    "        mod_output[k]['scalars'] = v['params']\n",
    "    if 'columns' in v:\n",
    "        mod_output[k]['arrays'] = v['columns']\n",
    "mod_meta = {}\n",
    "for k, v in meta.items():\n",
    "    mod_meta[k] = {}\n",
    "    if 'params' in v:\n",
    "        mod_meta[k]['scalars'] = v['params']\n",
    "    if 'columns' in v:\n",
    "        mod_meta[k]['arrays'] = v['columns']\n",
    "util.robust_pgz_file_write(\n",
    "    output_filepath, [mod_output, mod_meta], nMaxTry=10, sleep=10.0)\n",
    "print('Finished.')\n",
    "sys.stdout.flush()"
   ]
  },
  {
   "cell_type": "code",
   "execution_count": null,
   "metadata": {},
   "outputs": [],
   "source": [
    "fin_LTE_filepath = [fp for fp in ed.actual_output_filepath_list if fp.endswith('.newlte')][0]\n",
    "output_filepath = f'{fin_LTE_filepath}.twi.hdf5'\n",
    "\n",
    "pe.calc_ring_twiss(output_filepath, fin_LTE_filepath, E_MeV, use_beamline=use_beamline, \n",
    "                   radiation_integrals=True, element_divisions=10)"
   ]
  },
  {
   "cell_type": "code",
   "execution_count": null,
   "metadata": {},
   "outputs": [],
   "source": [
    "pe.plot_twiss(\n",
    "    output_filepath, print_scalars=['ex0', 'Jx', 'nux', 'nuy', 'dnux/dp', 'dnuy/dp', 'alphac'])"
   ]
  },
  {
   "cell_type": "markdown",
   "metadata": {},
   "source": [
    "# Now try to resume optimization from where it ended"
   ]
  },
  {
   "cell_type": "code",
   "execution_count": null,
   "metadata": {},
   "outputs": [],
   "source": [
    "# Move the pointer of the \"EleDesigner\" object to the previously bookmarked location to \n",
    "# insert a new \"&load_parameters\" block\n",
    "\n",
    "ed.seek_bookmark('load_param')"
   ]
  },
  {
   "cell_type": "code",
   "execution_count": null,
   "metadata": {},
   "outputs": [],
   "source": [
    "param_filepath = [fp for fp in ed.actual_output_filepath_list if fp.endswith('.param')][0]\n",
    "param_filepath"
   ]
  },
  {
   "cell_type": "code",
   "execution_count": null,
   "metadata": {},
   "outputs": [],
   "source": [
    "ed.add_newline()\n",
    "ed.add_comment('! Load solution from previous optimization')\n",
    "ed.add_block('load_parameters', filename = param_filepath, change_defined_values = True)"
   ]
  },
  {
   "cell_type": "code",
   "execution_count": null,
   "metadata": {},
   "outputs": [],
   "source": [
    "ed.print_whole()"
   ]
  },
  {
   "cell_type": "code",
   "execution_count": null,
   "metadata": {},
   "outputs": [],
   "source": [
    "ed.write()"
   ]
  },
  {
   "cell_type": "code",
   "execution_count": null,
   "metadata": {},
   "outputs": [],
   "source": [
    "remote.start_hybrid_simplex_optimizer(\n",
    "    ed, ntasks=18, partition='short', job_name='job', time_limit='7:00', \n",
    "    email_end=False, email_address=f'{getpass.getuser()}@bnl.gov',\n",
    "    show_progress_plot=True)"
   ]
  },
  {
   "cell_type": "code",
   "execution_count": null,
   "metadata": {},
   "outputs": [],
   "source": [
    "print('Consolidating SDDS data files...')\n",
    "_d = ed.load_sdds_output_files()\n",
    "output, meta = _d['data'], _d['meta']\n",
    "print('Finished.')"
   ]
  },
  {
   "cell_type": "code",
   "execution_count": null,
   "metadata": {},
   "outputs": [],
   "source": [
    "util.pprint_optim_term_log(output['tlog'])"
   ]
  },
  {
   "cell_type": "code",
   "execution_count": null,
   "metadata": {},
   "outputs": [],
   "source": []
  },
  {
   "cell_type": "code",
   "execution_count": null,
   "metadata": {},
   "outputs": [],
   "source": [
    "# Delete the raw SDDS files\n",
    "ed.delete_temp_files()"
   ]
  },
  {
   "cell_type": "code",
   "execution_count": null,
   "metadata": {},
   "outputs": [],
   "source": [
    "# Delete the temporary ELE file\n",
    "ed.delete_ele_file()"
   ]
  },
  {
   "cell_type": "code",
   "execution_count": null,
   "metadata": {},
   "outputs": [],
   "source": []
  },
  {
   "cell_type": "markdown",
   "metadata": {},
   "source": [
    "# Phase Cancellation of First-order Geometric Terms"
   ]
  },
  {
   "cell_type": "markdown",
   "metadata": {},
   "source": [
    "From Eq. (97) of J. Bengtsson, \"The Sextupole Scheme for the Swiss Light Source (SLS): An Analytic Approach,\" SLS Note 9/97:\n",
    "\n",
    "\\begin{align}\n",
    "h_{21000} &= h_{12000}^* = -\\frac{1}{8} \\sum_{i=1}^{N} (b_{3i} L) \\beta_{xi}^{3/2} e^{i \\mu_{xi}} \\\\\n",
    "h_{30000} &= h_{03000}^* = -\\frac{1}{24} \\sum_{i=1}^{N} (b_{3i} L) \\beta_{xi}^{3/2} e^{i 3 \\mu_{xi}} \\\\\n",
    "h_{10110} &= h_{01110}^* = \\frac{1}{4} \\sum_{i=1}^{N} (b_{3i} L) \\beta_{xi}^{1/2} \\beta_{yi} e^{i \\mu_{xi}} \\\\\n",
    "h_{10020} &= h_{01200}^* = \\frac{1}{8} \\sum_{i=1}^{N} (b_{3i} L) \\beta_{xi}^{1/2} \\beta_{yi} e^{i (\\mu_{xi} - 2\\mu_{yi})} \\\\\n",
    "h_{10200} &= h_{01020}^* = \\frac{1}{8} \\sum_{i=1}^{N} (b_{3i} L) \\beta_{xi}^{1/2} \\beta_{yi} e^{i (\\mu_{xi} + 2\\mu_{yi})} \\\\\n",
    "\\end{align}\n",
    "\n",
    "When the following conditions are satisfied, all of these driving terms vanish:\n",
    "\n",
    "\\begin{align}\n",
    "&b_{3i} L = b_{3j} L \\\\\n",
    "&\\beta_{xi} = \\beta_{xj}, \\beta_{yi} = \\beta_{yj} \\\\\n",
    "&\\begin{cases}\n",
    "  \\mu_{xi} = \\mu_{xj} + (2 m + 1) \\pi \\\\\n",
    "  \\mu_{yi} = \\mu_{yj} + m \\pi \\\\\n",
    "\\end{cases} \\, \\mathrm{or} \\, \n",
    "\\begin{cases}\n",
    "  |\\nu_{xi} - \\nu_{xj}| = m + 0.5 \\\\\n",
    "  \\begin{cases}\n",
    "    |\\nu_{yi} - \\nu_{yj}| = m \\\\\n",
    "    |\\nu_{yi} - \\nu_{yj}| = m + 0.5 \\\\\n",
    "  \\end{cases}\n",
    "\\end{cases}\n",
    "\\end{align}\n",
    "\n",
    "where $m = 0, 1, 2, ...$. If we use the fractional normalized phase differences $\\delta \\nu_x, \\delta \\nu_y$ as defined by\n",
    "\n",
    "\\begin{align}\n",
    "  &\\Delta \\nu_x := \\nu_{xj} - \\nu_{xi}, \\Delta \\nu_y := \\nu_{yj} - \\nu_{yi} \\\\\n",
    "  &\\delta \\nu_x := \\Delta \\nu_x - \\mathrm{floor}(\\Delta \\nu_x), \\delta \\nu_x := \\Delta \\nu_y - \\mathrm{floor}(\\Delta \\nu_y) \\\\\n",
    "\\end{align}\n",
    "\n",
    "we can re-write the phase relation matching condition as the numerical minimiation problem of the following 2 terms:\n",
    "\n",
    "\\begin{cases}\n",
    "  |\\delta \\nu_x - 0.5| \\\\\n",
    "  \\min( {\\delta \\nu_y, |\\delta \\nu_y - 0.5|, 1 - \\delta \\nu_y} ) \\\\\n",
    "\\end{cases}\n"
   ]
  },
  {
   "cell_type": "code",
   "execution_count": null,
   "metadata": {},
   "outputs": [],
   "source": [
    "pe.plot_twiss(output_filepath, print_scalars=[])"
   ]
  },
  {
   "cell_type": "code",
   "execution_count": null,
   "metadata": {},
   "outputs": [],
   "source": [
    "# When this cell is run after sequentially running all the cells above,\n",
    "# it should generate a key error \"MDISP#1.psix\".\n",
    "\n",
    "nux_DA_LS_DA = rd['MDISP#1.psix'] / (2 * rd['pi']) * 2\n",
    "frac_nux_DA_LS_DA = nux_DA_LS_DA - rf.floor(nux_DA_LS_DA)\n",
    "v2 = rf.abs(frac_nux_DA_LS_DA - 0.5)\n",
    "print(rf.segt(v2 * 1e3, 2.0, 1.0).torpn())"
   ]
  },
  {
   "cell_type": "code",
   "execution_count": null,
   "metadata": {},
   "outputs": [],
   "source": [
    "# The error in the previous cell happened because we moved the \"EleDesigner\" object's \n",
    "# pointer to the \"load_param\" bookmark in order to insert the \"&load_parameters\" block.\n",
    "# At that point, \"MDISP#1.*\" variables are not yet available. So, now we move back\n",
    "# the pointer to the bottom.\n",
    "\n",
    "ed.seek_bookmark('bottom')"
   ]
  },
  {
   "cell_type": "code",
   "execution_count": null,
   "metadata": {},
   "outputs": [],
   "source": [
    "# Now running this cell (exactly the same cell as the one 2 cells above should\n",
    "# run successfully.\n",
    "\n",
    "nux_DA_LS_DA = rd['MDISP#1.psix'] / (2 * rd['pi']) * 2\n",
    "frac_nux_DA_LS_DA = nux_DA_LS_DA - rf.floor(nux_DA_LS_DA)\n",
    "v2 = rf.abs(frac_nux_DA_LS_DA - 0.5)\n",
    "print(rf.segt(v2 * 1e3, 2.0, 1.0).torpn())"
   ]
  },
  {
   "cell_type": "code",
   "execution_count": null,
   "metadata": {},
   "outputs": [],
   "source": [
    "nuy_DA_LS_DA = rd['MDISP#1.psiy'] / (2 * rd['pi']) * 2\n",
    "frac_nuy_DA_LS_DA = nuy_DA_LS_DA - rf.floor(nuy_DA_LS_DA)\n",
    "v1 = frac_nuy_DA_LS_DA\n",
    "v2 = rf.abs(frac_nuy_DA_LS_DA - 0.5)\n",
    "v3 = 1.0 - frac_nuy_DA_LS_DA\n",
    "print(rf.segt(rf.minn(v1, v2, v3) * 1e3, 2.0, 1.0).torpn())"
   ]
  },
  {
   "cell_type": "code",
   "execution_count": null,
   "metadata": {},
   "outputs": [],
   "source": [
    "eq_dphix = elebuilder.OptimizationTerm(ed)"
   ]
  },
  {
   "cell_type": "code",
   "execution_count": null,
   "metadata": {},
   "outputs": [],
   "source": [
    "sorted([s for s in list(rd) if s.startswith('nu')])"
   ]
  },
  {
   "cell_type": "code",
   "execution_count": null,
   "metadata": {},
   "outputs": [],
   "source": [
    "eq_dphix.assign('nux_DA_LS_DA', rd['MDISP#1.psix'] / (2 * rd['pi']) * 2)"
   ]
  },
  {
   "cell_type": "code",
   "execution_count": null,
   "metadata": {},
   "outputs": [],
   "source": [
    "sorted([s for s in list(rd) if s.startswith('nu')])"
   ]
  },
  {
   "cell_type": "code",
   "execution_count": null,
   "metadata": {},
   "outputs": [],
   "source": [
    "eq_dphix.assign('frac_nux_DA_LS_DA', rd['nux_DA_LS_DA'] - rf.floor(rd['nux_DA_LS_DA']))"
   ]
  },
  {
   "cell_type": "code",
   "execution_count": null,
   "metadata": {},
   "outputs": [],
   "source": [
    "sorted([s for s in list(rd) if s.startswith('frac')])"
   ]
  },
  {
   "cell_type": "code",
   "execution_count": null,
   "metadata": {},
   "outputs": [],
   "source": [
    "eq_dphix.assign('v2', rf.abs(rd['frac_nux_DA_LS_DA'] - 0.5))"
   ]
  },
  {
   "cell_type": "code",
   "execution_count": null,
   "metadata": {},
   "outputs": [],
   "source": [
    "eq_dphix.set_final(rf.segt(rd['v2'] * 1e3, 2.0, 1.0))"
   ]
  },
  {
   "cell_type": "code",
   "execution_count": null,
   "metadata": {},
   "outputs": [],
   "source": [
    "ed.add_newline()\n",
    "ed.add_comment('! LS dnux condition')\n",
    "\n",
    "ed.add_block('optimization_term', term = eq_dphix)"
   ]
  },
  {
   "cell_type": "code",
   "execution_count": null,
   "metadata": {},
   "outputs": [],
   "source": [
    "eq_dphiy = elebuilder.OptimizationTerm(ed)\n",
    "eq_dphiy.assign('nuy_DA_LS_DA', rd['MDISP#1.psiy'] / (2 * rd['pi']) * 2)\n",
    "eq_dphiy.assign('frac_nuy_DA_LS_DA', rd['nuy_DA_LS_DA'] - rf.floor(rd['nuy_DA_LS_DA']))"
   ]
  },
  {
   "cell_type": "code",
   "execution_count": null,
   "metadata": {},
   "outputs": [],
   "source": [
    "eq_dphiy.assign('v1', rd['frac_nuy_DA_LS_DA'])\n",
    "eq_dphiy.assign('v2', rf.abs(rd['frac_nuy_DA_LS_DA'] - 0.5))\n",
    "eq_dphiy.assign('v3', 1.0 - rd['frac_nuy_DA_LS_DA'])"
   ]
  },
  {
   "cell_type": "code",
   "execution_count": null,
   "metadata": {},
   "outputs": [],
   "source": [
    "eq_dphiy.set_final(rf.segt(rf.minn(rd['v1'], rd['v2'], rd['v3']) * 1e3, 2.0, 1.0))"
   ]
  },
  {
   "cell_type": "code",
   "execution_count": null,
   "metadata": {},
   "outputs": [],
   "source": [
    "ed.add_newline()\n",
    "ed.add_comment('! LS dnuy condition')\n",
    "\n",
    "ed.add_block('optimization_term', term = eq_dphiy)"
   ]
  },
  {
   "cell_type": "code",
   "execution_count": null,
   "metadata": {},
   "outputs": [],
   "source": [
    "with elebuilder.OptimizationTerm(ed) as eq:\n",
    "    eq.assign('nux_DA_SS_DA', (rd['MDISP#2.psix'] - rd['MDISP#1.psix']) / (2 * rd['pi']) * 2)\n",
    "    eq.assign('frac_nux_DA_SS_DA', rd['nux_DA_SS_DA'] - rf.floor(rd['nux_DA_SS_DA']))\n",
    "\n",
    "    eq.assign('v2', rf.abs(rd['frac_nux_DA_SS_DA'] - 0.5))\n",
    "    \n",
    "    eq.set_final(rf.segt(rd['v2'] * 1e3, 2.0, 1.0))\n",
    "\n",
    "ed.add_newline()\n",
    "ed.add_comment('! SS dnux condition')\n",
    "\n",
    "ed.add_block('optimization_term', term = eq)"
   ]
  },
  {
   "cell_type": "code",
   "execution_count": null,
   "metadata": {},
   "outputs": [],
   "source": [
    "with elebuilder.OptimizationTerm(ed) as eq:\n",
    "    eq.assign('nuy_DA_SS_DA', (rd['MDISP#2.psiy'] - rd['MDISP#1.psiy']) / (2 * rd['pi']) * 2)\n",
    "    eq.assign('frac_nuy_DA_SS_DA', rd['nuy_DA_SS_DA'] - rf.floor(rd['nuy_DA_SS_DA']))\n",
    "    \n",
    "    eq.assign('v1', rd['frac_nuy_DA_SS_DA'])\n",
    "    eq.assign('v2', rf.abs(rd['frac_nuy_DA_SS_DA'] - 0.5))\n",
    "    eq.assign('v3', 1.0 - rd['frac_nuy_DA_SS_DA'])    \n",
    "    \n",
    "    eq.set_final(rf.segt(rf.minn(rd['v1'], rd['v2'], rd['v3']) * 1e3, 2.0, 1.0))\n",
    "\n",
    "ed.add_newline()\n",
    "ed.add_comment('! SS dnuy condition')\n",
    "\n",
    "ed.add_block('optimization_term', term = eq)"
   ]
  },
  {
   "cell_type": "code",
   "execution_count": null,
   "metadata": {},
   "outputs": [],
   "source": []
  },
  {
   "cell_type": "code",
   "execution_count": null,
   "metadata": {},
   "outputs": [],
   "source": [
    "with elebuilder.OptimizationTerm(ed, intermediate=True) as eq:\n",
    "    eq.assign('nux_DA_LS_DA', rd['MDISP#1.psix'] / (2 * rd['pi']) * 2)\n",
    "    eq.assign('frac_nux_DA_LS_DA', rd['nux_DA_LS_DA'] - rf.floor(rd['nux_DA_LS_DA']))\n",
    "\n",
    "    eq.assign('v2', rf.abs(rd['frac_nux_DA_LS_DA'] - 0.5))\n",
    "    \n",
    "    eq.assign('DA_LS_DA_dnux', rf.segt(rd['v2'] * 1e3, 2.0, 1.0))\n",
    "\n",
    "ed.add_newline()\n",
    "ed.add_comment('! Intermediate LS dnux condition')\n",
    "\n",
    "ed.add_block('optimization_term', term = eq)"
   ]
  },
  {
   "cell_type": "code",
   "execution_count": null,
   "metadata": {},
   "outputs": [],
   "source": [
    "with elebuilder.OptimizationTerm(ed, intermediate=True) as eq:\n",
    "    eq.assign('nuy_DA_LS_DA', rd['MDISP#1.psiy'] / (2 * rd['pi']) * 2)\n",
    "    eq.assign('frac_nuy_DA_LS_DA', rd['nuy_DA_LS_DA'] - rf.floor(rd['nuy_DA_LS_DA']))\n",
    "    \n",
    "    eq.assign('v1', rd['frac_nuy_DA_LS_DA'])\n",
    "    eq.assign('v2', rf.abs(rd['frac_nuy_DA_LS_DA'] - 0.5))\n",
    "    eq.assign('v3', 1.0 - rd['frac_nuy_DA_LS_DA'])\n",
    "    \n",
    "    eq.assign('DA_LS_DA_dnuy', rf.segt(rf.minn(rd['v1'], rd['v2'], rd['v3']) * 1e3, 2.0, 1.0))\n",
    "\n",
    "ed.add_newline()\n",
    "ed.add_comment('! Intermediate LS dnuy condition')\n",
    "\n",
    "ed.add_block('optimization_term', term = eq)"
   ]
  },
  {
   "cell_type": "code",
   "execution_count": null,
   "metadata": {},
   "outputs": [],
   "source": [
    "with elebuilder.OptimizationTerm(ed, intermediate=True) as eq:\n",
    "    eq.assign('nux_DA_SS_DA', (rd['MDISP#2.psix'] - rd['MDISP#1.psix']) / (2 * rd['pi']) * 2)\n",
    "    eq.assign('frac_nux_DA_SS_DA', rd['nux_DA_SS_DA'] - rf.floor(rd['nux_DA_SS_DA']))\n",
    "\n",
    "    eq.assign('v2', rf.abs(rd['frac_nux_DA_SS_DA'] - 0.5))\n",
    "    \n",
    "    eq.assign('DA_SS_DA_dnux', rf.segt(rd['v2'] * 1e3, 2.0, 1.0))\n",
    "\n",
    "ed.add_newline()\n",
    "ed.add_comment('! Intermediate SS dnux condition')\n",
    "\n",
    "ed.add_block('optimization_term', term = eq)"
   ]
  },
  {
   "cell_type": "code",
   "execution_count": null,
   "metadata": {},
   "outputs": [],
   "source": [
    "with elebuilder.OptimizationTerm(ed, intermediate=True) as eq:\n",
    "    eq.assign('nuy_DA_SS_DA', (rd['MDISP#2.psiy'] - rd['MDISP#1.psiy']) / (2 * rd['pi']) * 2)\n",
    "    eq.assign('frac_nuy_DA_SS_DA', rd['nuy_DA_SS_DA'] - rf.floor(rd['nuy_DA_SS_DA']))\n",
    "    \n",
    "    eq.assign('v1', rd['frac_nuy_DA_SS_DA'])\n",
    "    eq.assign('v2', rf.abs(rd['frac_nuy_DA_SS_DA'] - 0.5))\n",
    "    eq.assign('v3', 1.0 - rd['frac_nuy_DA_SS_DA'])\n",
    "    \n",
    "    eq.assign('DA_SS_DA_dnuy', rf.segt(rf.minn(rd['v1'], rd['v2'], rd['v3']) * 1e3, 2.0, 1.0))\n",
    "\n",
    "ed.add_newline()\n",
    "ed.add_comment('! Intermediate SS dnuy condition')\n",
    "\n",
    "ed.add_block('optimization_term', term = eq)"
   ]
  },
  {
   "cell_type": "code",
   "execution_count": null,
   "metadata": {},
   "outputs": [],
   "source": [
    "ed.add_newline()\n",
    "ed.add_comment('! final dnux/dnuy condition')\n",
    "\n",
    "final_obj = rf.min2(\n",
    "    rf.max2(rd['DA_LS_DA_dnux'], rd['DA_LS_DA_dnuy']), \n",
    "    rf.max2(rd['DA_SS_DA_dnux'], rd['DA_SS_DA_dnuy'])\n",
    ")\n",
    "\n",
    "ed.add_block('optimization_term', term = final_obj)"
   ]
  },
  {
   "cell_type": "code",
   "execution_count": null,
   "metadata": {},
   "outputs": [],
   "source": []
  }
 ],
 "metadata": {
  "kernelspec": {
   "display_name": "pyelegant-latest",
   "language": "python",
   "name": "pyelegant-latest"
  },
  "language_info": {
   "codemirror_mode": {
    "name": "ipython",
    "version": 3
   },
   "file_extension": ".py",
   "mimetype": "text/x-python",
   "name": "python",
   "nbconvert_exporter": "python",
   "pygments_lexer": "ipython3",
   "version": "3.7.6"
  },
  "varInspector": {
   "cols": {
    "lenName": 16,
    "lenType": 16,
    "lenVar": 40
   },
   "kernels_config": {
    "python": {
     "delete_cmd_postfix": "",
     "delete_cmd_prefix": "del ",
     "library": "var_list.py",
     "varRefreshCmd": "print(var_dic_list())"
    },
    "r": {
     "delete_cmd_postfix": ") ",
     "delete_cmd_prefix": "rm(",
     "library": "var_list.r",
     "varRefreshCmd": "cat(var_dic_list()) "
    }
   },
   "types_to_exclude": [
    "module",
    "function",
    "builtin_function_or_method",
    "instance",
    "_Feature"
   ],
   "window_display": false
  }
 },
 "nbformat": 4,
 "nbformat_minor": 2
}
