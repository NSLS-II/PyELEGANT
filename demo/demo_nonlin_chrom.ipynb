{
 "cells": [
  {
   "cell_type": "code",
   "execution_count": null,
   "metadata": {},
   "outputs": [],
   "source": [
    "if True:\n",
    "    %matplotlib notebook\n",
    "elif False:\n",
    "    %matplotlib inline\n",
    "else:\n",
    "    %matplotlib qt"
   ]
  },
  {
   "cell_type": "code",
   "execution_count": null,
   "metadata": {},
   "outputs": [],
   "source": [
    "import getpass\n",
    "import matplotlib.pylab as plt\n",
    "\n",
    "import pyelegant as pe\n",
    "from pyelegant import nonlin\n",
    "from pyelegant import util"
   ]
  },
  {
   "cell_type": "code",
   "execution_count": null,
   "metadata": {},
   "outputs": [],
   "source": [
    "pe.disable_stdout()"
   ]
  },
  {
   "cell_type": "code",
   "execution_count": null,
   "metadata": {},
   "outputs": [],
   "source": [
    "LTE_filepath = 'nsls2cb65pm.lte'\n",
    "E_MeV = 3e3\n",
    "\n",
    "delta_min = -0.01\n",
    "delta_max = +0.005\n",
    "ndelta = 50"
   ]
  },
  {
   "cell_type": "code",
   "execution_count": null,
   "metadata": {},
   "outputs": [],
   "source": [
    "%%timeit -n 1 -r 1\n",
    "# 32.6 s ± 0 ns per loop (mean ± std. dev. of 1 run, 1 loop each) on nsls2apcluster\n",
    "# 36.5 s ± 0 ns per loop (mean ± std. dev. of 1 run, 1 loop each) on nsls2pluto\n",
    "\n",
    "output_filepath = f'test_nonlin_chrom_twiss.pgz'\n",
    "output_filepath = nonlin.calc_chrom_twiss(\n",
    "    output_filepath, LTE_filepath, E_MeV, delta_min, delta_max, ndelta)\n",
    "print(output_filepath)"
   ]
  },
  {
   "cell_type": "code",
   "execution_count": null,
   "metadata": {
    "scrolled": true
   },
   "outputs": [],
   "source": [
    "output_filepath = 'test_nonlin_chrom_twiss.pgz'\n",
    "\n",
    "title = f'$\\mathrm{{{LTE_filepath}}}$'\n",
    "nonlin.plot_chrom(\n",
    "    output_filepath, max_chrom_order=3, title=title, deltalim=None,\n",
    "    nuxlim=[76, 76.3], nuylim=[65.1, 65.3],\n",
    ")"
   ]
  },
  {
   "cell_type": "code",
   "execution_count": null,
   "metadata": {
    "scrolled": true
   },
   "outputs": [],
   "source": [
    "output_filepath = 'test_nonlin_chrom_twiss.pgz'\n",
    "\n",
    "title = f'$\\mathrm{{{LTE_filepath}}}$'\n",
    "nonlin.plot_chrom(\n",
    "    output_filepath, max_chrom_order=3, title=title, deltalim=None,\n",
    "    nuxlim=[0, 0.3], nuylim=[0.1, 0.3])"
   ]
  },
  {
   "cell_type": "code",
   "execution_count": null,
   "metadata": {},
   "outputs": [],
   "source": [
    "%%timeit -n 1 -r 1\n",
    "# 4min 12s ± 0 ns per loop (mean ± std. dev. of 1 run, 1 loop each) on nsls2apcluster\n",
    "# 3min 8s ± 0 ns per loop (mean ± std. dev. of 1 run, 1 loop each) on nsls2pluto\n",
    "\n",
    "output_filepath = f'test_nonlin_chrom_track.pgz'\n",
    "\n",
    "n_turns = 128\n",
    "run_local = True\n",
    "\n",
    "output_filepath = nonlin.calc_chrom_track(\n",
    "    output_filepath, LTE_filepath, E_MeV, delta_min, delta_max, ndelta,\n",
    "    n_turns=n_turns, run_local=run_local)"
   ]
  },
  {
   "cell_type": "code",
   "execution_count": null,
   "metadata": {
    "scrolled": false
   },
   "outputs": [],
   "source": [
    "output_filepath = 'test_nonlin_chrom_track.pgz'\n",
    "\n",
    "title = f'$\\mathrm{{{LTE_filepath}}}$'\n",
    "nonlin.plot_chrom(\n",
    "    output_filepath, max_chrom_order=3, title=title, deltalim=None,\n",
    "    nuxlim=[0, 0.3], nuylim=[0.1, 0.3])"
   ]
  },
  {
   "cell_type": "code",
   "execution_count": null,
   "metadata": {},
   "outputs": [],
   "source": [
    "output_filepath = 'test_nonlin_chrom_track.pgz'\n",
    "\n",
    "title = f'$\\mathrm{{{LTE_filepath}}}$'\n",
    "nonlin.plot_chrom(\n",
    "    output_filepath, max_chrom_order=5, title=title, deltalim=None,\n",
    "    nuxlim=[0, 0.3], nuylim=[0.1, 0.3], max_resonance_line_order=3)"
   ]
  },
  {
   "cell_type": "code",
   "execution_count": null,
   "metadata": {
    "scrolled": true
   },
   "outputs": [],
   "source": [
    "%%timeit -n 1 -r 1\n",
    "# 24.2 s ± 0 ns per loop (mean ± std. dev. of 1 run, 1 loop each) on nsls2apcluster\n",
    "# 24.1 s ± 0 ns per loop (mean ± std. dev. of 1 run, 1 loop each) on nsls2pluto\n",
    "\n",
    "output_filepath = f'test_nonlin_chrom_track_parallel.pgz'\n",
    "\n",
    "n_turns = 128\n",
    "run_local = False\n",
    "remote_opts = dict(ntasks=20, status_check_interval=1.0)\n",
    "if pe.facility_name == 'nsls2apcluster':\n",
    "    remote_opts['partition'] = 'short'\n",
    "    remote_opts['time'] = '2:00'\n",
    "elif pe.facility_name == 'nsls2pluto':\n",
    "    remote_opts['partition'] = 'normal'\n",
    "    remote_opts['qos'] = 'debug'\n",
    "    remote_opts['time'] = '5:00'\n",
    "        \n",
    "output_filepath = nonlin.calc_chrom_track(\n",
    "    output_filepath, LTE_filepath, E_MeV, delta_min, delta_max, ndelta,\n",
    "    n_turns=n_turns, run_local=run_local, remote_opts=remote_opts)"
   ]
  },
  {
   "cell_type": "code",
   "execution_count": null,
   "metadata": {},
   "outputs": [],
   "source": [
    "output_filepath = 'test_nonlin_chrom_track_parallel.pgz'\n",
    "\n",
    "title = f'$\\mathrm{{{LTE_filepath}}}$'\n",
    "nonlin.plot_chrom(\n",
    "    output_filepath, max_chrom_order=3, title=title, deltalim=None,\n",
    "    nuxlim=[0, 0.3], nuylim=[0.1, 0.3])"
   ]
  },
  {
   "cell_type": "code",
   "execution_count": null,
   "metadata": {},
   "outputs": [],
   "source": [
    "d = util.load_pgz_file('test_nonlin_chrom_track_parallel.pgz')\n",
    "\n",
    "plt.figure()\n",
    "plt.plot(d['xtbt'][:, 0], 'b.-')\n",
    "plt.plot(d['xtbt'][:, 33], 'r.-')\n",
    "plt.plot(d['xtbt'][:, -1], 'g.-')"
   ]
  },
  {
   "cell_type": "code",
   "execution_count": null,
   "metadata": {},
   "outputs": [],
   "source": [
    "%%timeit -n 1 -r 1\n",
    "# 36.9 s ± 0 ns per loop (mean ± std. dev. of 1 run, 1 loop each) on nsls2apcluster\n",
    "# 40.4 s ± 0 ns per loop (mean ± std. dev. of 1 run, 1 loop each) on nsls2pluto\n",
    "\n",
    "output_filepath = f'test_nonlin_chrom_track_parallel_n256.pgz'\n",
    "\n",
    "n_turns = 256\n",
    "run_local = False\n",
    "remote_opts = dict(ntasks=20, status_check_interval=1.0)\n",
    "if pe.facility_name == 'nsls2apcluster':\n",
    "    remote_opts['partition'] = 'short'\n",
    "    remote_opts['time'] = '2:00'\n",
    "elif pe.facility_name == 'nsls2pluto':\n",
    "    remote_opts['partition'] = 'normal'\n",
    "    remote_opts['qos'] = 'debug'\n",
    "    remote_opts['time'] = '5:00'\n",
    "\n",
    "output_filepath = nonlin.calc_chrom_track(\n",
    "    output_filepath, LTE_filepath, E_MeV, delta_min, delta_max, ndelta,\n",
    "    n_turns=n_turns, run_local=run_local, remote_opts=remote_opts)"
   ]
  },
  {
   "cell_type": "code",
   "execution_count": null,
   "metadata": {},
   "outputs": [],
   "source": [
    "output_filepath = 'test_nonlin_chrom_track_parallel_n256.pgz'\n",
    "\n",
    "title = f'$\\mathrm{{{LTE_filepath}}}$'\n",
    "nonlin.plot_chrom(\n",
    "    output_filepath, max_chrom_order=3, title=title, deltalim=None,\n",
    "    nuxlim=[0, 0.3], nuylim=[0.1, 0.3])"
   ]
  },
  {
   "cell_type": "code",
   "execution_count": null,
   "metadata": {},
   "outputs": [],
   "source": [
    "%%timeit -n 1 -r 1\n",
    "# 37.7 s ± 0 ns per loop (mean ± std. dev. of 1 run, 1 loop each) on nsls2apcluster\n",
    "# On nsls2pluto:\n",
    "# Elapsed: Total = 35.26 [s]; Running = 30.23 [s]\n",
    "# 41.4 s ± 0 ns per loop (mean ± std. dev. of 1 run, 1 loop each)\n",
    "\n",
    "output_filepath = f'test_nonlin_chrom_track_parallel_n512.pgz'\n",
    "\n",
    "n_turns = 512\n",
    "run_local = False\n",
    "remote_opts = dict(ntasks=50, status_check_interval=1.0)\n",
    "if pe.facility_name == 'nsls2apcluster':\n",
    "    remote_opts['partition'] = 'short'\n",
    "    remote_opts['time'] = '2:00'\n",
    "elif pe.facility_name == 'nsls2pluto':\n",
    "    remote_opts['partition'] = 'normal'\n",
    "    remote_opts['qos'] = 'debug'\n",
    "    remote_opts['time'] = '5:00'\n",
    "\n",
    "output_filepath = nonlin.calc_chrom_track(\n",
    "    output_filepath, LTE_filepath, E_MeV, delta_min, delta_max, ndelta,\n",
    "    n_turns=n_turns, run_local=run_local, remote_opts=remote_opts)"
   ]
  },
  {
   "cell_type": "code",
   "execution_count": null,
   "metadata": {},
   "outputs": [],
   "source": [
    "output_filepath = 'test_nonlin_chrom_track_parallel_n512.pgz'\n",
    "\n",
    "title = f'$\\mathrm{{{LTE_filepath}}}$'\n",
    "nonlin.plot_chrom(\n",
    "    output_filepath, max_chrom_order=3, title=title, deltalim=None,\n",
    "    nuxlim=[0, 0.3], nuylim=[0.1, 0.3])"
   ]
  },
  {
   "cell_type": "code",
   "execution_count": null,
   "metadata": {},
   "outputs": [],
   "source": [
    "%%timeit -n 1 -r 1\n",
    "# 1min ± 0 ns per loop (mean ± std. dev. of 1 run, 1 loop each) on nsls2apcluster\n",
    "# On nsls2pluto:\n",
    "# Elapsed: Total = 1.01 [min]; Running = 55.43 [s]\n",
    "# 1min 7s ± 0 ns per loop (mean ± std. dev. of 1 run, 1 loop each)\n",
    "\n",
    "output_filepath = f'test_nonlin_chrom_track_parallel_n1024.pgz'\n",
    "\n",
    "n_turns = 1024\n",
    "run_local = False\n",
    "remote_opts = dict(ntasks=50, status_check_interval=1.0)\n",
    "if pe.facility_name == 'nsls2apcluster':\n",
    "    remote_opts['partition'] = 'short'\n",
    "    remote_opts['time'] = '2:00'\n",
    "elif pe.facility_name == 'nsls2pluto':\n",
    "    remote_opts['partition'] = 'normal'\n",
    "    remote_opts['qos'] = 'debug'\n",
    "    remote_opts['time'] = '5:00'\n",
    "\n",
    "output_filepath = nonlin.calc_chrom_track(\n",
    "    output_filepath, LTE_filepath, E_MeV, delta_min, delta_max, ndelta,\n",
    "    n_turns=n_turns, run_local=run_local, remote_opts=remote_opts)"
   ]
  },
  {
   "cell_type": "code",
   "execution_count": null,
   "metadata": {},
   "outputs": [],
   "source": [
    "output_filepath = 'test_nonlin_chrom_track_parallel_n1024.pgz'\n",
    "\n",
    "title = f'$\\mathrm{{{LTE_filepath}}}$'\n",
    "nonlin.plot_chrom(\n",
    "    output_filepath, max_chrom_order=3, title=title, deltalim=None,\n",
    "    nuxlim=[0, 0.3], nuylim=[0.1, 0.3])"
   ]
  },
  {
   "cell_type": "code",
   "execution_count": null,
   "metadata": {},
   "outputs": [],
   "source": []
  }
 ],
 "metadata": {
  "kernelspec": {
   "display_name": "Python 3",
   "language": "python",
   "name": "python3"
  },
  "language_info": {
   "codemirror_mode": {
    "name": "ipython",
    "version": 3
   },
   "file_extension": ".py",
   "mimetype": "text/x-python",
   "name": "python",
   "nbconvert_exporter": "python",
   "pygments_lexer": "ipython3",
   "version": "3.8.8"
  },
  "varInspector": {
   "cols": {
    "lenName": 16,
    "lenType": 16,
    "lenVar": 40
   },
   "kernels_config": {
    "python": {
     "delete_cmd_postfix": "",
     "delete_cmd_prefix": "del ",
     "library": "var_list.py",
     "varRefreshCmd": "print(var_dic_list())"
    },
    "r": {
     "delete_cmd_postfix": ") ",
     "delete_cmd_prefix": "rm(",
     "library": "var_list.r",
     "varRefreshCmd": "cat(var_dic_list()) "
    }
   },
   "types_to_exclude": [
    "module",
    "function",
    "builtin_function_or_method",
    "instance",
    "_Feature"
   ],
   "window_display": false
  }
 },
 "nbformat": 4,
 "nbformat_minor": 2
}
