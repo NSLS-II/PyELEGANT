{
 "cells": [
  {
   "cell_type": "code",
   "execution_count": null,
   "metadata": {},
   "outputs": [],
   "source": [
    "import pyelegant as pe"
   ]
  },
  {
   "cell_type": "code",
   "execution_count": null,
   "metadata": {},
   "outputs": [],
   "source": [
    "# LTE file that is the basis for the newly created LTE file. \n",
    "# This file must already exist.\n",
    "base_LTE_filepath = 'lattice3Sext_19pm3p2m_5cell.lte'\n",
    "\n",
    "# New LTE file that will be generated after running the cell below. \n",
    "# If the file path already exists, it will be overwritten.\n",
    "new_LTE_filepath = 'temp.lte'\n",
    "\n",
    "# Specify how you want to modify the base LTE, using ELEGANT's \"&alter_elements\" block.\n",
    "# As an example, here all the sextupoles are turned off in this example.\n",
    "alter_elements = dict(name='*', type='KSEXT', item='K2', value = 0.0)"
   ]
  },
  {
   "cell_type": "code",
   "execution_count": null,
   "metadata": {
    "scrolled": true
   },
   "outputs": [],
   "source": [
    "pe.eleutil.save_lattice_after_alter_elements(base_LTE_filepath, new_LTE_filepath, alter_elements)"
   ]
  }
 ],
 "metadata": {
  "kernelspec": {
   "display_name": "pyelegant-0.3",
   "language": "python",
   "name": "pyelegant-0.3"
  },
  "language_info": {
   "codemirror_mode": {
    "name": "ipython",
    "version": 3
   },
   "file_extension": ".py",
   "mimetype": "text/x-python",
   "name": "python",
   "nbconvert_exporter": "python",
   "pygments_lexer": "ipython3",
   "version": "3.7.6"
  },
  "varInspector": {
   "cols": {
    "lenName": 16,
    "lenType": 16,
    "lenVar": 40
   },
   "kernels_config": {
    "python": {
     "delete_cmd_postfix": "",
     "delete_cmd_prefix": "del ",
     "library": "var_list.py",
     "varRefreshCmd": "print(var_dic_list())"
    },
    "r": {
     "delete_cmd_postfix": ") ",
     "delete_cmd_prefix": "rm(",
     "library": "var_list.r",
     "varRefreshCmd": "cat(var_dic_list()) "
    }
   },
   "types_to_exclude": [
    "module",
    "function",
    "builtin_function_or_method",
    "instance",
    "_Feature"
   ],
   "window_display": false
  }
 },
 "nbformat": 4,
 "nbformat_minor": 2
}
