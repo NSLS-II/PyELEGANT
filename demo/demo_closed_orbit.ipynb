{
 "cells": [
  {
   "cell_type": "code",
   "execution_count": null,
   "metadata": {},
   "outputs": [],
   "source": [
    "if True:\n",
    "    %matplotlib notebook\n",
    "elif False:\n",
    "    %matplotlib inline\n",
    "else:\n",
    "    %matplotlib qt"
   ]
  },
  {
   "cell_type": "code",
   "execution_count": null,
   "metadata": {},
   "outputs": [],
   "source": [
    "import fnmatch\n",
    "import numpy as np"
   ]
  },
  {
   "cell_type": "code",
   "execution_count": null,
   "metadata": {},
   "outputs": [],
   "source": [
    "import pyelegant as pe\n",
    "from pyelegant import orbit"
   ]
  },
  {
   "cell_type": "code",
   "execution_count": null,
   "metadata": {},
   "outputs": [],
   "source": [
    "pe.disable_stdout()"
   ]
  },
  {
   "cell_type": "code",
   "execution_count": null,
   "metadata": {},
   "outputs": [],
   "source": [
    "LTE_filepath = '20170905_bare.lte'\n",
    "E_MeV = 3e3"
   ]
  },
  {
   "cell_type": "code",
   "execution_count": null,
   "metadata": {},
   "outputs": [],
   "source": [
    "clo_calc = orbit.ClosedOrbitCalculator(\n",
    "    LTE_filepath, E_MeV, fixed_length=True,\n",
    "    output_monitors_only=True, closed_orbit_accuracy=1e-9,\n",
    "    closed_orbit_iterations=200, iteration_fraction=0.2, n_turns=1,\n",
    "    use_beamline=None, N_KICKS=None, transmute_elements=None)"
   ]
  },
  {
   "cell_type": "code",
   "execution_count": null,
   "metadata": {},
   "outputs": [],
   "source": [
    "hcor_names = []\n",
    "for name, _ in clo_calc.get_all_available_kickers(spos_sorted=True)['h']:\n",
    "    if fnmatch.fnmatch(name, 'C[HLM][1-2][XY]G[2-6]*'):\n",
    "        if 'XG' in name:\n",
    "            hcor_names.append(name)\n",
    "vcor_names = []\n",
    "for name, _ in clo_calc.get_all_available_kickers(spos_sorted=True)['v']:\n",
    "    if fnmatch.fnmatch(name, 'C[HLM][1-2][XY]G[2-6]*'):\n",
    "        if 'YG' in name:\n",
    "            vcor_names.append(name)\n",
    "\n",
    "clo_calc.select_kickers('h', hcor_names)\n",
    "clo_calc.select_kickers('v', vcor_names)"
   ]
  },
  {
   "cell_type": "code",
   "execution_count": null,
   "metadata": {},
   "outputs": [],
   "source": [
    "clo_calc.get_selected_kickers('h')"
   ]
  },
  {
   "cell_type": "code",
   "execution_count": null,
   "metadata": {},
   "outputs": [],
   "source": [
    "clo_calc.get_selected_kickers('v')"
   ]
  },
  {
   "cell_type": "code",
   "execution_count": null,
   "metadata": {},
   "outputs": [],
   "source": [
    "hkick_rads = np.zeros(len(hcor_names))\n",
    "vkick_rads = np.zeros(len(vcor_names))\n",
    "hkick_rads[15] = 1.9e-3\n",
    "\n",
    "clo_calc.set_kick_angles(hkick_rads, vkick_rads)"
   ]
  },
  {
   "cell_type": "code",
   "execution_count": null,
   "metadata": {},
   "outputs": [],
   "source": [
    "d = clo_calc.calc(run_local=True)"
   ]
  },
  {
   "cell_type": "code",
   "execution_count": null,
   "metadata": {},
   "outputs": [],
   "source": [
    "orbit.plot_closed_orbit(d['columns'], d['params'])"
   ]
  },
  {
   "cell_type": "code",
   "execution_count": null,
   "metadata": {},
   "outputs": [],
   "source": [
    "clo_calc.plot()"
   ]
  },
  {
   "cell_type": "code",
   "execution_count": null,
   "metadata": {},
   "outputs": [],
   "source": []
  }
 ],
 "metadata": {
  "kernelspec": {
   "display_name": "Python 3",
   "language": "python",
   "name": "python3"
  },
  "language_info": {
   "codemirror_mode": {
    "name": "ipython",
    "version": 3
   },
   "file_extension": ".py",
   "mimetype": "text/x-python",
   "name": "python",
   "nbconvert_exporter": "python",
   "pygments_lexer": "ipython3",
   "version": "3.8.5"
  },
  "varInspector": {
   "cols": {
    "lenName": 16,
    "lenType": 16,
    "lenVar": 40
   },
   "kernels_config": {
    "python": {
     "delete_cmd_postfix": "",
     "delete_cmd_prefix": "del ",
     "library": "var_list.py",
     "varRefreshCmd": "print(var_dic_list())"
    },
    "r": {
     "delete_cmd_postfix": ") ",
     "delete_cmd_prefix": "rm(",
     "library": "var_list.r",
     "varRefreshCmd": "cat(var_dic_list()) "
    }
   },
   "types_to_exclude": [
    "module",
    "function",
    "builtin_function_or_method",
    "instance",
    "_Feature"
   ],
   "window_display": false
  }
 },
 "nbformat": 4,
 "nbformat_minor": 2
}
