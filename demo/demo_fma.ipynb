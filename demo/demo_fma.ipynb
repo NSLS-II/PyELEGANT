{
 "cells": [
  {
   "cell_type": "code",
   "execution_count": null,
   "metadata": {},
   "outputs": [],
   "source": [
    "if True:\n",
    "    %matplotlib notebook\n",
    "elif False:\n",
    "    %matplotlib inline\n",
    "else:\n",
    "    %matplotlib qt"
   ]
  },
  {
   "cell_type": "code",
   "execution_count": null,
   "metadata": {},
   "outputs": [],
   "source": [
    "import getpass\n",
    "\n",
    "import pyelegant as pe\n",
    "from pyelegant import nonlin"
   ]
  },
  {
   "cell_type": "code",
   "execution_count": null,
   "metadata": {},
   "outputs": [],
   "source": [
    "pe.disable_stdout()\n",
    "\n",
    "if True:\n",
    "    remote_mail_notifications = {}\n",
    "else:\n",
    "    username = getpass.getuser()\n",
    "    remote_mail_notifications = dict(\n",
    "        mail_type='END',\n",
    "        mail_user=f'{username}@bnl.gov',\n",
    "    )"
   ]
  },
  {
   "cell_type": "code",
   "execution_count": null,
   "metadata": {},
   "outputs": [],
   "source": [
    "LTE_filepath = 'nsls2cb65pm.lte'\n",
    "E_MeV = 3e3\n",
    "\n",
    "x_offset = y_offset = 1e-6\n",
    "xmin = -8e-3 + x_offset\n",
    "xmax = +8e-3 + x_offset\n",
    "ymin = 0.0 + y_offset\n",
    "ymax = 2e-3 + y_offset\n",
    "delta_offset = 0.0\n",
    "\n",
    "delta_min = -0.01\n",
    "delta_max = +0.005"
   ]
  },
  {
   "cell_type": "code",
   "execution_count": null,
   "metadata": {
    "scrolled": true
   },
   "outputs": [],
   "source": [
    "%%timeit -n 1 -r 1\n",
    "# 1min 31s ± 0 ns per loop (mean ± std. dev. of 1 run, 1 loop each) on nsls2apcluster\n",
    "# 2min 17s ± 0 ns per loop (mean ± std. dev. of 1 run, 1 loop each) on nsls2pluto\n",
    "\n",
    "if False:\n",
    "\n",
    "    nx = ny = 11\n",
    "    n_turns = 128\n",
    "    quadratic_spacing = False\n",
    "    full_grid_output = False\n",
    "\n",
    "    output_filepath = f'test_fma_x{nx}_y{ny}_n{n_turns}_Q{quadratic_spacing:d}_FG{full_grid_output:d}.hdf5'\n",
    "    nonlin.calc_fma_xy(\n",
    "        output_filepath, LTE_filepath, E_MeV, xmin, xmax, ymin, ymax, nx, ny,\n",
    "        n_turns=n_turns, delta_offset=delta_offset, run_local=True, del_tmp_files=True)"
   ]
  },
  {
   "cell_type": "code",
   "execution_count": null,
   "metadata": {
    "scrolled": true
   },
   "outputs": [],
   "source": [
    "output_filepath = 'test_fma_x11_y11_n128_Q0_FG0.hdf5'\n",
    "\n",
    "title = f'$\\mathrm{{{LTE_filepath}}}$'\n",
    "\n",
    "nonlin.plot_fma_xy(\n",
    "    output_filepath, title=title, xlim=[-10e-3, +10e-3],\n",
    "    is_diffusion=False, scatter=True)\n",
    "\n",
    "nonlin.plot_fma_xy(\n",
    "    output_filepath, title=title, xlim=[-10e-3, +10e-3],\n",
    "    is_diffusion=True, scatter=False)    "
   ]
  },
  {
   "cell_type": "code",
   "execution_count": null,
   "metadata": {},
   "outputs": [],
   "source": [
    "%%timeit -n 1 -r 1\n",
    "# 1min 15s ± 0 ns per loop (mean ± std. dev. of 1 run, 1 loop each) on nsls2apcluster\n",
    "# 1min 10s ± 0 ns per loop (mean ± std. dev. of 1 run, 1 loop each) on nsls2pluto\n",
    "\n",
    "nx = ny = 41\n",
    "n_turns = 128\n",
    "quadratic_spacing = False\n",
    "full_grid_output = False\n",
    "\n",
    "ntasks = 50\n",
    "\n",
    "output_filepath = f'test_fma_x{nx}_y{ny}_n{n_turns}_Q{quadratic_spacing:d}_FG{full_grid_output:d}.hdf5'\n",
    "\n",
    "remote_opts = dict(\n",
    "    pelegant=True, job_name='fma', ntasks=ntasks,\n",
    "    sbatch={'use': True, 'wait': True},\n",
    ")\n",
    "remote_opts.update(remote_mail_notifications)\n",
    "if pe.facility_name == 'nsls2apcluster':\n",
    "    remote_opts['partition'] = 'short'\n",
    "    remote_opts['time'] = '3:00'\n",
    "    #remote_opts['nodelist'] = ['apcpu-004']\n",
    "elif pe.facility_name == 'nsls2pluto':\n",
    "    remote_opts['partition'] = 'normal'\n",
    "    remote_opts['qos'] = 'debug'\n",
    "    remote_opts['time'] = '3:00'\n",
    "    #remote_opts['nodelist'] = ['hpc005']\n",
    "        \n",
    "nonlin.calc_fma_xy(\n",
    "    output_filepath, LTE_filepath, E_MeV, xmin, xmax, ymin, ymax, nx, ny,\n",
    "    n_turns=n_turns, delta_offset=delta_offset,\n",
    "    quadratic_spacing=quadratic_spacing, full_grid_output=full_grid_output,\n",
    "    del_tmp_files=True, run_local=False, remote_opts=remote_opts)\n",
    "\n",
    "print(output_filepath)"
   ]
  },
  {
   "cell_type": "code",
   "execution_count": null,
   "metadata": {
    "scrolled": false
   },
   "outputs": [],
   "source": [
    "output_filepath = 'test_fma_x41_y41_n128_Q0_FG0.hdf5'\n",
    "\n",
    "title = f'$\\mathrm{{{LTE_filepath}}}$'\n",
    "\n",
    "nonlin.plot_fma_xy(\n",
    "    output_filepath, title=title, xlim=[-10e-3, +10e-3],\n",
    "    is_diffusion=False, scatter=True)\n",
    "\n",
    "nonlin.plot_fma_xy(\n",
    "    output_filepath, title=title, xlim=[-10e-3, +10e-3],\n",
    "    is_diffusion=True, scatter=False)    "
   ]
  },
  {
   "cell_type": "code",
   "execution_count": null,
   "metadata": {},
   "outputs": [],
   "source": [
    "%%timeit -n 1 -r 1\n",
    "# 1h 25min 30s ± 0 ns per loop (mean ± std. dev. of 1 run, 1 loop each) on nsls2apcluster\n",
    "# 1h 14min 1s ± 0 ns per loop (mean ± std. dev. of 1 run, 1 loop each) on nsls2pluto\n",
    "\n",
    "if False:\n",
    "\n",
    "    nx = ny = 201\n",
    "    n_turns = 1024\n",
    "    quadratic_spacing = False\n",
    "    full_grid_output = False\n",
    "\n",
    "    ntasks = 200\n",
    "\n",
    "    output_filepath = f'test_fma_x{nx}_y{ny}_n{n_turns}_Q{quadratic_spacing:d}_FG{full_grid_output:d}.pgz'\n",
    "\n",
    "    remote_opts = dict(\n",
    "        pelegant=True, job_name='fma', ntasks=ntasks,\n",
    "        sbatch={'use': True, 'wait': True},\n",
    "    )\n",
    "    remote_opts.update(remote_mail_notifications)\n",
    "    if pe.facility_name == 'nsls2apcluster':\n",
    "        remote_opts['partition'] = 'short'\n",
    "        remote_opts['time'] = '3:00:00'\n",
    "        #remote_opts['nodelist'] = ['apcpu-004']\n",
    "    elif pe.facility_name == 'nsls2pluto':\n",
    "        remote_opts['partition'] = 'normal'\n",
    "        remote_opts['qos'] = 'normal'\n",
    "        remote_opts['time'] = '3:00:00'\n",
    "        #remote_opts['nodelist'] = ['hpc005']\n",
    "\n",
    "    nonlin.calc_fma_xy(\n",
    "        output_filepath, LTE_filepath, E_MeV, xmin, xmax, ymin, ymax, nx, ny,\n",
    "        n_turns=n_turns, delta_offset=delta_offset,\n",
    "        quadratic_spacing=quadratic_spacing, full_grid_output=full_grid_output,\n",
    "        del_tmp_files=True, run_local=False, remote_opts=remote_opts)\n",
    "\n",
    "    print(output_filepath)"
   ]
  },
  {
   "cell_type": "code",
   "execution_count": null,
   "metadata": {
    "scrolled": true
   },
   "outputs": [],
   "source": [
    "output_filepath = 'test_fma_x201_y201_n1024_Q0_FG0.pgz'\n",
    "\n",
    "title = f'$\\mathrm{{{LTE_filepath}}}$'\n",
    "\n",
    "nonlin.plot_fma_xy(\n",
    "    output_filepath, title=title, xlim=[-10e-3, +10e-3],\n",
    "    is_diffusion=False, scatter=True)\n",
    "\n",
    "nonlin.plot_fma_xy(\n",
    "    output_filepath, title=title, xlim=[-10e-3, +10e-3],\n",
    "    is_diffusion=True, scatter=False)    "
   ]
  },
  {
   "cell_type": "code",
   "execution_count": null,
   "metadata": {},
   "outputs": [],
   "source": [
    "%%timeit -n 1 -r 1\n",
    "# 26min 11s ± 0 ns per loop (mean ± std. dev. of 1 run, 1 loop each) on nsls2apcluster\n",
    "# 24min 21s ± 0 ns per loop (mean ± std. dev. of 1 run, 1 loop each) on nsls2pluto\n",
    "\n",
    "if False:\n",
    "\n",
    "    nx = ny = 201\n",
    "    n_turns = 1024\n",
    "    quadratic_spacing = True\n",
    "    full_grid_output = False\n",
    "\n",
    "    ntasks = 200\n",
    "\n",
    "    output_filepath = f'test_fma_x{nx}_y{ny}_n{n_turns}_Q{quadratic_spacing:d}_FG{full_grid_output:d}.pgz'\n",
    "\n",
    "    remote_opts = dict(\n",
    "        pelegant=True, job_name='fma', ntasks=ntasks,\n",
    "        sbatch={'use': True, 'wait': True},\n",
    "    )\n",
    "    remote_opts.update(remote_mail_notifications)\n",
    "    if pe.facility_name == 'nsls2apcluster':\n",
    "        remote_opts['partition'] = 'short'\n",
    "        remote_opts['time'] = '1:00:00'\n",
    "        #remote_opts['nodelist'] = ['apcpu-004']\n",
    "    elif pe.facility_name == 'nsls2pluto':\n",
    "        remote_opts['partition'] = 'normal'\n",
    "        remote_opts['qos'] = 'normal'\n",
    "        remote_opts['time'] = '1:00:00'\n",
    "        #remote_opts['nodelist'] = ['hpc005']\n",
    "        \n",
    "    nonlin.calc_fma_xy(\n",
    "        output_filepath, LTE_filepath, E_MeV, xmin, xmax, ymin, ymax, nx, ny,\n",
    "        n_turns=n_turns, delta_offset=delta_offset,\n",
    "        quadratic_spacing=quadratic_spacing, full_grid_output=full_grid_output,\n",
    "        del_tmp_files=True, run_local=False, remote_opts=remote_opts)\n",
    "\n",
    "    print(output_filepath)"
   ]
  },
  {
   "cell_type": "code",
   "execution_count": null,
   "metadata": {},
   "outputs": [],
   "source": [
    "output_filepath = 'test_fma_x201_y201_n1024_Q1_FG0.pgz'\n",
    "\n",
    "title = f'$\\mathrm{{{LTE_filepath}}}$'\n",
    "\n",
    "nonlin.plot_fma_xy(\n",
    "    output_filepath, title=title, xlim=[0, +10e-3],\n",
    "    is_diffusion=False, scatter=True)\n",
    "\n",
    "nonlin.plot_fma_xy(\n",
    "    output_filepath, title=title, xlim=[0, +10e-3],\n",
    "    is_diffusion=True, scatter=False)    "
   ]
  },
  {
   "cell_type": "code",
   "execution_count": null,
   "metadata": {},
   "outputs": [],
   "source": [
    "%%timeit -n 1 -r 1\n",
    "# 1min 30s ± 0 ns per loop (mean ± std. dev. of 1 run, 1 loop each) on nsls2apcluster\n",
    "# 1min 21s ± 0 ns per loop (mean ± std. dev. of 1 run, 1 loop each) on nsls2pluto\n",
    "\n",
    "nx = ndelta = 41\n",
    "n_turns = 128\n",
    "quadratic_spacing = False\n",
    "full_grid_output = False\n",
    "\n",
    "ntasks = 50\n",
    "\n",
    "output_filepath = f'test_fma_p{ndelta}_x{nx}_n{n_turns}_Q{quadratic_spacing:d}_FG{full_grid_output:d}.hdf5'\n",
    "\n",
    "remote_opts = dict(\n",
    "    pelegant=True, job_name='fma', ntasks=ntasks,\n",
    "    sbatch={'use': True, 'wait': True},\n",
    ")\n",
    "remote_opts.update(remote_mail_notifications)\n",
    "if pe.facility_name == 'nsls2apcluster':\n",
    "    remote_opts['partition'] = 'short'\n",
    "    remote_opts['time'] = '5:00'\n",
    "    #remote_opts['nodelist'] = ['apcpu-004']\n",
    "elif pe.facility_name == 'nsls2pluto':\n",
    "    remote_opts['partition'] = 'normal'\n",
    "    remote_opts['qos'] = 'debug'\n",
    "    remote_opts['time'] = '5:00'\n",
    "    #remote_opts['nodelist'] = ['hpc005']\n",
    "\n",
    "nonlin.calc_fma_px(\n",
    "    output_filepath, LTE_filepath, E_MeV, delta_min, delta_max, xmin, xmax, ndelta, nx,\n",
    "    n_turns=n_turns, y_offset=y_offset,\n",
    "    quadratic_spacing=quadratic_spacing, full_grid_output=full_grid_output,\n",
    "    del_tmp_files=True, run_local=False, remote_opts=remote_opts)\n",
    "\n",
    "print(output_filepath)"
   ]
  },
  {
   "cell_type": "code",
   "execution_count": null,
   "metadata": {},
   "outputs": [],
   "source": [
    "output_filepath = 'test_fma_p41_x41_n128_Q0_FG0.hdf5'\n",
    "\n",
    "title = f'$\\mathrm{{{LTE_filepath}}}$'\n",
    "\n",
    "nonlin.plot_fma_px(\n",
    "    output_filepath, title=title, xlim=[-10e-3, +10e-3],\n",
    "    is_diffusion=False, scatter=True)\n",
    "\n",
    "nonlin.plot_fma_px(\n",
    "    output_filepath, title=title, xlim=[-10e-3, +10e-3],\n",
    "    is_diffusion=True, scatter=False)    "
   ]
  },
  {
   "cell_type": "code",
   "execution_count": null,
   "metadata": {},
   "outputs": [],
   "source": []
  }
 ],
 "metadata": {
  "kernelspec": {
   "display_name": "Python 3",
   "language": "python",
   "name": "python3"
  },
  "language_info": {
   "codemirror_mode": {
    "name": "ipython",
    "version": 3
   },
   "file_extension": ".py",
   "mimetype": "text/x-python",
   "name": "python",
   "nbconvert_exporter": "python",
   "pygments_lexer": "ipython3",
   "version": "3.8.8"
  },
  "varInspector": {
   "cols": {
    "lenName": 16,
    "lenType": 16,
    "lenVar": 40
   },
   "kernels_config": {
    "python": {
     "delete_cmd_postfix": "",
     "delete_cmd_prefix": "del ",
     "library": "var_list.py",
     "varRefreshCmd": "print(var_dic_list())"
    },
    "r": {
     "delete_cmd_postfix": ") ",
     "delete_cmd_prefix": "rm(",
     "library": "var_list.r",
     "varRefreshCmd": "cat(var_dic_list()) "
    }
   },
   "types_to_exclude": [
    "module",
    "function",
    "builtin_function_or_method",
    "instance",
    "_Feature"
   ],
   "window_display": false
  }
 },
 "nbformat": 4,
 "nbformat_minor": 2
}
